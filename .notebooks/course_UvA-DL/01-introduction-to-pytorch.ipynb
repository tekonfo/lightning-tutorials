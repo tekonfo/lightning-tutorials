{
  "nbformat": 4,
  "nbformat_minor": 5,
  "metadata": {
    "jupytext": {
      "cell_metadata_filter": "colab_type,colab,id,-all",
      "formats": "ipynb,py:percent",
      "main_language": "python"
    },
    "papermill": {
      "default_parameters": {},
      "duration": 58.048698,
      "end_time": "2021-11-01T12:54:22.295001",
      "environment_variables": {},
      "exception": null,
      "input_path": "course_UvA-DL/01-introduction-to-pytorch/Introduction_to_PyTorch.ipynb",
      "output_path": ".notebooks/course_UvA-DL/01-introduction-to-pytorch.ipynb",
      "parameters": {},
      "start_time": "2021-11-01T12:53:24.246303",
      "version": "2.3.3"
    },
    "widgets": {
      "application/vnd.jupyter.widget-state+json": {
        "e1f13319eaa74e2798e21ee3e046e3b7": {
          "model_module": "@jupyter-widgets/controls",
          "model_name": "HBoxModel",
          "model_module_version": "1.5.0",
          "state": {
            "_view_name": "HBoxView",
            "_dom_classes": [],
            "_model_name": "HBoxModel",
            "_view_module": "@jupyter-widgets/controls",
            "_model_module_version": "1.5.0",
            "_view_count": null,
            "_view_module_version": "1.5.0",
            "box_style": "",
            "layout": "IPY_MODEL_f33d03a822a54439b4ce41bb5e7d39c2",
            "_model_module": "@jupyter-widgets/controls",
            "children": [
              "IPY_MODEL_a98e1a8ee9454102a8c3edb1caf2fc2e",
              "IPY_MODEL_b49d8fcde8f74fbe8cf38b771778efc6",
              "IPY_MODEL_1be84a9082ab4eaeb662777a51b25aed"
            ]
          }
        },
        "f33d03a822a54439b4ce41bb5e7d39c2": {
          "model_module": "@jupyter-widgets/base",
          "model_name": "LayoutModel",
          "model_module_version": "1.2.0",
          "state": {
            "_view_name": "LayoutView",
            "grid_template_rows": null,
            "right": null,
            "justify_content": null,
            "_view_module": "@jupyter-widgets/base",
            "overflow": null,
            "_model_module_version": "1.2.0",
            "_view_count": null,
            "flex_flow": null,
            "width": null,
            "min_width": null,
            "border": null,
            "align_items": null,
            "bottom": null,
            "_model_module": "@jupyter-widgets/base",
            "top": null,
            "grid_column": null,
            "overflow_y": null,
            "overflow_x": null,
            "grid_auto_flow": null,
            "grid_area": null,
            "grid_template_columns": null,
            "flex": null,
            "_model_name": "LayoutModel",
            "justify_items": null,
            "grid_row": null,
            "max_height": null,
            "align_content": null,
            "visibility": null,
            "align_self": null,
            "height": null,
            "min_height": null,
            "padding": null,
            "grid_auto_rows": null,
            "grid_gap": null,
            "max_width": null,
            "order": null,
            "_view_module_version": "1.2.0",
            "grid_template_areas": null,
            "object_position": null,
            "object_fit": null,
            "grid_auto_columns": null,
            "margin": null,
            "display": null,
            "left": null
          }
        },
        "a98e1a8ee9454102a8c3edb1caf2fc2e": {
          "model_module": "@jupyter-widgets/controls",
          "model_name": "HTMLModel",
          "model_module_version": "1.5.0",
          "state": {
            "_view_name": "HTMLView",
            "style": "IPY_MODEL_6a16a08b3c644dc7990756201cd84cde",
            "_dom_classes": [],
            "description": "",
            "_model_name": "HTMLModel",
            "placeholder": "​",
            "_view_module": "@jupyter-widgets/controls",
            "_model_module_version": "1.5.0",
            "value": "100%",
            "_view_count": null,
            "_view_module_version": "1.5.0",
            "description_tooltip": null,
            "_model_module": "@jupyter-widgets/controls",
            "layout": "IPY_MODEL_ffff537a177d493d88525393e3029d95"
          }
        },
        "b49d8fcde8f74fbe8cf38b771778efc6": {
          "model_module": "@jupyter-widgets/controls",
          "model_name": "FloatProgressModel",
          "model_module_version": "1.5.0",
          "state": {
            "_view_name": "ProgressView",
            "style": "IPY_MODEL_269c0fcb1bb44792889e5c2a90ed43d2",
            "_dom_classes": [],
            "description": "",
            "_model_name": "FloatProgressModel",
            "bar_style": "success",
            "max": 100,
            "_view_module": "@jupyter-widgets/controls",
            "_model_module_version": "1.5.0",
            "value": 100,
            "_view_count": null,
            "_view_module_version": "1.5.0",
            "orientation": "horizontal",
            "min": 0,
            "description_tooltip": null,
            "_model_module": "@jupyter-widgets/controls",
            "layout": "IPY_MODEL_03c64261ec214edf9e4557a75322239f"
          }
        },
        "1be84a9082ab4eaeb662777a51b25aed": {
          "model_module": "@jupyter-widgets/controls",
          "model_name": "HTMLModel",
          "model_module_version": "1.5.0",
          "state": {
            "_view_name": "HTMLView",
            "style": "IPY_MODEL_10ea3f20d74b4bf488eb0d052cbd16d0",
            "_dom_classes": [],
            "description": "",
            "_model_name": "HTMLModel",
            "placeholder": "​",
            "_view_module": "@jupyter-widgets/controls",
            "_model_module_version": "1.5.0",
            "value": " 100/100 [00:01&lt;00:00, 58.79it/s]",
            "_view_count": null,
            "_view_module_version": "1.5.0",
            "description_tooltip": null,
            "_model_module": "@jupyter-widgets/controls",
            "layout": "IPY_MODEL_f4e3f0bbe11d4e22af761ce066000dc7"
          }
        },
        "6a16a08b3c644dc7990756201cd84cde": {
          "model_module": "@jupyter-widgets/controls",
          "model_name": "DescriptionStyleModel",
          "model_module_version": "1.5.0",
          "state": {
            "_view_name": "StyleView",
            "_model_name": "DescriptionStyleModel",
            "description_width": "",
            "_view_module": "@jupyter-widgets/base",
            "_model_module_version": "1.5.0",
            "_view_count": null,
            "_view_module_version": "1.2.0",
            "_model_module": "@jupyter-widgets/controls"
          }
        },
        "ffff537a177d493d88525393e3029d95": {
          "model_module": "@jupyter-widgets/base",
          "model_name": "LayoutModel",
          "model_module_version": "1.2.0",
          "state": {
            "_view_name": "LayoutView",
            "grid_template_rows": null,
            "right": null,
            "justify_content": null,
            "_view_module": "@jupyter-widgets/base",
            "overflow": null,
            "_model_module_version": "1.2.0",
            "_view_count": null,
            "flex_flow": null,
            "width": null,
            "min_width": null,
            "border": null,
            "align_items": null,
            "bottom": null,
            "_model_module": "@jupyter-widgets/base",
            "top": null,
            "grid_column": null,
            "overflow_y": null,
            "overflow_x": null,
            "grid_auto_flow": null,
            "grid_area": null,
            "grid_template_columns": null,
            "flex": null,
            "_model_name": "LayoutModel",
            "justify_items": null,
            "grid_row": null,
            "max_height": null,
            "align_content": null,
            "visibility": null,
            "align_self": null,
            "height": null,
            "min_height": null,
            "padding": null,
            "grid_auto_rows": null,
            "grid_gap": null,
            "max_width": null,
            "order": null,
            "_view_module_version": "1.2.0",
            "grid_template_areas": null,
            "object_position": null,
            "object_fit": null,
            "grid_auto_columns": null,
            "margin": null,
            "display": null,
            "left": null
          }
        },
        "269c0fcb1bb44792889e5c2a90ed43d2": {
          "model_module": "@jupyter-widgets/controls",
          "model_name": "ProgressStyleModel",
          "model_module_version": "1.5.0",
          "state": {
            "_view_name": "StyleView",
            "_model_name": "ProgressStyleModel",
            "description_width": "",
            "_view_module": "@jupyter-widgets/base",
            "_model_module_version": "1.5.0",
            "_view_count": null,
            "_view_module_version": "1.2.0",
            "bar_color": null,
            "_model_module": "@jupyter-widgets/controls"
          }
        },
        "03c64261ec214edf9e4557a75322239f": {
          "model_module": "@jupyter-widgets/base",
          "model_name": "LayoutModel",
          "model_module_version": "1.2.0",
          "state": {
            "_view_name": "LayoutView",
            "grid_template_rows": null,
            "right": null,
            "justify_content": null,
            "_view_module": "@jupyter-widgets/base",
            "overflow": null,
            "_model_module_version": "1.2.0",
            "_view_count": null,
            "flex_flow": null,
            "width": null,
            "min_width": null,
            "border": null,
            "align_items": null,
            "bottom": null,
            "_model_module": "@jupyter-widgets/base",
            "top": null,
            "grid_column": null,
            "overflow_y": null,
            "overflow_x": null,
            "grid_auto_flow": null,
            "grid_area": null,
            "grid_template_columns": null,
            "flex": null,
            "_model_name": "LayoutModel",
            "justify_items": null,
            "grid_row": null,
            "max_height": null,
            "align_content": null,
            "visibility": null,
            "align_self": null,
            "height": null,
            "min_height": null,
            "padding": null,
            "grid_auto_rows": null,
            "grid_gap": null,
            "max_width": null,
            "order": null,
            "_view_module_version": "1.2.0",
            "grid_template_areas": null,
            "object_position": null,
            "object_fit": null,
            "grid_auto_columns": null,
            "margin": null,
            "display": null,
            "left": null
          }
        },
        "10ea3f20d74b4bf488eb0d052cbd16d0": {
          "model_module": "@jupyter-widgets/controls",
          "model_name": "DescriptionStyleModel",
          "model_module_version": "1.5.0",
          "state": {
            "_view_name": "StyleView",
            "_model_name": "DescriptionStyleModel",
            "description_width": "",
            "_view_module": "@jupyter-widgets/base",
            "_model_module_version": "1.5.0",
            "_view_count": null,
            "_view_module_version": "1.2.0",
            "_model_module": "@jupyter-widgets/controls"
          }
        },
        "f4e3f0bbe11d4e22af761ce066000dc7": {
          "model_module": "@jupyter-widgets/base",
          "model_name": "LayoutModel",
          "model_module_version": "1.2.0",
          "state": {
            "_view_name": "LayoutView",
            "grid_template_rows": null,
            "right": null,
            "justify_content": null,
            "_view_module": "@jupyter-widgets/base",
            "overflow": null,
            "_model_module_version": "1.2.0",
            "_view_count": null,
            "flex_flow": null,
            "width": null,
            "min_width": null,
            "border": null,
            "align_items": null,
            "bottom": null,
            "_model_module": "@jupyter-widgets/base",
            "top": null,
            "grid_column": null,
            "overflow_y": null,
            "overflow_x": null,
            "grid_auto_flow": null,
            "grid_area": null,
            "grid_template_columns": null,
            "flex": null,
            "_model_name": "LayoutModel",
            "justify_items": null,
            "grid_row": null,
            "max_height": null,
            "align_content": null,
            "visibility": null,
            "align_self": null,
            "height": null,
            "min_height": null,
            "padding": null,
            "grid_auto_rows": null,
            "grid_gap": null,
            "max_width": null,
            "order": null,
            "_view_module_version": "1.2.0",
            "grid_template_areas": null,
            "object_position": null,
            "object_fit": null,
            "grid_auto_columns": null,
            "margin": null,
            "display": null,
            "left": null
          }
        }
      }
    },
    "colab": {
      "name": "01-introduction-to-pytorch.ipynb",
      "provenance": []
    },
    "language_info": {
      "name": "python"
    },
    "kernelspec": {
      "name": "python3",
      "display_name": "Python 3"
    },
    "accelerator": "GPU"
  },
  "cells": [
    {
      "cell_type": "markdown",
      "metadata": {
        "papermill": {
          "duration": 0.184234,
          "end_time": "2021-11-01T12:53:25.861842",
          "exception": false,
          "start_time": "2021-11-01T12:53:25.677608",
          "status": "completed"
        },
        "tags": [],
        "id": "6e4ba87b"
      },
      "source": [
        "\n",
        "# Tutorial 1: Introduction to PyTorch\n",
        "\n",
        "* **Author:** Phillip Lippe\n",
        "* **License:** CC BY-SA\n",
        "* **Generated:** 2021-11-01T13:53:15.756718\n",
        "\n",
        "This tutorial will give a short introduction to PyTorch basics, and get you setup for writing your own neural networks.\n",
        "This notebook is part of a lecture series on Deep Learning at the University of Amsterdam.\n",
        "The full list of tutorials can be found at https://uvadlc-notebooks.rtfd.io.\n",
        "\n",
        "\n",
        "---\n",
        "Open in [![Open In Colab](data:image/png;base64,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){height=\"20px\" width=\"117px\"}](https://colab.research.google.com/github/PytorchLightning/lightning-tutorials/blob/publication/.notebooks/course_UvA-DL/01-introduction-to-pytorch.ipynb)\n",
        "\n",
        "Give us a ⭐ [on Github](https://www.github.com/PytorchLightning/pytorch-lightning/)\n",
        "| Check out [the documentation](https://pytorch-lightning.readthedocs.io/en/latest/)\n",
        "| Join us [on Slack](https://join.slack.com/t/pytorch-lightning/shared_invite/zt-pw5v393p-qRaDgEk24~EjiZNBpSQFgQ)"
      ],
      "id": "6e4ba87b"
    },
    {
      "cell_type": "markdown",
      "metadata": {
        "papermill": {
          "duration": 0.186321,
          "end_time": "2021-11-01T12:53:26.228089",
          "exception": false,
          "start_time": "2021-11-01T12:53:26.041768",
          "status": "completed"
        },
        "tags": [],
        "id": "be75f91b"
      },
      "source": [
        "## Setup\n",
        "This notebook requires some packages besides pytorch-lightning."
      ],
      "id": "be75f91b"
    },
    {
      "cell_type": "code",
      "metadata": {
        "execution": {
          "iopub.execute_input": "2021-11-01T12:53:26.597912Z",
          "iopub.status.busy": "2021-11-01T12:53:26.597438Z",
          "iopub.status.idle": "2021-11-01T12:53:26.599953Z",
          "shell.execute_reply": "2021-11-01T12:53:26.599382Z"
        },
        "id": "fd8e8583",
        "lines_to_next_cell": 0,
        "papermill": {
          "duration": 0.191398,
          "end_time": "2021-11-01T12:53:26.600070",
          "exception": false,
          "start_time": "2021-11-01T12:53:26.408672",
          "status": "completed"
        },
        "tags": []
      },
      "source": [
        "# ! pip install --quiet \"torch>=1.6, <1.9\" \"matplotlib\" \"torchmetrics>=0.3\" \"pytorch-lightning>=1.3\""
      ],
      "id": "fd8e8583",
      "execution_count": 3,
      "outputs": []
    },
    {
      "cell_type": "markdown",
      "metadata": {
        "papermill": {
          "duration": 0.188063,
          "end_time": "2021-11-01T12:53:26.983788",
          "exception": false,
          "start_time": "2021-11-01T12:53:26.795725",
          "status": "completed"
        },
        "tags": [],
        "id": "a910039f"
      },
      "source": [
        "<div class=\"center-wrapper\"><div class=\"video-wrapper\"><iframe src=\"https://www.youtube.com/embed/wnKZZgFQY-E\" title=\"YouTube video player\" frameborder=\"0\" allow=\"accelerometer; autoplay; clipboard-write; encrypted-media; gyroscope; picture-in-picture\" allowfullscreen></iframe></div></div>\n",
        "Welcome to our PyTorch tutorial for the Deep Learning course 2020 at the University of Amsterdam!\n",
        "The following notebook is meant to give a short introduction to PyTorch basics, and get you setup for writing your own neural networks.\n",
        "PyTorch is an open source machine learning framework that allows you to write your own neural networks and optimize them efficiently.\n",
        "However, PyTorch is not the only framework of its kind.\n",
        "Alternatives to PyTorch include [TensorFlow](https://www.tensorflow.org/), [JAX](https://github.com/google/jax#quickstart-colab-in-the-cloud) and [Caffe](http://caffe.berkeleyvision.org/).\n",
        "We choose to teach PyTorch at the University of Amsterdam because it is well established, has a huge developer community (originally developed by Facebook), is very flexible and especially used in research.\n",
        "Many current papers publish their code in PyTorch, and thus it is good to be familiar with PyTorch as well.\n",
        "Meanwhile, TensorFlow (developed by Google) is usually known for being a production-grade deep learning library.\n",
        "Still, if you know one machine learning framework in depth, it is very easy to learn another one because many of them use the same concepts and ideas.\n",
        "For instance, TensorFlow's version 2 was heavily inspired by the most popular features of PyTorch, making the frameworks even more similar.\n",
        "If you are already familiar with PyTorch and have created your own neural network projects, feel free to just skim this notebook.\n",
        "\n",
        "We are of course not the first ones to create a PyTorch tutorial.\n",
        "There are many great tutorials online, including the [\"60-min blitz\"](https://pytorch.org/tutorials/beginner/deep_learning_60min_blitz.html) on the official [PyTorch website](https://pytorch.org/tutorials/).\n",
        "Yet, we choose to create our own tutorial which is designed to give you the basics particularly necessary for the practicals, but still understand how PyTorch works under the hood.\n",
        "Over the next few weeks, we will also keep exploring new PyTorch features in the series of Jupyter notebook tutorials about deep learning.\n",
        "\n",
        "We will use a set of standard libraries that are often used in machine learning projects.\n",
        "If you are running this notebook on Google Colab, all libraries should be pre-installed.\n",
        "If you are running this notebook locally, make sure you have installed our `dl2020` environment ([link](https://github.com/uvadlc/uvadlc_practicals_2020/blob/master/environment.yml)) and have activated it."
      ],
      "id": "a910039f"
    },
    {
      "cell_type": "code",
      "metadata": {
        "execution": {
          "iopub.execute_input": "2021-11-01T12:53:27.363916Z",
          "iopub.status.busy": "2021-11-01T12:53:27.363438Z",
          "iopub.status.idle": "2021-11-01T12:53:28.316845Z",
          "shell.execute_reply": "2021-11-01T12:53:28.317226Z"
        },
        "papermill": {
          "duration": 1.147956,
          "end_time": "2021-11-01T12:53:28.317363",
          "exception": false,
          "start_time": "2021-11-01T12:53:27.169407",
          "status": "completed"
        },
        "tags": [],
        "id": "499f7513"
      },
      "source": [
        "import time\n",
        "\n",
        "import matplotlib.pyplot as plt\n",
        "import numpy as np\n",
        "import torch\n",
        "import torch.nn as nn\n",
        "import torch.utils.data as data\n",
        "\n",
        "# %matplotlib inline\n",
        "from IPython.display import set_matplotlib_formats\n",
        "from matplotlib.colors import to_rgba\n",
        "from tqdm.notebook import tqdm  # Progress bar\n",
        "\n",
        "set_matplotlib_formats(\"svg\", \"pdf\")"
      ],
      "id": "499f7513",
      "execution_count": 4,
      "outputs": []
    },
    {
      "cell_type": "markdown",
      "metadata": {
        "papermill": {
          "duration": 0.181828,
          "end_time": "2021-11-01T12:53:28.682338",
          "exception": false,
          "start_time": "2021-11-01T12:53:28.500510",
          "status": "completed"
        },
        "tags": [],
        "id": "f044887f"
      },
      "source": [
        "## The Basics of PyTorch\n",
        "\n",
        "We will start with reviewing the very basic concepts of PyTorch.\n",
        "As a prerequisite, we recommend to be familiar with the `numpy` package as most machine learning frameworks are based on very similar concepts.\n",
        "If you are not familiar with numpy yet, don't worry: here is a [tutorial](https://numpy.org/devdocs/user/quickstart.html) to go through.\n",
        "\n",
        "So, let's start with importing PyTorch.\n",
        "The package is called `torch`, based on its original framework [Torch](http://torch.ch/).\n",
        "As a first step, we can check its version:"
      ],
      "id": "f044887f"
    },
    {
      "cell_type": "code",
      "metadata": {
        "execution": {
          "iopub.execute_input": "2021-11-01T12:53:29.056043Z",
          "iopub.status.busy": "2021-11-01T12:53:29.055554Z",
          "iopub.status.idle": "2021-11-01T12:53:29.060801Z",
          "shell.execute_reply": "2021-11-01T12:53:29.057759Z"
        },
        "papermill": {
          "duration": 0.196059,
          "end_time": "2021-11-01T12:53:29.060926",
          "exception": false,
          "start_time": "2021-11-01T12:53:28.864867",
          "status": "completed"
        },
        "tags": [],
        "id": "5a6fdf8b",
        "outputId": "dfcf43fa-7966-4c71-f523-76953f94484b",
        "colab": {
          "base_uri": "https://localhost:8080/"
        }
      },
      "source": [
        "print(\"Using torch\", torch.__version__)"
      ],
      "id": "5a6fdf8b",
      "execution_count": 3,
      "outputs": [
        {
          "output_type": "stream",
          "name": "stdout",
          "text": [
            "Using torch 1.9.0+cu111\n"
          ]
        }
      ]
    },
    {
      "cell_type": "markdown",
      "metadata": {
        "papermill": {
          "duration": 0.185749,
          "end_time": "2021-11-01T12:53:29.437192",
          "exception": false,
          "start_time": "2021-11-01T12:53:29.251443",
          "status": "completed"
        },
        "tags": [],
        "id": "f402d89d"
      },
      "source": [
        "At the time of writing this tutorial (mid of August 2021), the current stable version is 1.9.\n",
        "You should therefore see the output `Using torch 1.9.0`, eventually with some extension for the CUDA version on Colab.\n",
        "In case you use the `dl2020` environment, you should see `Using torch 1.6.0` since the environment was provided in October 2020.\n",
        "It is recommended to update the PyTorch version to the newest one.\n",
        "If you see a lower version number than 1.6, make sure you have installed the correct the environment, or ask one of your TAs.\n",
        "In case PyTorch 1.10 or newer will be published during the time of the course, don't worry.\n",
        "The interface between PyTorch versions doesn't change too much, and hence all code should also be runnable with newer versions.\n",
        "\n",
        "As in every machine learning framework, PyTorch provides functions that are stochastic like generating random numbers.\n",
        "However, a very good practice is to setup your code to be reproducible with the exact same random numbers.\n",
        "This is why we set a seed below."
      ],
      "id": "f402d89d"
    },
    {
      "cell_type": "code",
      "metadata": {
        "execution": {
          "iopub.execute_input": "2021-11-01T12:53:29.808359Z",
          "iopub.status.busy": "2021-11-01T12:53:29.807895Z",
          "iopub.status.idle": "2021-11-01T12:53:29.812860Z",
          "shell.execute_reply": "2021-11-01T12:53:29.813238Z"
        },
        "papermill": {
          "duration": 0.191906,
          "end_time": "2021-11-01T12:53:29.813358",
          "exception": false,
          "start_time": "2021-11-01T12:53:29.621452",
          "status": "completed"
        },
        "tags": [],
        "id": "58cb84a6",
        "outputId": "0a0b5b4c-6de8-41c1-c6b3-489f9a11f95c"
      },
      "source": [
        "torch.manual_seed(42)  # Setting the seed"
      ],
      "id": "58cb84a6",
      "execution_count": null,
      "outputs": [
        {
          "data": {
            "text/plain": [
              "<torch._C.Generator at 0x7fca282b3b10>"
            ]
          },
          "execution_count": 4,
          "metadata": {},
          "output_type": "execute_result"
        }
      ]
    },
    {
      "cell_type": "markdown",
      "metadata": {
        "papermill": {
          "duration": 0.184944,
          "end_time": "2021-11-01T12:53:30.185294",
          "exception": false,
          "start_time": "2021-11-01T12:53:30.000350",
          "status": "completed"
        },
        "tags": [],
        "id": "efd7ab4a"
      },
      "source": [
        "### Tensors\n",
        "\n",
        "Tensors are the PyTorch equivalent to Numpy arrays, with the addition to also have support for GPU acceleration (more on that later).\n",
        "The name \"tensor\" is a generalization of concepts you already know.\n",
        "For instance, a vector is a 1-D tensor, and a matrix a 2-D tensor.\n",
        "When working with neural networks, we will use tensors of various shapes and number of dimensions.\n",
        "\n",
        "Most common functions you know from numpy can be used on tensors as well.\n",
        "Actually, since numpy arrays are so similar to tensors, we can convert most tensors to numpy arrays (and back) but we don't need it too often.\n",
        "\n",
        "#### Initialization\n",
        "\n",
        "Let's first start by looking at different ways of creating a tensor.\n",
        "There are many possible options, the most simple one is to call\n",
        "`torch.Tensor` passing the desired shape as input argument:"
      ],
      "id": "efd7ab4a"
    },
    {
      "cell_type": "markdown",
      "metadata": {
        "id": "4fbfeed3"
      },
      "source": [
        "x = torch.Tensor(2, 3, 4)\n",
        "print(x)"
      ],
      "id": "4fbfeed3"
    },
    {
      "cell_type": "markdown",
      "metadata": {
        "id": "hC9LPaE3HKfM"
      },
      "source": [
        ""
      ],
      "id": "hC9LPaE3HKfM"
    },
    {
      "cell_type": "markdown",
      "metadata": {
        "id": "VSg4_-KcHNDS"
      },
      "source": [
        ""
      ],
      "id": "VSg4_-KcHNDS"
    },
    {
      "cell_type": "markdown",
      "metadata": {
        "id": "45L88YJ-HVN9"
      },
      "source": [
        ""
      ],
      "id": "45L88YJ-HVN9"
    },
    {
      "cell_type": "code",
      "metadata": {
        "id": "v-HHxKvCHN9d"
      },
      "source": [
        "x = torch.tensor(2.3, requires_grad=True)"
      ],
      "id": "v-HHxKvCHN9d",
      "execution_count": 38,
      "outputs": []
    },
    {
      "cell_type": "code",
      "metadata": {
        "id": "XbqzUaWLHXIN"
      },
      "source": [
        "y = 4.5*x + 2"
      ],
      "id": "XbqzUaWLHXIN",
      "execution_count": 39,
      "outputs": []
    },
    {
      "cell_type": "code",
      "metadata": {
        "id": "htAz0YXSHOLu"
      },
      "source": [
        "y.backward()"
      ],
      "id": "htAz0YXSHOLu",
      "execution_count": 40,
      "outputs": []
    },
    {
      "cell_type": "code",
      "metadata": {
        "id": "XEFl1zDFHSr8",
        "outputId": "dfb09356-9904-4c4a-bb7c-9f32895748ad",
        "colab": {
          "base_uri": "https://localhost:8080/"
        }
      },
      "source": [
        "\n",
        "print(x)\n",
        "print(y)\n",
        "print(x.grad)"
      ],
      "id": "XEFl1zDFHSr8",
      "execution_count": 41,
      "outputs": [
        {
          "output_type": "stream",
          "name": "stdout",
          "text": [
            "tensor(2.3000, requires_grad=True)\n",
            "tensor(12.3500, grad_fn=<AddBackward0>)\n",
            "tensor(4.5000)\n"
          ]
        }
      ]
    },
    {
      "cell_type": "markdown",
      "metadata": {
        "papermill": {
          "duration": 0.198059,
          "end_time": "2021-11-01T12:53:30.950874",
          "exception": false,
          "start_time": "2021-11-01T12:53:30.752815",
          "status": "completed"
        },
        "tags": [],
        "id": "da43cb2f"
      },
      "source": [
        "The function `torch.Tensor` allocates memory for the desired tensor, but reuses any values that have already been in the memory.\n",
        "To directly assign values to the tensor during initialization, there are many alternatives including:\n",
        "\n",
        "* `torch.zeros`: Creates a tensor filled with zeros\n",
        "* `torch.ones`: Creates a tensor filled with ones\n",
        "* `torch.rand`: Creates a tensor with random values uniformly sampled between 0 and 1\n",
        "* `torch.randn`: Creates a tensor with random values sampled from a normal distribution with mean 0 and variance 1\n",
        "* `torch.arange`: Creates a tensor containing the values $N,N+1,N+2,...,M$\n",
        "* `torch.Tensor` (input list): Creates a tensor from the list elements you provide"
      ],
      "id": "da43cb2f"
    },
    {
      "cell_type": "code",
      "metadata": {
        "execution": {
          "iopub.execute_input": "2021-11-01T12:53:31.334160Z",
          "iopub.status.busy": "2021-11-01T12:53:31.333695Z",
          "iopub.status.idle": "2021-11-01T12:53:31.337365Z",
          "shell.execute_reply": "2021-11-01T12:53:31.336852Z"
        },
        "papermill": {
          "duration": 0.195122,
          "end_time": "2021-11-01T12:53:31.337474",
          "exception": false,
          "start_time": "2021-11-01T12:53:31.142352",
          "status": "completed"
        },
        "tags": [],
        "id": "f752162f",
        "outputId": "f04e8c6d-9093-4036-8323-73cfdadbc9d2"
      },
      "source": [
        "# Create a tensor from a (nested) list\n",
        "x = torch.Tensor([[1, 2], [3, 4]])\n",
        "print(x)"
      ],
      "id": "f752162f",
      "execution_count": null,
      "outputs": [
        {
          "name": "stdout",
          "output_type": "stream",
          "text": [
            "tensor([[1., 2.],\n",
            "        [3., 4.]])\n"
          ]
        }
      ]
    },
    {
      "cell_type": "code",
      "metadata": {
        "execution": {
          "iopub.execute_input": "2021-11-01T12:53:31.724905Z",
          "iopub.status.busy": "2021-11-01T12:53:31.724438Z",
          "iopub.status.idle": "2021-11-01T12:53:31.727849Z",
          "shell.execute_reply": "2021-11-01T12:53:31.727448Z"
        },
        "papermill": {
          "duration": 0.200879,
          "end_time": "2021-11-01T12:53:31.727952",
          "exception": false,
          "start_time": "2021-11-01T12:53:31.527073",
          "status": "completed"
        },
        "tags": [],
        "id": "4e451896",
        "outputId": "d68ea7f5-e1b1-4cad-ac00-01ede56d7998",
        "colab": {
          "base_uri": "https://localhost:8080/"
        }
      },
      "source": [
        "# Create a tensor with random values between 0 and 1 with the shape [2, 3, 4]\n",
        "x = torch.rand(1, 3, 4)\n",
        "print(x)"
      ],
      "id": "4e451896",
      "execution_count": 10,
      "outputs": [
        {
          "output_type": "stream",
          "name": "stdout",
          "text": [
            "tensor([[[0.4631, 0.3271, 0.5639, 0.4392],\n",
            "         [0.7011, 0.5839, 0.6744, 0.7094],\n",
            "         [0.8559, 0.4628, 0.7284, 0.6167]]])\n"
          ]
        }
      ]
    },
    {
      "cell_type": "markdown",
      "metadata": {
        "papermill": {
          "duration": 0.192303,
          "end_time": "2021-11-01T12:53:32.116321",
          "exception": false,
          "start_time": "2021-11-01T12:53:31.924018",
          "status": "completed"
        },
        "tags": [],
        "id": "ead0dbdf"
      },
      "source": [
        "You can obtain the shape of a tensor in the same way as in numpy (`x.shape`), or using the `.size` method:"
      ],
      "id": "ead0dbdf"
    },
    {
      "cell_type": "code",
      "metadata": {
        "execution": {
          "iopub.execute_input": "2021-11-01T12:53:32.500336Z",
          "iopub.status.busy": "2021-11-01T12:53:32.499850Z",
          "iopub.status.idle": "2021-11-01T12:53:32.502558Z",
          "shell.execute_reply": "2021-11-01T12:53:32.502960Z"
        },
        "papermill": {
          "duration": 0.198255,
          "end_time": "2021-11-01T12:53:32.503081",
          "exception": false,
          "start_time": "2021-11-01T12:53:32.304826",
          "status": "completed"
        },
        "tags": [],
        "id": "f82120ec",
        "outputId": "df49274b-267f-47f9-fcc1-877c0a2a1810",
        "colab": {
          "base_uri": "https://localhost:8080/"
        }
      },
      "source": [
        "shape = x.shape\n",
        "print(\"Shape:\", x.shape)\n",
        "\n",
        "size = x.size()\n",
        "print(\"Size:\", size)\n",
        "\n",
        "dim1, dim2, dim3 = x.size()\n",
        "print(\"Size:\", dim1, dim2, dim3)"
      ],
      "id": "f82120ec",
      "execution_count": 11,
      "outputs": [
        {
          "output_type": "stream",
          "name": "stdout",
          "text": [
            "Shape: torch.Size([1, 3, 4])\n",
            "Size: torch.Size([1, 3, 4])\n",
            "Size: 1 3 4\n"
          ]
        }
      ]
    },
    {
      "cell_type": "markdown",
      "metadata": {
        "papermill": {
          "duration": 0.188594,
          "end_time": "2021-11-01T12:53:32.880295",
          "exception": false,
          "start_time": "2021-11-01T12:53:32.691701",
          "status": "completed"
        },
        "tags": [],
        "id": "b0f7bb79"
      },
      "source": [
        "#### Tensor to Numpy, and Numpy to Tensor\n",
        "\n",
        "Tensors can be converted to numpy arrays, and numpy arrays back to tensors.\n",
        "To transform a numpy array into a tensor, we can use the function `torch.from_numpy`:"
      ],
      "id": "b0f7bb79"
    },
    {
      "cell_type": "code",
      "metadata": {
        "execution": {
          "iopub.execute_input": "2021-11-01T12:53:33.265072Z",
          "iopub.status.busy": "2021-11-01T12:53:33.264602Z",
          "iopub.status.idle": "2021-11-01T12:53:33.267142Z",
          "shell.execute_reply": "2021-11-01T12:53:33.266747Z"
        },
        "papermill": {
          "duration": 0.195898,
          "end_time": "2021-11-01T12:53:33.267246",
          "exception": false,
          "start_time": "2021-11-01T12:53:33.071348",
          "status": "completed"
        },
        "tags": [],
        "id": "4ff0e880",
        "outputId": "d86e1770-4c8c-4372-81b0-8329400900f9",
        "colab": {
          "base_uri": "https://localhost:8080/"
        }
      },
      "source": [
        "np_arr = np.array([[1, 2], [3, 4]])\n",
        "tensor = torch.from_numpy(np_arr)\n",
        "\n",
        "print(\"Numpy array:\", np_arr)\n",
        "print(\"PyTorch tensor:\", tensor)"
      ],
      "id": "4ff0e880",
      "execution_count": 12,
      "outputs": [
        {
          "output_type": "stream",
          "name": "stdout",
          "text": [
            "Numpy array: [[1 2]\n",
            " [3 4]]\n",
            "PyTorch tensor: tensor([[1, 2],\n",
            "        [3, 4]])\n"
          ]
        }
      ]
    },
    {
      "cell_type": "markdown",
      "metadata": {
        "papermill": {
          "duration": 0.19862,
          "end_time": "2021-11-01T12:53:33.653385",
          "exception": false,
          "start_time": "2021-11-01T12:53:33.454765",
          "status": "completed"
        },
        "tags": [],
        "id": "28fd8377"
      },
      "source": [
        "\n",
        "To transform a PyTorch tensor back to a numpy array, we can use the function `.numpy()` on tensors:"
      ],
      "id": "28fd8377"
    },
    {
      "cell_type": "code",
      "metadata": {
        "execution": {
          "iopub.execute_input": "2021-11-01T12:53:34.034707Z",
          "iopub.status.busy": "2021-11-01T12:53:34.034229Z",
          "iopub.status.idle": "2021-11-01T12:53:34.037417Z",
          "shell.execute_reply": "2021-11-01T12:53:34.036961Z"
        },
        "papermill": {
          "duration": 0.195801,
          "end_time": "2021-11-01T12:53:34.037517",
          "exception": false,
          "start_time": "2021-11-01T12:53:33.841716",
          "status": "completed"
        },
        "tags": [],
        "id": "46f8dbf7",
        "outputId": "b68ec1c1-cf7a-41ba-ca32-326f45b0c036",
        "colab": {
          "base_uri": "https://localhost:8080/"
        }
      },
      "source": [
        "tensor = torch.arange(4)\n",
        "np_arr = tensor.numpy()\n",
        "\n",
        "print(\"PyTorch tensor:\", tensor)\n",
        "print(\"Numpy array:\", np_arr)"
      ],
      "id": "46f8dbf7",
      "execution_count": 13,
      "outputs": [
        {
          "output_type": "stream",
          "name": "stdout",
          "text": [
            "PyTorch tensor: tensor([0, 1, 2, 3])\n",
            "Numpy array: [0 1 2 3]\n"
          ]
        }
      ]
    },
    {
      "cell_type": "markdown",
      "metadata": {
        "papermill": {
          "duration": 0.196459,
          "end_time": "2021-11-01T12:53:34.424371",
          "exception": false,
          "start_time": "2021-11-01T12:53:34.227912",
          "status": "completed"
        },
        "tags": [],
        "id": "a8de9522"
      },
      "source": [
        "The conversion of tensors to numpy require the tensor to be on the CPU, and not the GPU (more on GPU support in a later section).\n",
        "In case you have a tensor on GPU, you need to call `.cpu()` on the tensor beforehand.\n",
        "Hence, you get a line like `np_arr = tensor.cpu().numpy()`."
      ],
      "id": "a8de9522"
    },
    {
      "cell_type": "markdown",
      "metadata": {
        "papermill": {
          "duration": 0.196291,
          "end_time": "2021-11-01T12:53:34.815682",
          "exception": false,
          "start_time": "2021-11-01T12:53:34.619391",
          "status": "completed"
        },
        "tags": [],
        "id": "251801d9"
      },
      "source": [
        "#### Operations\n",
        "\n",
        "Most operations that exist in numpy, also exist in PyTorch.\n",
        "A full list of operations can be found in the [PyTorch documentation](https://pytorch.org/docs/stable/tensors.html#), but we will review the most important ones here.\n",
        "\n",
        "The simplest operation is to add two tensors:"
      ],
      "id": "251801d9"
    },
    {
      "cell_type": "code",
      "metadata": {
        "execution": {
          "iopub.execute_input": "2021-11-01T12:53:35.203001Z",
          "iopub.status.busy": "2021-11-01T12:53:35.202542Z",
          "iopub.status.idle": "2021-11-01T12:53:35.206894Z",
          "shell.execute_reply": "2021-11-01T12:53:35.206435Z"
        },
        "papermill": {
          "duration": 0.200986,
          "end_time": "2021-11-01T12:53:35.206994",
          "exception": false,
          "start_time": "2021-11-01T12:53:35.006008",
          "status": "completed"
        },
        "tags": [],
        "id": "706fd317",
        "outputId": "1bafc5a6-19ac-4c75-d5a7-1b76e3da4c72",
        "colab": {
          "base_uri": "https://localhost:8080/"
        }
      },
      "source": [
        "x1 = torch.rand(2, 3)\n",
        "x2 = torch.rand(2, 3)\n",
        "y = x1 + x2\n",
        "\n",
        "print(\"X1\", x1)\n",
        "print(\"X2\", x2)\n",
        "print(\"Y\", y)"
      ],
      "id": "706fd317",
      "execution_count": 14,
      "outputs": [
        {
          "output_type": "stream",
          "name": "stdout",
          "text": [
            "X1 tensor([[0.8140, 0.3897, 0.8632],\n",
            "        [0.5865, 0.6995, 0.2356]])\n",
            "X2 tensor([[0.8967, 0.5419, 0.1575],\n",
            "        [0.5123, 0.2787, 0.0296]])\n",
            "Y tensor([[1.7107, 0.9316, 1.0207],\n",
            "        [1.0988, 0.9782, 0.2652]])\n"
          ]
        }
      ]
    },
    {
      "cell_type": "markdown",
      "metadata": {
        "papermill": {
          "duration": 0.189772,
          "end_time": "2021-11-01T12:53:35.588028",
          "exception": false,
          "start_time": "2021-11-01T12:53:35.398256",
          "status": "completed"
        },
        "tags": [],
        "id": "005c3a80"
      },
      "source": [
        "Calling `x1 + x2` creates a new tensor containing the sum of the two inputs.\n",
        "However, we can also use in-place operations that are applied directly on the memory of a tensor.\n",
        "We therefore change the values of `x2` without the chance to re-accessing the values of `x2` before the operation.\n",
        "An example is shown below:"
      ],
      "id": "005c3a80"
    },
    {
      "cell_type": "code",
      "metadata": {
        "execution": {
          "iopub.execute_input": "2021-11-01T12:53:35.975321Z",
          "iopub.status.busy": "2021-11-01T12:53:35.973813Z",
          "iopub.status.idle": "2021-11-01T12:53:35.980414Z",
          "shell.execute_reply": "2021-11-01T12:53:35.980024Z"
        },
        "papermill": {
          "duration": 0.197922,
          "end_time": "2021-11-01T12:53:35.980515",
          "exception": false,
          "start_time": "2021-11-01T12:53:35.782593",
          "status": "completed"
        },
        "tags": [],
        "id": "9f24e6e6",
        "outputId": "ab2e8472-288f-450a-8167-e7a2c308a74d",
        "colab": {
          "base_uri": "https://localhost:8080/"
        }
      },
      "source": [
        "x1 = torch.rand(2, 3)\n",
        "x2 = torch.rand(2, 3)\n",
        "print(\"X1 (before)\", x1)\n",
        "print(\"X2 (before)\", x2)\n",
        "\n",
        "x2.add_(x1)\n",
        "print(\"X1 (after)\", x1)\n",
        "print(\"X2 (after)\", x2)"
      ],
      "id": "9f24e6e6",
      "execution_count": 15,
      "outputs": [
        {
          "output_type": "stream",
          "name": "stdout",
          "text": [
            "X1 (before) tensor([[0.4961, 0.3870, 0.6527],\n",
            "        [0.7181, 0.3527, 0.1164]])\n",
            "X2 (before) tensor([[0.2808, 0.7595, 0.8460],\n",
            "        [0.7568, 0.1351, 0.3201]])\n",
            "X1 (after) tensor([[0.4961, 0.3870, 0.6527],\n",
            "        [0.7181, 0.3527, 0.1164]])\n",
            "X2 (after) tensor([[0.7768, 1.1464, 1.4987],\n",
            "        [1.4750, 0.4878, 0.4366]])\n"
          ]
        }
      ]
    },
    {
      "cell_type": "markdown",
      "metadata": {
        "papermill": {
          "duration": 0.189508,
          "end_time": "2021-11-01T12:53:36.358581",
          "exception": false,
          "start_time": "2021-11-01T12:53:36.169073",
          "status": "completed"
        },
        "tags": [],
        "id": "f45ca5e6"
      },
      "source": [
        "In-place operations are usually marked with a underscore postfix (e.g. \"add_\" instead of \"add\").\n",
        "\n",
        "Another common operation aims at changing the shape of a tensor.\n",
        "A tensor of size (2,3) can be re-organized to any other shape with the same number of elements (e.g. a tensor of size (6), or (3,2), ...).\n",
        "In PyTorch, this operation is called `view`:"
      ],
      "id": "f45ca5e6"
    },
    {
      "cell_type": "code",
      "metadata": {
        "execution": {
          "iopub.execute_input": "2021-11-01T12:53:36.742093Z",
          "iopub.status.busy": "2021-11-01T12:53:36.741633Z",
          "iopub.status.idle": "2021-11-01T12:53:36.743988Z",
          "shell.execute_reply": "2021-11-01T12:53:36.744419Z"
        },
        "papermill": {
          "duration": 0.197562,
          "end_time": "2021-11-01T12:53:36.744540",
          "exception": false,
          "start_time": "2021-11-01T12:53:36.546978",
          "status": "completed"
        },
        "tags": [],
        "id": "715705c3",
        "outputId": "23d728d9-d625-444c-e0a4-3fb243db2f74",
        "colab": {
          "base_uri": "https://localhost:8080/"
        }
      },
      "source": [
        "x = torch.arange(6)\n",
        "print(\"X\", x)"
      ],
      "id": "715705c3",
      "execution_count": 16,
      "outputs": [
        {
          "output_type": "stream",
          "name": "stdout",
          "text": [
            "X tensor([0, 1, 2, 3, 4, 5])\n"
          ]
        }
      ]
    },
    {
      "cell_type": "code",
      "metadata": {
        "execution": {
          "iopub.execute_input": "2021-11-01T12:53:37.127357Z",
          "iopub.status.busy": "2021-11-01T12:53:37.126899Z",
          "iopub.status.idle": "2021-11-01T12:53:37.129914Z",
          "shell.execute_reply": "2021-11-01T12:53:37.129456Z"
        },
        "papermill": {
          "duration": 0.194807,
          "end_time": "2021-11-01T12:53:37.130015",
          "exception": false,
          "start_time": "2021-11-01T12:53:36.935208",
          "status": "completed"
        },
        "tags": [],
        "id": "b84d1c3a",
        "outputId": "d770638e-c64c-4ee3-f5c8-9b77cb6a7abe",
        "colab": {
          "base_uri": "https://localhost:8080/"
        }
      },
      "source": [
        "x = x.view(2, 3)\n",
        "print(\"X\", x)"
      ],
      "id": "b84d1c3a",
      "execution_count": 17,
      "outputs": [
        {
          "output_type": "stream",
          "name": "stdout",
          "text": [
            "X tensor([[0, 1, 2],\n",
            "        [3, 4, 5]])\n"
          ]
        }
      ]
    },
    {
      "cell_type": "code",
      "metadata": {
        "execution": {
          "iopub.execute_input": "2021-11-01T12:53:37.522853Z",
          "iopub.status.busy": "2021-11-01T12:53:37.522376Z",
          "iopub.status.idle": "2021-11-01T12:53:37.525444Z",
          "shell.execute_reply": "2021-11-01T12:53:37.524995Z"
        },
        "papermill": {
          "duration": 0.205421,
          "end_time": "2021-11-01T12:53:37.525553",
          "exception": false,
          "start_time": "2021-11-01T12:53:37.320132",
          "status": "completed"
        },
        "tags": [],
        "id": "51cb9469",
        "outputId": "f0da77c2-012b-46f9-ec9a-1edbde88703e",
        "colab": {
          "base_uri": "https://localhost:8080/"
        }
      },
      "source": [
        "x = x.permute(1, 0)  # Swapping dimension 0 and 1\n",
        "print(\"X\", x)"
      ],
      "id": "51cb9469",
      "execution_count": 18,
      "outputs": [
        {
          "output_type": "stream",
          "name": "stdout",
          "text": [
            "X tensor([[0, 3],\n",
            "        [1, 4],\n",
            "        [2, 5]])\n"
          ]
        }
      ]
    },
    {
      "cell_type": "markdown",
      "metadata": {
        "papermill": {
          "duration": 0.192351,
          "end_time": "2021-11-01T12:53:37.911461",
          "exception": false,
          "start_time": "2021-11-01T12:53:37.719110",
          "status": "completed"
        },
        "tags": [],
        "id": "76fe3ca9"
      },
      "source": [
        "Other commonly used operations include matrix multiplications, which are essential for neural networks.\n",
        "Quite often, we have an input vector $\\mathbf{x}$, which is transformed using a learned weight matrix $\\mathbf{W}$.\n",
        "There are multiple ways and functions to perform matrix multiplication, some of which we list below:\n",
        "\n",
        "* `torch.matmul`: Performs the matrix product over two tensors, where the specific behavior depends on the dimensions.\n",
        "If both inputs are matrices (2-dimensional tensors), it performs the standard matrix product.\n",
        "For higher dimensional inputs, the function supports broadcasting (for details see the [documentation](https://pytorch.org/docs/stable/generated/torch.matmul.html?highlight=matmul#torch.matmul)).\n",
        "Can also be written as `a @ b`, similar to numpy.\n",
        "* `torch.mm`: Performs the matrix product over two matrices, but doesn't support broadcasting (see [documentation](https://pytorch.org/docs/stable/generated/torch.mm.html?highlight=torch%20mm#torch.mm))\n",
        "* `torch.bmm`: Performs the matrix product with a support batch dimension.\n",
        "If the first tensor $T$ is of shape ($b\\times n\\times m$), and the second tensor $R$ ($b\\times m\\times p$), the output $O$ is of shape ($b\\times n\\times p$), and has been calculated by performing $b$ matrix multiplications of the submatrices of $T$ and $R$: $O_i = T_i @ R_i$\n",
        "* `torch.einsum`: Performs matrix multiplications and more (i.e. sums of products) using the Einstein summation convention.\n",
        "Explanation of the Einstein sum can be found in assignment 1.\n",
        "\n",
        "Usually, we use `torch.matmul` or `torch.bmm`. We can try a matrix multiplication with `torch.matmul` below."
      ],
      "id": "76fe3ca9"
    },
    {
      "cell_type": "code",
      "metadata": {
        "execution": {
          "iopub.execute_input": "2021-11-01T12:53:38.304426Z",
          "iopub.status.busy": "2021-11-01T12:53:38.303962Z",
          "iopub.status.idle": "2021-11-01T12:53:38.306767Z",
          "shell.execute_reply": "2021-11-01T12:53:38.306362Z"
        },
        "papermill": {
          "duration": 0.201784,
          "end_time": "2021-11-01T12:53:38.306871",
          "exception": false,
          "start_time": "2021-11-01T12:53:38.105087",
          "status": "completed"
        },
        "tags": [],
        "id": "6db71f13",
        "outputId": "67d3ea07-a8b6-4854-f5c1-08ec924fce7e",
        "colab": {
          "base_uri": "https://localhost:8080/"
        }
      },
      "source": [
        "x = torch.arange(6)\n",
        "x = x.view(2, 3)\n",
        "print(\"X\", x)"
      ],
      "id": "6db71f13",
      "execution_count": 19,
      "outputs": [
        {
          "output_type": "stream",
          "name": "stdout",
          "text": [
            "X tensor([[0, 1, 2],\n",
            "        [3, 4, 5]])\n"
          ]
        }
      ]
    },
    {
      "cell_type": "code",
      "metadata": {
        "execution": {
          "iopub.execute_input": "2021-11-01T12:53:38.700010Z",
          "iopub.status.busy": "2021-11-01T12:53:38.699541Z",
          "iopub.status.idle": "2021-11-01T12:53:38.702969Z",
          "shell.execute_reply": "2021-11-01T12:53:38.703424Z"
        },
        "papermill": {
          "duration": 0.203876,
          "end_time": "2021-11-01T12:53:38.703550",
          "exception": false,
          "start_time": "2021-11-01T12:53:38.499674",
          "status": "completed"
        },
        "tags": [],
        "id": "b2a91235",
        "outputId": "be460ccf-21bb-4f63-c703-1fc2a60af203",
        "colab": {
          "base_uri": "https://localhost:8080/"
        }
      },
      "source": [
        "W = torch.arange(9).view(3, 3)  # We can also stack multiple operations in a single line\n",
        "print(\"W\", W)"
      ],
      "id": "b2a91235",
      "execution_count": 20,
      "outputs": [
        {
          "output_type": "stream",
          "name": "stdout",
          "text": [
            "W tensor([[0, 1, 2],\n",
            "        [3, 4, 5],\n",
            "        [6, 7, 8]])\n"
          ]
        }
      ]
    },
    {
      "cell_type": "code",
      "metadata": {
        "execution": {
          "iopub.execute_input": "2021-11-01T12:53:39.100072Z",
          "iopub.status.busy": "2021-11-01T12:53:39.099611Z",
          "iopub.status.idle": "2021-11-01T12:53:39.102391Z",
          "shell.execute_reply": "2021-11-01T12:53:39.101974Z"
        },
        "papermill": {
          "duration": 0.201563,
          "end_time": "2021-11-01T12:53:39.102558",
          "exception": false,
          "start_time": "2021-11-01T12:53:38.900995",
          "status": "completed"
        },
        "tags": [],
        "id": "686cbb96",
        "outputId": "cecf19b5-89ca-4140-b2b5-2a9742e30d90",
        "colab": {
          "base_uri": "https://localhost:8080/"
        }
      },
      "source": [
        "h = torch.matmul(x, W)  # Verify the result by calculating it by hand too!\n",
        "print(\"h\", h)"
      ],
      "id": "686cbb96",
      "execution_count": 21,
      "outputs": [
        {
          "output_type": "stream",
          "name": "stdout",
          "text": [
            "h tensor([[15, 18, 21],\n",
            "        [42, 54, 66]])\n"
          ]
        }
      ]
    },
    {
      "cell_type": "markdown",
      "metadata": {
        "papermill": {
          "duration": 0.195409,
          "end_time": "2021-11-01T12:53:39.492178",
          "exception": false,
          "start_time": "2021-11-01T12:53:39.296769",
          "status": "completed"
        },
        "tags": [],
        "id": "c099815b"
      },
      "source": [
        "#### Indexing\n",
        "\n",
        "We often have the situation where we need to select a part of a tensor.\n",
        "Indexing works just like in numpy, so let's try it:"
      ],
      "id": "c099815b"
    },
    {
      "cell_type": "markdown",
      "metadata": {
        "id": "f4785a67"
      },
      "source": [
        "x = torch.arange(12).view(3, 4)\n",
        "print(\"X\", x)"
      ],
      "id": "f4785a67"
    },
    {
      "cell_type": "code",
      "metadata": {
        "id": "P03nwl98D0mC"
      },
      "source": [
        ""
      ],
      "id": "P03nwl98D0mC",
      "execution_count": 34,
      "outputs": []
    },
    {
      "cell_type": "markdown",
      "metadata": {
        "id": "VG7ATwzFD2pj"
      },
      "source": [
        "x[:, :]\n"
      ],
      "id": "VG7ATwzFD2pj"
    },
    {
      "cell_type": "code",
      "metadata": {
        "execution": {
          "iopub.execute_input": "2021-11-01T12:53:40.281630Z",
          "iopub.status.busy": "2021-11-01T12:53:40.281171Z",
          "iopub.status.idle": "2021-11-01T12:53:40.283624Z",
          "shell.execute_reply": "2021-11-01T12:53:40.283226Z"
        },
        "papermill": {
          "duration": 0.200446,
          "end_time": "2021-11-01T12:53:40.283723",
          "exception": false,
          "start_time": "2021-11-01T12:53:40.083277",
          "status": "completed"
        },
        "tags": [],
        "id": "0f6eb2aa",
        "outputId": "7870cc69-8671-4113-a9b1-fd0b2226b35a",
        "colab": {
          "base_uri": "https://localhost:8080/"
        }
      },
      "source": [
        "print(x[:, 1])  # Second column"
      ],
      "id": "0f6eb2aa",
      "execution_count": 35,
      "outputs": [
        {
          "output_type": "stream",
          "name": "stdout",
          "text": [
            "tensor([1, 5, 9])\n"
          ]
        }
      ]
    },
    {
      "cell_type": "code",
      "metadata": {
        "execution": {
          "iopub.execute_input": "2021-11-01T12:53:40.680652Z",
          "iopub.status.busy": "2021-11-01T12:53:40.680186Z",
          "iopub.status.idle": "2021-11-01T12:53:40.682140Z",
          "shell.execute_reply": "2021-11-01T12:53:40.682563Z"
        },
        "papermill": {
          "duration": 0.20341,
          "end_time": "2021-11-01T12:53:40.682687",
          "exception": false,
          "start_time": "2021-11-01T12:53:40.479277",
          "status": "completed"
        },
        "tags": [],
        "id": "d594fca7",
        "outputId": "1d9e14be-79ea-4a2d-89b1-3f7a7ec44249",
        "colab": {
          "base_uri": "https://localhost:8080/"
        }
      },
      "source": [
        "print(x[0])  # First row"
      ],
      "id": "d594fca7",
      "execution_count": 36,
      "outputs": [
        {
          "output_type": "stream",
          "name": "stdout",
          "text": [
            "tensor([0, 1, 2, 3])\n"
          ]
        }
      ]
    },
    {
      "cell_type": "code",
      "metadata": {
        "execution": {
          "iopub.execute_input": "2021-11-01T12:53:41.084886Z",
          "iopub.status.busy": "2021-11-01T12:53:41.084412Z",
          "iopub.status.idle": "2021-11-01T12:53:41.086771Z",
          "shell.execute_reply": "2021-11-01T12:53:41.086368Z"
        },
        "papermill": {
          "duration": 0.204714,
          "end_time": "2021-11-01T12:53:41.086875",
          "exception": false,
          "start_time": "2021-11-01T12:53:40.882161",
          "status": "completed"
        },
        "tags": [],
        "id": "82d4de15",
        "outputId": "9a6aa64b-5bff-4125-e29e-818c876e0d53",
        "colab": {
          "base_uri": "https://localhost:8080/"
        }
      },
      "source": [
        "print(x[:2, -1])  # First two rows, last column"
      ],
      "id": "82d4de15",
      "execution_count": 37,
      "outputs": [
        {
          "output_type": "stream",
          "name": "stdout",
          "text": [
            "tensor([3, 7])\n"
          ]
        }
      ]
    },
    {
      "cell_type": "code",
      "metadata": {
        "execution": {
          "iopub.execute_input": "2021-11-01T12:53:41.486369Z",
          "iopub.status.busy": "2021-11-01T12:53:41.485885Z",
          "iopub.status.idle": "2021-11-01T12:53:41.488163Z",
          "shell.execute_reply": "2021-11-01T12:53:41.488562Z"
        },
        "papermill": {
          "duration": 0.20348,
          "end_time": "2021-11-01T12:53:41.488684",
          "exception": false,
          "start_time": "2021-11-01T12:53:41.285204",
          "status": "completed"
        },
        "tags": [],
        "id": "9f99a33f",
        "outputId": "17b18cb4-68a1-4677-d316-f8775ccf7797",
        "colab": {
          "base_uri": "https://localhost:8080/"
        }
      },
      "source": [
        "print(x[1:3, :])  # Middle two rows"
      ],
      "id": "9f99a33f",
      "execution_count": 38,
      "outputs": [
        {
          "output_type": "stream",
          "name": "stdout",
          "text": [
            "tensor([[ 4,  5,  6,  7],\n",
            "        [ 8,  9, 10, 11]])\n"
          ]
        }
      ]
    },
    {
      "cell_type": "markdown",
      "metadata": {
        "papermill": {
          "duration": 0.200039,
          "end_time": "2021-11-01T12:53:41.887889",
          "exception": false,
          "start_time": "2021-11-01T12:53:41.687850",
          "status": "completed"
        },
        "tags": [],
        "id": "8373442e"
      },
      "source": [
        "### Dynamic Computation Graph and Backpropagation\n",
        "\n",
        "One of the main reasons for using PyTorch in Deep Learning projects is that we can automatically get **gradients/derivatives** of functions that we define.\n",
        "We will mainly use PyTorch for implementing neural networks, and they are just fancy functions.\n",
        "If we use weight matrices in our function that we want to learn, then those are called the **parameters** or simply the **weights**.\n",
        "\n",
        "If our neural network would output a single scalar value, we would talk about taking the **derivative**, but you will see that quite often we will have **multiple** output variables (\"values\"); in that case we talk about **gradients**.\n",
        "It's a more general term.\n",
        "\n",
        "Given an input $\\mathbf{x}$, we define our function by **manipulating** that input, usually by matrix-multiplications with weight matrices and additions with so-called bias vectors.\n",
        "As we manipulate our input, we are automatically creating a **computational graph**.\n",
        "This graph shows how to arrive at our output from our input.\n",
        "PyTorch is a **define-by-run** framework; this means that we can just do our manipulations, and PyTorch will keep track of that graph for us.\n",
        "Thus, we create a dynamic computation graph along the way.\n",
        "\n",
        "So, to recap: the only thing we have to do is to compute the **output**, and then we can ask PyTorch to automatically get the **gradients**.\n",
        "\n",
        "> **Note:  Why do we want gradients?\n",
        "** Consider that we have defined a function, a neural net, that is supposed to compute a certain output $y$ for an input vector $\\mathbf{x}$.\n",
        "We then define an **error measure** that tells us how wrong our network is; how bad it is in predicting output $y$ from input $\\mathbf{x}$.\n",
        "Based on this error measure, we can use the gradients to **update** the weights $\\mathbf{W}$ that were responsible for the output, so that the next time we present input $\\mathbf{x}$ to our network, the output will be closer to what we want.\n",
        "\n",
        "The first thing we have to do is to specify which tensors require gradients.\n",
        "By default, when we create a tensor, it does not require gradients."
      ],
      "id": "8373442e"
    },
    {
      "cell_type": "code",
      "metadata": {
        "execution": {
          "iopub.execute_input": "2021-11-01T12:53:42.291441Z",
          "iopub.status.busy": "2021-11-01T12:53:42.290975Z",
          "iopub.status.idle": "2021-11-01T12:53:42.293689Z",
          "shell.execute_reply": "2021-11-01T12:53:42.293289Z"
        },
        "papermill": {
          "duration": 0.206484,
          "end_time": "2021-11-01T12:53:42.293791",
          "exception": false,
          "start_time": "2021-11-01T12:53:42.087307",
          "status": "completed"
        },
        "tags": [],
        "id": "b6bc4513",
        "outputId": "800a0db5-0f39-4965-9804-bc8103f65408",
        "colab": {
          "base_uri": "https://localhost:8080/"
        }
      },
      "source": [
        "x = torch.ones((3,))\n",
        "print(x.requires_grad)"
      ],
      "id": "b6bc4513",
      "execution_count": 39,
      "outputs": [
        {
          "output_type": "stream",
          "name": "stdout",
          "text": [
            "False\n"
          ]
        }
      ]
    },
    {
      "cell_type": "markdown",
      "metadata": {
        "papermill": {
          "duration": 0.199574,
          "end_time": "2021-11-01T12:53:42.700742",
          "exception": false,
          "start_time": "2021-11-01T12:53:42.501168",
          "status": "completed"
        },
        "tags": [],
        "id": "6d6133bd"
      },
      "source": [
        "We can change this for an existing tensor using the function `requires_grad_()` (underscore indicating that this is a in-place operation).\n",
        "Alternatively, when creating a tensor, you can pass the argument\n",
        "`requires_grad=True` to most initializers we have seen above."
      ],
      "id": "6d6133bd"
    },
    {
      "cell_type": "code",
      "metadata": {
        "execution": {
          "iopub.execute_input": "2021-11-01T12:53:43.110719Z",
          "iopub.status.busy": "2021-11-01T12:53:43.110190Z",
          "iopub.status.idle": "2021-11-01T12:53:43.112728Z",
          "shell.execute_reply": "2021-11-01T12:53:43.112259Z"
        },
        "papermill": {
          "duration": 0.210772,
          "end_time": "2021-11-01T12:53:43.112833",
          "exception": false,
          "start_time": "2021-11-01T12:53:42.902061",
          "status": "completed"
        },
        "tags": [],
        "id": "c556bf9a",
        "outputId": "99412aa3-9ade-4c7a-fc7b-737d4fafb007",
        "colab": {
          "base_uri": "https://localhost:8080/"
        }
      },
      "source": [
        "x.requires_grad_(True)\n",
        "print(x.requires_grad)"
      ],
      "id": "c556bf9a",
      "execution_count": 40,
      "outputs": [
        {
          "output_type": "stream",
          "name": "stdout",
          "text": [
            "True\n"
          ]
        }
      ]
    },
    {
      "cell_type": "markdown",
      "metadata": {
        "papermill": {
          "duration": 0.203285,
          "end_time": "2021-11-01T12:53:43.516531",
          "exception": false,
          "start_time": "2021-11-01T12:53:43.313246",
          "status": "completed"
        },
        "tags": [],
        "id": "da5df2bc"
      },
      "source": [
        "In order to get familiar with the concept of a computation graph, we will create one for the following function:\n",
        "\n",
        "$$y = \\frac{1}{|x|}\\sum_i \\left[(x_i + 2)^2 + 3\\right]$$\n",
        "\n",
        "You could imagine that $x$ are our parameters, and we want to optimize (either maximize or minimize) the output $y$.\n",
        "For this, we want to obtain the gradients $\\partial y / \\partial \\mathbf{x}$.\n",
        "For our example, we'll use $\\mathbf{x}=[0,1,2]$ as our input."
      ],
      "id": "da5df2bc"
    },
    {
      "cell_type": "code",
      "metadata": {
        "execution": {
          "iopub.execute_input": "2021-11-01T12:53:43.927918Z",
          "iopub.status.busy": "2021-11-01T12:53:43.926687Z",
          "iopub.status.idle": "2021-11-01T12:53:43.930570Z",
          "shell.execute_reply": "2021-11-01T12:53:43.930949Z"
        },
        "papermill": {
          "duration": 0.207998,
          "end_time": "2021-11-01T12:53:43.931073",
          "exception": false,
          "start_time": "2021-11-01T12:53:43.723075",
          "status": "completed"
        },
        "tags": [],
        "id": "1d48e736",
        "outputId": "31143d6f-e06c-48ab-8c02-e863381e7930",
        "colab": {
          "base_uri": "https://localhost:8080/"
        }
      },
      "source": [
        "x = torch.arange(3, dtype=torch.float32, requires_grad=True)  # Only float tensors can have gradients\n",
        "print(\"X\", x)"
      ],
      "id": "1d48e736",
      "execution_count": 41,
      "outputs": [
        {
          "output_type": "stream",
          "name": "stdout",
          "text": [
            "X tensor([0., 1., 2.], requires_grad=True)\n"
          ]
        }
      ]
    },
    {
      "cell_type": "markdown",
      "metadata": {
        "papermill": {
          "duration": 0.207436,
          "end_time": "2021-11-01T12:53:44.344905",
          "exception": false,
          "start_time": "2021-11-01T12:53:44.137469",
          "status": "completed"
        },
        "tags": [],
        "id": "ffdd5199"
      },
      "source": [
        "Now let's build the computation graph step by step.\n",
        "You can combine multiple operations in a single line, but we will\n",
        "separate them here to get a better understanding of how each operation\n",
        "is added to the computation graph."
      ],
      "id": "ffdd5199"
    },
    {
      "cell_type": "code",
      "metadata": {
        "execution": {
          "iopub.execute_input": "2021-11-01T12:53:44.750826Z",
          "iopub.status.busy": "2021-11-01T12:53:44.750358Z",
          "iopub.status.idle": "2021-11-01T12:53:44.753813Z",
          "shell.execute_reply": "2021-11-01T12:53:44.753352Z"
        },
        "papermill": {
          "duration": 0.209901,
          "end_time": "2021-11-01T12:53:44.753915",
          "exception": false,
          "start_time": "2021-11-01T12:53:44.544014",
          "status": "completed"
        },
        "tags": [],
        "id": "1072d590",
        "outputId": "c2c5d6c7-75e9-41e9-dede-6055f01c0318",
        "colab": {
          "base_uri": "https://localhost:8080/"
        }
      },
      "source": [
        "a = x + 2\n",
        "b = a ** 2\n",
        "c = b + 3\n",
        "y = c.mean()\n",
        "print(\"Y\", y)"
      ],
      "id": "1072d590",
      "execution_count": 42,
      "outputs": [
        {
          "output_type": "stream",
          "name": "stdout",
          "text": [
            "Y tensor(12.6667, grad_fn=<MeanBackward0>)\n"
          ]
        }
      ]
    },
    {
      "cell_type": "markdown",
      "metadata": {
        "papermill": {
          "duration": 0.204272,
          "end_time": "2021-11-01T12:53:45.162075",
          "exception": false,
          "start_time": "2021-11-01T12:53:44.957803",
          "status": "completed"
        },
        "tags": [],
        "id": "8d64c2eb"
      },
      "source": [
        "Using the statements above, we have created a computation graph that looks similar to the figure below:\n",
        "\n",
        "<center style=\"width: 100%\"><img src=\"https://github.com/PyTorchLightning/lightning-tutorials/raw/main/course_UvA-DL/01-introduction-to-pytorch/pytorch_computation_graph.svg\" width=\"200px\"></center>\n",
        "\n",
        "We calculate $a$ based on the inputs $x$ and the constant $2$, $b$ is $a$ squared, and so on.\n",
        "The visualization is an abstraction of the dependencies between inputs and outputs of the operations we have applied.\n",
        "Each node of the computation graph has automatically defined a function for calculating the gradients with respect to its inputs, `grad_fn`.\n",
        "You can see this when we printed the output tensor $y$.\n",
        "This is why the computation graph is usually visualized in the reverse direction (arrows point from the result to the inputs).\n",
        "We can perform backpropagation on the computation graph by calling the\n",
        "function `backward()` on the last output, which effectively calculates\n",
        "the gradients for each tensor that has the property\n",
        "`requires_grad=True`:"
      ],
      "id": "8d64c2eb"
    },
    {
      "cell_type": "code",
      "metadata": {
        "execution": {
          "iopub.execute_input": "2021-11-01T12:53:45.569874Z",
          "iopub.status.busy": "2021-11-01T12:53:45.569418Z",
          "iopub.status.idle": "2021-11-01T12:53:45.644173Z",
          "shell.execute_reply": "2021-11-01T12:53:45.643723Z"
        },
        "papermill": {
          "duration": 0.279419,
          "end_time": "2021-11-01T12:53:45.644291",
          "exception": false,
          "start_time": "2021-11-01T12:53:45.364872",
          "status": "completed"
        },
        "tags": [],
        "id": "9df2ab28"
      },
      "source": [
        "y.backward()"
      ],
      "id": "9df2ab28",
      "execution_count": 43,
      "outputs": []
    },
    {
      "cell_type": "markdown",
      "metadata": {
        "papermill": {
          "duration": 0.206045,
          "end_time": "2021-11-01T12:53:46.056176",
          "exception": false,
          "start_time": "2021-11-01T12:53:45.850131",
          "status": "completed"
        },
        "tags": [],
        "id": "e88c7308"
      },
      "source": [
        "`x.grad` will now contain the gradient $\\partial y/ \\partial \\mathcal{x}$, and this gradient indicates how a change in $\\mathbf{x}$ will affect output $y$ given the current input $\\mathbf{x}=[0,1,2]$:"
      ],
      "id": "e88c7308"
    },
    {
      "cell_type": "code",
      "metadata": {
        "execution": {
          "iopub.execute_input": "2021-11-01T12:53:46.465968Z",
          "iopub.status.busy": "2021-11-01T12:53:46.465508Z",
          "iopub.status.idle": "2021-11-01T12:53:46.467958Z",
          "shell.execute_reply": "2021-11-01T12:53:46.468333Z"
        },
        "papermill": {
          "duration": 0.20913,
          "end_time": "2021-11-01T12:53:46.468452",
          "exception": false,
          "start_time": "2021-11-01T12:53:46.259322",
          "status": "completed"
        },
        "tags": [],
        "id": "07a9df4f",
        "outputId": "2f1cf0e9-88af-401d-c2e0-c1f208869aaa",
        "colab": {
          "base_uri": "https://localhost:8080/"
        }
      },
      "source": [
        "print(x.grad)"
      ],
      "id": "07a9df4f",
      "execution_count": 44,
      "outputs": [
        {
          "output_type": "stream",
          "name": "stdout",
          "text": [
            "tensor([1.3333, 2.0000, 2.6667])\n"
          ]
        }
      ]
    },
    {
      "cell_type": "markdown",
      "metadata": {
        "papermill": {
          "duration": 0.206005,
          "end_time": "2021-11-01T12:53:46.888846",
          "exception": false,
          "start_time": "2021-11-01T12:53:46.682841",
          "status": "completed"
        },
        "tags": [],
        "id": "b51679ca"
      },
      "source": [
        "We can also verify these gradients by hand.\n",
        "We will calculate the gradients using the chain rule, in the same way as PyTorch did it:\n",
        "\n",
        "$$\\frac{\\partial y}{\\partial x_i} = \\frac{\\partial y}{\\partial c_i}\\frac{\\partial c_i}{\\partial b_i}\\frac{\\partial b_i}{\\partial a_i}\\frac{\\partial a_i}{\\partial x_i}$$\n",
        "\n",
        "Note that we have simplified this equation to index notation, and by using the fact that all operation besides the mean do not combine the elements in the tensor.\n",
        "The partial derivatives are:\n",
        "\n",
        "$$\n",
        "\\frac{\\partial a_i}{\\partial x_i} = 1,\\hspace{1cm}\n",
        "\\frac{\\partial b_i}{\\partial a_i} = 2\\cdot a_i\\hspace{1cm}\n",
        "\\frac{\\partial c_i}{\\partial b_i} = 1\\hspace{1cm}\n",
        "\\frac{\\partial y}{\\partial c_i} = \\frac{1}{3}\n",
        "$$\n",
        "\n",
        "Hence, with the input being $\\mathbf{x}=[0,1,2]$, our gradients are $\\partial y/\\partial \\mathbf{x}=[4/3,2,8/3]$.\n",
        "The previous code cell should have printed the same result."
      ],
      "id": "b51679ca"
    },
    {
      "cell_type": "markdown",
      "metadata": {
        "papermill": {
          "duration": 0.205412,
          "end_time": "2021-11-01T12:53:47.300651",
          "exception": false,
          "start_time": "2021-11-01T12:53:47.095239",
          "status": "completed"
        },
        "tags": [],
        "id": "adbaaabc"
      },
      "source": [
        "### GPU support\n",
        "\n",
        "A crucial feature of PyTorch is the support of GPUs, short for Graphics Processing Unit.\n",
        "A GPU can perform many thousands of small operations in parallel, making it very well suitable for performing large matrix operations in neural networks.\n",
        "When comparing GPUs to CPUs, we can list the following main differences (credit: [Kevin Krewell, 2009](https://blogs.nvidia.com/blog/2009/12/16/whats-the-difference-between-a-cpu-and-a-gpu/))\n",
        "\n",
        "<center style=\"width: 100%\"><img src=\"https://github.com/PyTorchLightning/lightning-tutorials/raw/main/course_UvA-DL/01-introduction-to-pytorch/comparison_CPU_GPU.png\" width=\"700px\"></center>\n",
        "\n",
        "CPUs and GPUs have both different advantages and disadvantages, which is why many computers contain both components and use them for different tasks.\n",
        "In case you are not familiar with GPUs, you can read up more details in this [NVIDIA blog post](https://blogs.nvidia.com/blog/2009/12/16/whats-the-difference-between-a-cpu-and-a-gpu/) or [here](https://www.intel.com/content/www/us/en/products/docs/processors/what-is-a-gpu.html).\n",
        "\n",
        "GPUs can accelerate the training of your network up to a factor of $100$ which is essential for large neural networks.\n",
        "PyTorch implements a lot of functionality for supporting GPUs (mostly those of NVIDIA due to the libraries [CUDA](https://developer.nvidia.com/cuda-zone) and [cuDNN](https://developer.nvidia.com/cudnn)).\n",
        "First, let's check whether you have a GPU available:"
      ],
      "id": "adbaaabc"
    },
    {
      "cell_type": "code",
      "metadata": {
        "execution": {
          "iopub.execute_input": "2021-11-01T12:53:47.714930Z",
          "iopub.status.busy": "2021-11-01T12:53:47.714460Z",
          "iopub.status.idle": "2021-11-01T12:53:47.716862Z",
          "shell.execute_reply": "2021-11-01T12:53:47.716390Z"
        },
        "papermill": {
          "duration": 0.210551,
          "end_time": "2021-11-01T12:53:47.716967",
          "exception": false,
          "start_time": "2021-11-01T12:53:47.506416",
          "status": "completed"
        },
        "tags": [],
        "id": "d0cdbea1",
        "outputId": "8e7fa6b8-6857-4020-c112-b1e7ee53c770",
        "colab": {
          "base_uri": "https://localhost:8080/"
        }
      },
      "source": [
        "gpu_avail = torch.cuda.is_available()\n",
        "print(f\"Is the GPU available? {gpu_avail}\")"
      ],
      "id": "d0cdbea1",
      "execution_count": 5,
      "outputs": [
        {
          "output_type": "stream",
          "name": "stdout",
          "text": [
            "Is the GPU available? True\n"
          ]
        }
      ]
    },
    {
      "cell_type": "markdown",
      "metadata": {
        "papermill": {
          "duration": 0.211156,
          "end_time": "2021-11-01T12:53:48.138574",
          "exception": false,
          "start_time": "2021-11-01T12:53:47.927418",
          "status": "completed"
        },
        "tags": [],
        "id": "a8718469"
      },
      "source": [
        "If you have a GPU on your computer but the command above returns False, make sure you have the correct CUDA-version installed.\n",
        "The `dl2020` environment comes with the CUDA-toolkit 10.1, which is selected for the Lisa supercomputer.\n",
        "Please change it if necessary (CUDA 10.2 is currently common).\n",
        "On Google Colab, make sure that you have selected a GPU in your runtime setup (in the menu, check under `Runtime -> Change runtime type`).\n",
        "\n",
        "By default, all tensors you create are stored on the CPU.\n",
        "We can push a tensor to the GPU by using the function `.to(...)`, or `.cuda()`.\n",
        "However, it is often a good practice to define a `device` object in your code which points to the GPU if you have one, and otherwise to the CPU.\n",
        "Then, you can write your code with respect to this device object, and it allows you to run the same code on both a CPU-only system, and one with a GPU.\n",
        "Let's try it below.\n",
        "We can specify the device as follows:"
      ],
      "id": "a8718469"
    },
    {
      "cell_type": "code",
      "metadata": {
        "execution": {
          "iopub.execute_input": "2021-11-01T12:53:48.566206Z",
          "iopub.status.busy": "2021-11-01T12:53:48.565750Z",
          "iopub.status.idle": "2021-11-01T12:53:48.567788Z",
          "shell.execute_reply": "2021-11-01T12:53:48.568158Z"
        },
        "papermill": {
          "duration": 0.221873,
          "end_time": "2021-11-01T12:53:48.568277",
          "exception": false,
          "start_time": "2021-11-01T12:53:48.346404",
          "status": "completed"
        },
        "tags": [],
        "id": "142e586e",
        "outputId": "95a61b20-df58-483f-9f1f-dbc7bd12fa74",
        "colab": {
          "base_uri": "https://localhost:8080/"
        }
      },
      "source": [
        "device = torch.device(\"cuda\") if torch.cuda.is_available() else torch.device(\"cpu\")\n",
        "print(\"Device\", device)"
      ],
      "id": "142e586e",
      "execution_count": 6,
      "outputs": [
        {
          "output_type": "stream",
          "name": "stdout",
          "text": [
            "Device cuda\n"
          ]
        }
      ]
    },
    {
      "cell_type": "markdown",
      "metadata": {
        "papermill": {
          "duration": 0.207035,
          "end_time": "2021-11-01T12:53:48.980830",
          "exception": false,
          "start_time": "2021-11-01T12:53:48.773795",
          "status": "completed"
        },
        "tags": [],
        "id": "ff8e80a0"
      },
      "source": [
        "Now let's create a tensor and push it to the device:"
      ],
      "id": "ff8e80a0"
    },
    {
      "cell_type": "code",
      "metadata": {
        "execution": {
          "iopub.execute_input": "2021-11-01T12:53:49.400654Z",
          "iopub.status.busy": "2021-11-01T12:53:49.400192Z",
          "iopub.status.idle": "2021-11-01T12:53:52.169326Z",
          "shell.execute_reply": "2021-11-01T12:53:52.168849Z"
        },
        "papermill": {
          "duration": 2.979667,
          "end_time": "2021-11-01T12:53:52.169440",
          "exception": false,
          "start_time": "2021-11-01T12:53:49.189773",
          "status": "completed"
        },
        "tags": [],
        "id": "2667a9dd",
        "outputId": "fc008fa2-a63b-41e4-b7f8-54207d345384",
        "colab": {
          "base_uri": "https://localhost:8080/"
        }
      },
      "source": [
        "x = torch.zeros(2, 3)\n",
        "x = x.to(device)\n",
        "print(\"X\", x)"
      ],
      "id": "2667a9dd",
      "execution_count": 7,
      "outputs": [
        {
          "output_type": "stream",
          "name": "stdout",
          "text": [
            "X tensor([[0., 0., 0.],\n",
            "        [0., 0., 0.]], device='cuda:0')\n"
          ]
        }
      ]
    },
    {
      "cell_type": "markdown",
      "metadata": {
        "papermill": {
          "duration": 0.204225,
          "end_time": "2021-11-01T12:53:52.577841",
          "exception": false,
          "start_time": "2021-11-01T12:53:52.373616",
          "status": "completed"
        },
        "tags": [],
        "id": "2a1ca1d9"
      },
      "source": [
        "In case you have a GPU, you should now see the attribute `device='cuda:0'` being printed next to your tensor.\n",
        "The zero next to cuda indicates that this is the zero-th GPU device on your computer.\n",
        "PyTorch also supports multi-GPU systems, but this you will only need once you have very big networks to train (if interested, see the [PyTorch documentation](https://pytorch.org/docs/stable/distributed.html#distributed-basics)).\n",
        "We can also compare the runtime of a large matrix multiplication on the CPU with a operation on the GPU:"
      ],
      "id": "2a1ca1d9"
    },
    {
      "cell_type": "code",
      "metadata": {
        "execution": {
          "iopub.execute_input": "2021-11-01T12:53:52.992006Z",
          "iopub.status.busy": "2021-11-01T12:53:52.991542Z",
          "iopub.status.idle": "2021-11-01T12:53:53.550947Z",
          "shell.execute_reply": "2021-11-01T12:53:53.550536Z"
        },
        "papermill": {
          "duration": 0.769544,
          "end_time": "2021-11-01T12:53:53.551059",
          "exception": false,
          "start_time": "2021-11-01T12:53:52.781515",
          "status": "completed"
        },
        "tags": [],
        "id": "4ae9ad80",
        "outputId": "6c6be5b2-31b2-4903-b027-88c43d2e41e7",
        "colab": {
          "base_uri": "https://localhost:8080/"
        }
      },
      "source": [
        "x = torch.randn(5000, 5000)\n",
        "\n",
        "# CPU version\n",
        "start_time = time.time()\n",
        "_ = torch.matmul(x, x)\n",
        "end_time = time.time()\n",
        "print(f\"CPU time: {(end_time - start_time):6.5f}s\")\n",
        "\n",
        "# GPU version\n",
        "if torch.cuda.is_available():\n",
        "    x = x.to(device)\n",
        "    # CUDA is asynchronous, so we need to use different timing functions\n",
        "    start = torch.cuda.Event(enable_timing=True)\n",
        "    end = torch.cuda.Event(enable_timing=True)\n",
        "    start.record()\n",
        "    _ = torch.matmul(x, x)\n",
        "    end.record()\n",
        "    torch.cuda.synchronize()  # Waits for everything to finish running on the GPU\n",
        "    print(f\"GPU time: {0.001 * start.elapsed_time(end):6.5f}s\")  # Milliseconds to seconds"
      ],
      "id": "4ae9ad80",
      "execution_count": 8,
      "outputs": [
        {
          "output_type": "stream",
          "name": "stdout",
          "text": [
            "CPU time: 3.41169s\n",
            "GPU time: 0.16706s\n"
          ]
        }
      ]
    },
    {
      "cell_type": "markdown",
      "metadata": {
        "papermill": {
          "duration": 0.205717,
          "end_time": "2021-11-01T12:53:53.962973",
          "exception": false,
          "start_time": "2021-11-01T12:53:53.757256",
          "status": "completed"
        },
        "tags": [],
        "id": "94b21215"
      },
      "source": [
        "Depending on the size of the operation and the CPU/GPU in your system, the speedup of this operation can be >50x.\n",
        "As `matmul` operations are very common in neural networks, we can already see the great benefit of training a NN on a GPU.\n",
        "The time estimate can be relatively noisy here because we haven't run it for multiple times.\n",
        "Feel free to extend this, but it also takes longer to run.\n",
        "\n",
        "When generating random numbers, the seed between CPU and GPU is not synchronized.\n",
        "Hence, we need to set the seed on the GPU separately to ensure a reproducible code.\n",
        "Note that due to different GPU architectures, running the same code on different GPUs does not guarantee the same random numbers.\n",
        "Still, we don't want that our code gives us a different output every time we run it on the exact same hardware.\n",
        "Hence, we also set the seed on the GPU:"
      ],
      "id": "94b21215"
    },
    {
      "cell_type": "code",
      "metadata": {
        "execution": {
          "iopub.execute_input": "2021-11-01T12:53:54.379755Z",
          "iopub.status.busy": "2021-11-01T12:53:54.379290Z",
          "iopub.status.idle": "2021-11-01T12:53:54.381273Z",
          "shell.execute_reply": "2021-11-01T12:53:54.380886Z"
        },
        "papermill": {
          "duration": 0.213973,
          "end_time": "2021-11-01T12:53:54.381374",
          "exception": false,
          "start_time": "2021-11-01T12:53:54.167401",
          "status": "completed"
        },
        "tags": [],
        "id": "63172fe6"
      },
      "source": [
        "# GPU operations have a separate seed we also want to set\n",
        "if torch.cuda.is_available():\n",
        "    torch.cuda.manual_seed(42)\n",
        "    torch.cuda.manual_seed_all(42)\n",
        "\n",
        "# Additionally, some operations on a GPU are implemented stochastic for efficiency\n",
        "# We want to ensure that all operations are deterministic on GPU (if used) for reproducibility\n",
        "torch.backends.cudnn.determinstic = True\n",
        "torch.backends.cudnn.benchmark = False"
      ],
      "id": "63172fe6",
      "execution_count": 9,
      "outputs": []
    },
    {
      "cell_type": "markdown",
      "metadata": {
        "papermill": {
          "duration": 0.20572,
          "end_time": "2021-11-01T12:53:54.794002",
          "exception": false,
          "start_time": "2021-11-01T12:53:54.588282",
          "status": "completed"
        },
        "tags": [],
        "id": "dbcf58e3"
      },
      "source": [
        "## Learning by example: Continuous XOR\n",
        "<div class=\"center-wrapper\"><div class=\"video-wrapper\"><iframe src=\"https://www.youtube.com/embed/schbjeU5X2g\" title=\"YouTube video player\" frameborder=\"0\" allow=\"accelerometer; autoplay; clipboard-write; encrypted-media; gyroscope; picture-in-picture\" allowfullscreen></iframe></div></div>\n",
        "\n",
        "If we want to build a neural network in PyTorch, we could specify all our parameters (weight matrices, bias vectors) using `Tensors` (with `requires_grad=True`), ask PyTorch to calculate the gradients and then adjust the parameters.\n",
        "But things can quickly get cumbersome if we have a lot of parameters.\n",
        "In PyTorch, there is a package called `torch.nn` that makes building neural networks more convenient.\n",
        "\n",
        "We will introduce the libraries and all additional parts you might need to train a neural network in PyTorch, using a simple example classifier on a simple yet well known example: XOR.\n",
        "Given two binary inputs $x_1$ and $x_2$, the label to predict is $1$ if either $x_1$ or $x_2$ is $1$ while the other is $0$, or the label is $0$ in all other cases.\n",
        "The example became famous by the fact that a single neuron, i.e. a linear classifier, cannot learn this simple function.\n",
        "Hence, we will learn how to build a small neural network that can learn this function.\n",
        "To make it a little bit more interesting, we move the XOR into continuous space and introduce some gaussian noise on the binary inputs.\n",
        "Our desired separation of an XOR dataset could look as follows:\n",
        "\n",
        "<center style=\"width: 100%\"><img src=\"https://github.com/PyTorchLightning/lightning-tutorials/raw/main/course_UvA-DL/01-introduction-to-pytorch/continuous_xor.svg\" width=\"350px\"></center>"
      ],
      "id": "dbcf58e3"
    },
    {
      "cell_type": "markdown",
      "metadata": {
        "papermill": {
          "duration": 0.206852,
          "end_time": "2021-11-01T12:53:55.205391",
          "exception": false,
          "start_time": "2021-11-01T12:53:54.998539",
          "status": "completed"
        },
        "tags": [],
        "id": "b042a2b8"
      },
      "source": [
        "### The model\n",
        "\n",
        "The package `torch.nn` defines a series of useful classes like linear networks layers, activation functions, loss functions etc.\n",
        "A full list can be found [here](https://pytorch.org/docs/stable/nn.html).\n",
        "In case you need a certain network layer, check the documentation of the package first before writing the layer yourself as the package likely contains the code for it already.\n",
        "We import it below:"
      ],
      "id": "b042a2b8"
    },
    {
      "cell_type": "code",
      "metadata": {
        "lines_to_next_cell": 0,
        "papermill": {
          "duration": 0.206477,
          "end_time": "2021-11-01T12:53:55.628818",
          "exception": false,
          "start_time": "2021-11-01T12:53:55.422341",
          "status": "completed"
        },
        "tags": [],
        "id": "45e0c9b6"
      },
      "source": [
        ""
      ],
      "id": "45e0c9b6",
      "execution_count": 9,
      "outputs": []
    },
    {
      "cell_type": "code",
      "metadata": {
        "papermill": {
          "duration": 0.207149,
          "end_time": "2021-11-01T12:53:56.042464",
          "exception": false,
          "start_time": "2021-11-01T12:53:55.835315",
          "status": "completed"
        },
        "tags": [],
        "id": "e848f011"
      },
      "source": [
        ""
      ],
      "id": "e848f011",
      "execution_count": 10,
      "outputs": []
    },
    {
      "cell_type": "markdown",
      "metadata": {
        "papermill": {
          "duration": 0.205037,
          "end_time": "2021-11-01T12:53:56.455831",
          "exception": false,
          "start_time": "2021-11-01T12:53:56.250794",
          "status": "completed"
        },
        "tags": [],
        "id": "333550e5"
      },
      "source": [
        "Additionally to `torch.nn`, there is also `torch.nn.functional`.\n",
        "It contains functions that are used in network layers.\n",
        "This is in contrast to `torch.nn` which defines them as `nn.Modules` (more on it below), and `torch.nn` actually uses a lot of functionalities from `torch.nn.functional`.\n",
        "Hence, the functional package is useful in many situations, and so we import it as well here."
      ],
      "id": "333550e5"
    },
    {
      "cell_type": "markdown",
      "metadata": {
        "lines_to_next_cell": 2,
        "papermill": {
          "duration": 0.205282,
          "end_time": "2021-11-01T12:53:56.869444",
          "exception": false,
          "start_time": "2021-11-01T12:53:56.664162",
          "status": "completed"
        },
        "tags": [],
        "id": "2ae9ba24"
      },
      "source": [
        "#### nn.Module\n",
        "\n",
        "In PyTorch, a neural network is built up out of modules.\n",
        "Modules can contain other modules, and a neural network is considered to be a module itself as well.\n",
        "The basic template of a module is as follows:"
      ],
      "id": "2ae9ba24"
    },
    {
      "cell_type": "code",
      "metadata": {
        "execution": {
          "iopub.execute_input": "2021-11-01T12:53:57.283888Z",
          "iopub.status.busy": "2021-11-01T12:53:57.283430Z",
          "iopub.status.idle": "2021-11-01T12:53:57.285431Z",
          "shell.execute_reply": "2021-11-01T12:53:57.285041Z"
        },
        "lines_to_next_cell": 2,
        "papermill": {
          "duration": 0.210865,
          "end_time": "2021-11-01T12:53:57.285531",
          "exception": false,
          "start_time": "2021-11-01T12:53:57.074666",
          "status": "completed"
        },
        "tags": [],
        "id": "e098c12e"
      },
      "source": [
        "class MyModule(nn.Module):\n",
        "    def __init__(self):\n",
        "        super().__init__()\n",
        "        # Some init for my module\n",
        "\n",
        "    def forward(self, x):\n",
        "        # Function for performing the calculation of the module.\n",
        "        pass"
      ],
      "id": "e098c12e",
      "execution_count": 10,
      "outputs": []
    },
    {
      "cell_type": "markdown",
      "metadata": {
        "lines_to_next_cell": 2,
        "papermill": {
          "duration": 0.20473,
          "end_time": "2021-11-01T12:53:57.694754",
          "exception": false,
          "start_time": "2021-11-01T12:53:57.490024",
          "status": "completed"
        },
        "tags": [],
        "id": "5bf95a7f"
      },
      "source": [
        "The forward function is where the computation of the module is taken place, and is executed when you call the module (`nn = MyModule(); nn(x)`).\n",
        "In the init function, we usually create the parameters of the module, using `nn.Parameter`, or defining other modules that are used in the forward function.\n",
        "The backward calculation is done automatically, but could be overwritten as well if wanted.\n",
        "\n",
        "#### Simple classifier\n",
        "We can now make use of the pre-defined modules in the `torch.nn` package, and define our own small neural network.\n",
        "We will use a minimal network with a input layer, one hidden layer with tanh as activation function, and a output layer.\n",
        "In other words, our networks should look something like this:\n",
        "\n",
        "<center width=\"100%\"><img src=\"https://github.com/PyTorchLightning/lightning-tutorials/raw/main/course_UvA-DL/01-introduction-to-pytorch/small_neural_network.svg\" width=\"300px\"></center>\n",
        "\n",
        "The input neurons are shown in blue, which represent the coordinates $x_1$ and $x_2$ of a data point.\n",
        "The hidden neurons including a tanh activation are shown in white, and the output neuron in red.\n",
        "In PyTorch, we can define this as follows:"
      ],
      "id": "5bf95a7f"
    },
    {
      "cell_type": "code",
      "metadata": {
        "execution": {
          "iopub.execute_input": "2021-11-01T12:53:58.114069Z",
          "iopub.status.busy": "2021-11-01T12:53:58.113608Z",
          "iopub.status.idle": "2021-11-01T12:53:58.115218Z",
          "shell.execute_reply": "2021-11-01T12:53:58.115586Z"
        },
        "papermill": {
          "duration": 0.213648,
          "end_time": "2021-11-01T12:53:58.115706",
          "exception": false,
          "start_time": "2021-11-01T12:53:57.902058",
          "status": "completed"
        },
        "tags": [],
        "id": "deb5f4af"
      },
      "source": [
        "class SimpleClassifier(nn.Module):\n",
        "    def __init__(self, num_inputs, num_hidden, num_outputs):\n",
        "        super().__init__()\n",
        "        # Initialize the modules we need to build the network\n",
        "        self.linear1 = nn.Linear(num_inputs, num_hidden)\n",
        "        self.act_fn = nn.Tanh()\n",
        "        self.linear2 = nn.Linear(num_hidden, num_outputs)\n",
        "\n",
        "    def forward(self, x):\n",
        "        # Perform the calculation of the model to determine the prediction\n",
        "        x = self.linear1(x)\n",
        "        x = self.act_fn(x)\n",
        "        x = self.linear2(x)\n",
        "        return x"
      ],
      "id": "deb5f4af",
      "execution_count": 11,
      "outputs": []
    },
    {
      "cell_type": "markdown",
      "metadata": {
        "papermill": {
          "duration": 0.204498,
          "end_time": "2021-11-01T12:53:58.525690",
          "exception": false,
          "start_time": "2021-11-01T12:53:58.321192",
          "status": "completed"
        },
        "tags": [],
        "id": "bf024ce0"
      },
      "source": [
        "For the examples in this notebook, we will use a tiny neural network with two input neurons and four hidden neurons.\n",
        "As we perform binary classification, we will use a single output neuron.\n",
        "Note that we do not apply a sigmoid on the output yet.\n",
        "This is because other functions, especially the loss, are more efficient and precise to calculate on the original outputs instead of the sigmoid output.\n",
        "We will discuss the detailed reason later."
      ],
      "id": "bf024ce0"
    },
    {
      "cell_type": "code",
      "metadata": {
        "execution": {
          "iopub.execute_input": "2021-11-01T12:53:58.938619Z",
          "iopub.status.busy": "2021-11-01T12:53:58.938075Z",
          "iopub.status.idle": "2021-11-01T12:53:58.941107Z",
          "shell.execute_reply": "2021-11-01T12:53:58.940715Z"
        },
        "papermill": {
          "duration": 0.21078,
          "end_time": "2021-11-01T12:53:58.941208",
          "exception": false,
          "start_time": "2021-11-01T12:53:58.730428",
          "status": "completed"
        },
        "tags": [],
        "id": "b5f2c971",
        "outputId": "fa7d8db7-2fec-48dc-a4a2-34548f3e1e36",
        "colab": {
          "base_uri": "https://localhost:8080/"
        }
      },
      "source": [
        "model = SimpleClassifier(num_inputs=2, num_hidden=4, num_outputs=1)\n",
        "# Printing a module shows all its submodules\n",
        "print(model)"
      ],
      "id": "b5f2c971",
      "execution_count": 12,
      "outputs": [
        {
          "output_type": "stream",
          "name": "stdout",
          "text": [
            "SimpleClassifier(\n",
            "  (linear1): Linear(in_features=2, out_features=4, bias=True)\n",
            "  (act_fn): Tanh()\n",
            "  (linear2): Linear(in_features=4, out_features=1, bias=True)\n",
            ")\n"
          ]
        }
      ]
    },
    {
      "cell_type": "markdown",
      "metadata": {
        "papermill": {
          "duration": 0.209138,
          "end_time": "2021-11-01T12:53:59.355896",
          "exception": false,
          "start_time": "2021-11-01T12:53:59.146758",
          "status": "completed"
        },
        "tags": [],
        "id": "b4b75881"
      },
      "source": [
        "Printing the model lists all submodules it contains.\n",
        "The parameters of a module can be obtained by using its `parameters()` functions, or `named_parameters()` to get a name to each parameter object.\n",
        "For our small neural network, we have the following parameters:"
      ],
      "id": "b4b75881"
    },
    {
      "cell_type": "code",
      "metadata": {
        "execution": {
          "iopub.execute_input": "2021-11-01T12:53:59.776925Z",
          "iopub.status.busy": "2021-11-01T12:53:59.776364Z",
          "iopub.status.idle": "2021-11-01T12:53:59.778545Z",
          "shell.execute_reply": "2021-11-01T12:53:59.778921Z"
        },
        "papermill": {
          "duration": 0.215121,
          "end_time": "2021-11-01T12:53:59.779042",
          "exception": false,
          "start_time": "2021-11-01T12:53:59.563921",
          "status": "completed"
        },
        "tags": [],
        "id": "a1c385bb",
        "outputId": "5b478f2e-a634-4bde-a73e-d10b38633eb8",
        "colab": {
          "base_uri": "https://localhost:8080/"
        }
      },
      "source": [
        "for name, param in model.named_parameters():\n",
        "    print(f\"Parameter {name}, shape {param.shape}\")"
      ],
      "id": "a1c385bb",
      "execution_count": 13,
      "outputs": [
        {
          "output_type": "stream",
          "name": "stdout",
          "text": [
            "Parameter linear1.weight, shape torch.Size([4, 2])\n",
            "Parameter linear1.bias, shape torch.Size([4])\n",
            "Parameter linear2.weight, shape torch.Size([1, 4])\n",
            "Parameter linear2.bias, shape torch.Size([1])\n"
          ]
        }
      ]
    },
    {
      "cell_type": "markdown",
      "metadata": {
        "papermill": {
          "duration": 0.207803,
          "end_time": "2021-11-01T12:54:00.194649",
          "exception": false,
          "start_time": "2021-11-01T12:53:59.986846",
          "status": "completed"
        },
        "tags": [],
        "id": "99df299b"
      },
      "source": [
        "Each linear layer has a weight matrix of the shape `[output, input]`, and a bias of the shape `[output]`.\n",
        "The tanh activation function does not have any parameters.\n",
        "Note that parameters are only registered for `nn.Module` objects that are direct object attributes, i.e. `self.a = ...`.\n",
        "If you define a list of modules, the parameters of those are not registered for the outer module and can cause some issues when you try to optimize your module.\n",
        "There are alternatives, like `nn.ModuleList`, `nn.ModuleDict` and `nn.Sequential`, that allow you to have different data structures of modules.\n",
        "We will use them in a few later tutorials and explain them there."
      ],
      "id": "99df299b"
    },
    {
      "cell_type": "markdown",
      "metadata": {
        "papermill": {
          "duration": 0.209786,
          "end_time": "2021-11-01T12:54:00.613408",
          "exception": false,
          "start_time": "2021-11-01T12:54:00.403622",
          "status": "completed"
        },
        "tags": [],
        "id": "40eb5ed4"
      },
      "source": [
        "### The data\n",
        "\n",
        "PyTorch also provides a few functionalities to load the training and\n",
        "test data efficiently, summarized in the package `torch.utils.data`."
      ],
      "id": "40eb5ed4"
    },
    {
      "cell_type": "code",
      "metadata": {
        "papermill": {
          "duration": 0.208668,
          "end_time": "2021-11-01T12:54:01.029469",
          "exception": false,
          "start_time": "2021-11-01T12:54:00.820801",
          "status": "completed"
        },
        "tags": [],
        "id": "840a3226"
      },
      "source": [
        ""
      ],
      "id": "840a3226",
      "execution_count": 13,
      "outputs": []
    },
    {
      "cell_type": "markdown",
      "metadata": {
        "papermill": {
          "duration": 0.206105,
          "end_time": "2021-11-01T12:54:01.442453",
          "exception": false,
          "start_time": "2021-11-01T12:54:01.236348",
          "status": "completed"
        },
        "tags": [],
        "id": "5f02d960"
      },
      "source": [
        "The data package defines two classes which are the standard interface for handling data in PyTorch: `data.Dataset`, and `data.DataLoader`.\n",
        "The dataset class provides an uniform interface to access the\n",
        "training/test data, while the data loader makes sure to efficiently load\n",
        "and stack the data points from the dataset into batches during training."
      ],
      "id": "5f02d960"
    },
    {
      "cell_type": "markdown",
      "metadata": {
        "papermill": {
          "duration": 0.209094,
          "end_time": "2021-11-01T12:54:01.858253",
          "exception": false,
          "start_time": "2021-11-01T12:54:01.649159",
          "status": "completed"
        },
        "tags": [],
        "id": "2d6c06d2"
      },
      "source": [
        "#### The dataset class\n",
        "\n",
        "The dataset class summarizes the basic functionality of a dataset in a natural way.\n",
        "To define a dataset in PyTorch, we simply specify two functions: `__getitem__`, and `__len__`.\n",
        "The get-item function has to return the $i$-th data point in the dataset, while the len function returns the size of the dataset.\n",
        "For the XOR dataset, we can define the dataset class as follows:"
      ],
      "id": "2d6c06d2"
    },
    {
      "cell_type": "code",
      "metadata": {
        "execution": {
          "iopub.execute_input": "2021-11-01T12:54:02.279982Z",
          "iopub.status.busy": "2021-11-01T12:54:02.279513Z",
          "iopub.status.idle": "2021-11-01T12:54:02.281517Z",
          "shell.execute_reply": "2021-11-01T12:54:02.281099Z"
        },
        "papermill": {
          "duration": 0.216909,
          "end_time": "2021-11-01T12:54:02.281618",
          "exception": false,
          "start_time": "2021-11-01T12:54:02.064709",
          "status": "completed"
        },
        "tags": [],
        "id": "6a3fe463"
      },
      "source": [
        "\n",
        "\n",
        "class XORDataset(data.Dataset):\n",
        "    def __init__(self, size, std=0.1):\n",
        "        \"\"\"\n",
        "        Inputs:\n",
        "            size - Number of data points we want to generate\n",
        "            std - Standard deviation of the noise (see generate_continuous_xor function)\n",
        "        \"\"\"\n",
        "        super().__init__()\n",
        "        self.size = size\n",
        "        self.std = std\n",
        "        self.generate_continuous_xor()\n",
        "\n",
        "    def generate_continuous_xor(self):\n",
        "        # Each data point in the XOR dataset has two variables, x and y, that can be either 0 or 1\n",
        "        # The label is their XOR combination, i.e. 1 if only x or only y is 1 while the other is 0.\n",
        "        # If x=y, the label is 0.\n",
        "        data = torch.randint(low=0, high=2, size=(self.size, 2), dtype=torch.float32)\n",
        "        label = (data.sum(dim=1) == 1).to(torch.long)\n",
        "        # To make it slightly more challenging, we add a bit of gaussian noise to the data points.\n",
        "        data += self.std * torch.randn(data.shape)\n",
        "\n",
        "        self.data = data\n",
        "        self.label = label\n",
        "\n",
        "    def __len__(self):\n",
        "        # Number of data point we have. Alternatively self.data.shape[0], or self.label.shape[0]\n",
        "        return self.size\n",
        "\n",
        "    def __getitem__(self, idx):\n",
        "        # Return the idx-th data point of the dataset\n",
        "        # If we have multiple things to return (data point and label), we can return them as tuple\n",
        "        data_point = self.data[idx]\n",
        "        data_label = self.label[idx]\n",
        "        return data_point, data_label"
      ],
      "id": "6a3fe463",
      "execution_count": 14,
      "outputs": []
    },
    {
      "cell_type": "markdown",
      "metadata": {
        "papermill": {
          "duration": 0.20677,
          "end_time": "2021-11-01T12:54:02.695628",
          "exception": false,
          "start_time": "2021-11-01T12:54:02.488858",
          "status": "completed"
        },
        "tags": [],
        "id": "57c5f73e"
      },
      "source": [
        "Let's try to create such a dataset and inspect it:"
      ],
      "id": "57c5f73e"
    },
    {
      "cell_type": "code",
      "metadata": {
        "execution": {
          "iopub.execute_input": "2021-11-01T12:54:03.115217Z",
          "iopub.status.busy": "2021-11-01T12:54:03.114763Z",
          "iopub.status.idle": "2021-11-01T12:54:03.118470Z",
          "shell.execute_reply": "2021-11-01T12:54:03.118054Z"
        },
        "papermill": {
          "duration": 0.216642,
          "end_time": "2021-11-01T12:54:03.118573",
          "exception": false,
          "start_time": "2021-11-01T12:54:02.901931",
          "status": "completed"
        },
        "tags": [],
        "id": "36a6fed5",
        "outputId": "9f3412e9-b91f-4a4f-8804-cf736db87203",
        "colab": {
          "base_uri": "https://localhost:8080/"
        }
      },
      "source": [
        "dataset = XORDataset(size=200)\n",
        "print(\"Size of dataset:\", len(dataset))\n",
        "print(\"Data point 0:\", dataset[0])"
      ],
      "id": "36a6fed5",
      "execution_count": 15,
      "outputs": [
        {
          "output_type": "stream",
          "name": "stdout",
          "text": [
            "Size of dataset: 200\n",
            "Data point 0: (tensor([0.1131, 1.0734]), tensor(1))\n"
          ]
        }
      ]
    },
    {
      "cell_type": "markdown",
      "metadata": {
        "lines_to_next_cell": 2,
        "papermill": {
          "duration": 0.209553,
          "end_time": "2021-11-01T12:54:03.535275",
          "exception": false,
          "start_time": "2021-11-01T12:54:03.325722",
          "status": "completed"
        },
        "tags": [],
        "id": "7c6ff6c7"
      },
      "source": [
        "To better relate to the dataset, we visualize the samples below."
      ],
      "id": "7c6ff6c7"
    },
    {
      "cell_type": "code",
      "metadata": {
        "execution": {
          "iopub.execute_input": "2021-11-01T12:54:03.958874Z",
          "iopub.status.busy": "2021-11-01T12:54:03.958402Z",
          "iopub.status.idle": "2021-11-01T12:54:03.960342Z",
          "shell.execute_reply": "2021-11-01T12:54:03.959886Z"
        },
        "papermill": {
          "duration": 0.217665,
          "end_time": "2021-11-01T12:54:03.960509",
          "exception": false,
          "start_time": "2021-11-01T12:54:03.742844",
          "status": "completed"
        },
        "tags": [],
        "id": "6c7f549c"
      },
      "source": [
        "def visualize_samples(data, label):\n",
        "    if isinstance(data, torch.Tensor):\n",
        "        data = data.cpu().numpy()\n",
        "    if isinstance(label, torch.Tensor):\n",
        "        label = label.cpu().numpy()\n",
        "    data_0 = data[label == 0]\n",
        "    data_1 = data[label == 1]\n",
        "\n",
        "    plt.figure(figsize=(4, 4))\n",
        "    plt.scatter(data_0[:, 0], data_0[:, 1], edgecolor=\"#333\", label=\"Class 0\")\n",
        "    plt.scatter(data_1[:, 0], data_1[:, 1], edgecolor=\"#333\", label=\"Class 1\")\n",
        "    plt.title(\"Dataset samples\")\n",
        "    plt.ylabel(r\"$x_2$\")\n",
        "    plt.xlabel(r\"$x_1$\")\n",
        "    plt.legend()"
      ],
      "id": "6c7f549c",
      "execution_count": 16,
      "outputs": []
    },
    {
      "cell_type": "code",
      "metadata": {
        "execution": {
          "iopub.execute_input": "2021-11-01T12:54:04.401160Z",
          "iopub.status.busy": "2021-11-01T12:54:04.399064Z",
          "iopub.status.idle": "2021-11-01T12:54:04.867735Z",
          "shell.execute_reply": "2021-11-01T12:54:04.868119Z"
        },
        "papermill": {
          "duration": 0.69304,
          "end_time": "2021-11-01T12:54:04.868261",
          "exception": false,
          "start_time": "2021-11-01T12:54:04.175221",
          "status": "completed"
        },
        "tags": [],
        "id": "bc7757eb",
        "outputId": "74d35d4a-32b8-4041-e43d-70aa8a531272",
        "colab": {
          "base_uri": "https://localhost:8080/",
          "height": 391
        }
      },
      "source": [
        "visualize_samples(dataset.data, dataset.label)\n",
        "plt.show()"
      ],
      "id": "bc7757eb",
      "execution_count": 17,
      "outputs": [
        {
          "output_type": "display_data",
          "data": {
            "application/pdf": "[encoded data removed]",
            "text/plain": [
              "<Figure size 288x288 with 1 Axes>"
            ],
            "image/svg+xml": "<?xml version=\"1.0\" encoding=\"utf-8\" standalone=\"no\"?>\n<!DOCTYPE svg PUBLIC \"-//W3C//DTD SVG 1.1//EN\"\n  \"http://www.w3.org/Graphics/SVG/1.1/DTD/svg11.dtd\">\n<!-- Created with matplotlib (https://matplotlib.org/) -->\n<svg height=\"277.314375pt\" version=\"1.1\" viewBox=\"0 0 282.560937 277.314375\" width=\"282.560937pt\" xmlns=\"http://www.w3.org/2000/svg\" xmlns:xlink=\"http://www.w3.org/1999/xlink\">\n <defs>\n  <style type=\"text/css\">\n*{stroke-linecap:butt;stroke-linejoin:round;}\n  </style>\n </defs>\n <g id=\"figure_1\">\n  <g id=\"patch_1\">\n   <path d=\"M 0 277.314375 \nL 282.560937 277.314375 \nL 282.560937 0 \nL 0 0 \nz\n\" style=\"fill:none;\"/>\n  </g>\n  <g id=\"axes_1\">\n   <g id=\"patch_2\">\n    <path d=\"M 52.160938 239.758125 \nL 275.360937 239.758125 \nL 275.360937 22.318125 \nL 52.160938 22.318125 \nz\n\" style=\"fill:#ffffff;\"/>\n   </g>\n   <g id=\"PathCollection_1\">\n    <defs>\n     <path d=\"M 0 3 \nC 0.795609 3 1.55874 2.683901 2.12132 2.12132 \nC 2.683901 1.55874 3 0.795609 3 0 \nC 3 -0.795609 2.683901 -1.55874 2.12132 -2.12132 \nC 1.55874 -2.683901 0.795609 -3 0 -3 \nC -0.795609 -3 -1.55874 -2.683901 -2.12132 -2.12132 \nC -2.683901 -1.55874 -3 -0.795609 -3 0 \nC -3 0.795609 -2.683901 1.55874 -2.12132 2.12132 \nC -1.55874 2.683901 -0.795609 3 0 3 \nz\n\" id=\"m7fc2cea469\" style=\"stroke:#333333;\"/>\n    </defs>\n    <g clip-path=\"url(#pdcdd28cbd4)\">\n     <use style=\"fill:#1f77b4;stroke:#333333;\" x=\"225.9468\" xlink:href=\"#m7fc2cea469\" y=\"79.12548\"/>\n     <use style=\"fill:#1f77b4;stroke:#333333;\" x=\"89.661364\" xlink:href=\"#m7fc2cea469\" y=\"199.741832\"/>\n     <use style=\"fill:#1f77b4;stroke:#333333;\" x=\"236.461318\" xlink:href=\"#m7fc2cea469\" y=\"78.068572\"/>\n     <use style=\"fill:#1f77b4;stroke:#333333;\" x=\"62.833979\" xlink:href=\"#m7fc2cea469\" y=\"220.776846\"/>\n     <use style=\"fill:#1f77b4;stroke:#333333;\" x=\"235.454463\" xlink:href=\"#m7fc2cea469\" y=\"70.274793\"/>\n     <use style=\"fill:#1f77b4;stroke:#333333;\" x=\"91.24881\" xlink:href=\"#m7fc2cea469\" y=\"183.78936\"/>\n     <use style=\"fill:#1f77b4;stroke:#333333;\" x=\"227.414641\" xlink:href=\"#m7fc2cea469\" y=\"68.147914\"/>\n     <use style=\"fill:#1f77b4;stroke:#333333;\" x=\"95.042808\" xlink:href=\"#m7fc2cea469\" y=\"175.237984\"/>\n     <use style=\"fill:#1f77b4;stroke:#333333;\" x=\"247.29864\" xlink:href=\"#m7fc2cea469\" y=\"80.88986\"/>\n     <use style=\"fill:#1f77b4;stroke:#333333;\" x=\"98.050565\" xlink:href=\"#m7fc2cea469\" y=\"178.407292\"/>\n     <use style=\"fill:#1f77b4;stroke:#333333;\" x=\"94.438584\" xlink:href=\"#m7fc2cea469\" y=\"213.044683\"/>\n     <use style=\"fill:#1f77b4;stroke:#333333;\" x=\"242.319601\" xlink:href=\"#m7fc2cea469\" y=\"77.817587\"/>\n     <use style=\"fill:#1f77b4;stroke:#333333;\" x=\"218.306578\" xlink:href=\"#m7fc2cea469\" y=\"83.020517\"/>\n     <use style=\"fill:#1f77b4;stroke:#333333;\" x=\"204.921438\" xlink:href=\"#m7fc2cea469\" y=\"63.949366\"/>\n     <use style=\"fill:#1f77b4;stroke:#333333;\" x=\"109.69091\" xlink:href=\"#m7fc2cea469\" y=\"185.351131\"/>\n     <use style=\"fill:#1f77b4;stroke:#333333;\" x=\"89.80236\" xlink:href=\"#m7fc2cea469\" y=\"183.087022\"/>\n     <use style=\"fill:#1f77b4;stroke:#333333;\" x=\"105.280407\" xlink:href=\"#m7fc2cea469\" y=\"188.205285\"/>\n     <use style=\"fill:#1f77b4;stroke:#333333;\" x=\"252.009524\" xlink:href=\"#m7fc2cea469\" y=\"75.830269\"/>\n     <use style=\"fill:#1f77b4;stroke:#333333;\" x=\"104.986012\" xlink:href=\"#m7fc2cea469\" y=\"186.566352\"/>\n     <use style=\"fill:#1f77b4;stroke:#333333;\" x=\"100.389522\" xlink:href=\"#m7fc2cea469\" y=\"195.248773\"/>\n     <use style=\"fill:#1f77b4;stroke:#333333;\" x=\"251.274228\" xlink:href=\"#m7fc2cea469\" y=\"61.505952\"/>\n     <use style=\"fill:#1f77b4;stroke:#333333;\" x=\"204.881391\" xlink:href=\"#m7fc2cea469\" y=\"95.36461\"/>\n     <use style=\"fill:#1f77b4;stroke:#333333;\" x=\"122.42129\" xlink:href=\"#m7fc2cea469\" y=\"187.319297\"/>\n     <use style=\"fill:#1f77b4;stroke:#333333;\" x=\"86.530178\" xlink:href=\"#m7fc2cea469\" y=\"187.99343\"/>\n     <use style=\"fill:#1f77b4;stroke:#333333;\" x=\"233.535817\" xlink:href=\"#m7fc2cea469\" y=\"73.53826\"/>\n     <use style=\"fill:#1f77b4;stroke:#333333;\" x=\"99.358074\" xlink:href=\"#m7fc2cea469\" y=\"199.576494\"/>\n     <use style=\"fill:#1f77b4;stroke:#333333;\" x=\"90.075149\" xlink:href=\"#m7fc2cea469\" y=\"188.854682\"/>\n     <use style=\"fill:#1f77b4;stroke:#333333;\" x=\"206.604102\" xlink:href=\"#m7fc2cea469\" y=\"95.618424\"/>\n     <use style=\"fill:#1f77b4;stroke:#333333;\" x=\"80.422939\" xlink:href=\"#m7fc2cea469\" y=\"178.416894\"/>\n     <use style=\"fill:#1f77b4;stroke:#333333;\" x=\"242.609827\" xlink:href=\"#m7fc2cea469\" y=\"80.339902\"/>\n     <use style=\"fill:#1f77b4;stroke:#333333;\" x=\"239.716627\" xlink:href=\"#m7fc2cea469\" y=\"53.909422\"/>\n     <use style=\"fill:#1f77b4;stroke:#333333;\" x=\"220.856229\" xlink:href=\"#m7fc2cea469\" y=\"93.757265\"/>\n     <use style=\"fill:#1f77b4;stroke:#333333;\" x=\"64.422177\" xlink:href=\"#m7fc2cea469\" y=\"190.574529\"/>\n     <use style=\"fill:#1f77b4;stroke:#333333;\" x=\"232.206809\" xlink:href=\"#m7fc2cea469\" y=\"60.869211\"/>\n     <use style=\"fill:#1f77b4;stroke:#333333;\" x=\"228.341972\" xlink:href=\"#m7fc2cea469\" y=\"81.792821\"/>\n     <use style=\"fill:#1f77b4;stroke:#333333;\" x=\"89.098125\" xlink:href=\"#m7fc2cea469\" y=\"191.965122\"/>\n     <use style=\"fill:#1f77b4;stroke:#333333;\" x=\"95.36758\" xlink:href=\"#m7fc2cea469\" y=\"190.466425\"/>\n     <use style=\"fill:#1f77b4;stroke:#333333;\" x=\"220.00312\" xlink:href=\"#m7fc2cea469\" y=\"84.844164\"/>\n     <use style=\"fill:#1f77b4;stroke:#333333;\" x=\"81.972126\" xlink:href=\"#m7fc2cea469\" y=\"178.224361\"/>\n     <use style=\"fill:#1f77b4;stroke:#333333;\" x=\"218.92781\" xlink:href=\"#m7fc2cea469\" y=\"60.448557\"/>\n     <use style=\"fill:#1f77b4;stroke:#333333;\" x=\"200.732184\" xlink:href=\"#m7fc2cea469\" y=\"95.131475\"/>\n     <use style=\"fill:#1f77b4;stroke:#333333;\" x=\"247.509651\" xlink:href=\"#m7fc2cea469\" y=\"96.890757\"/>\n     <use style=\"fill:#1f77b4;stroke:#333333;\" x=\"95.647777\" xlink:href=\"#m7fc2cea469\" y=\"177.475512\"/>\n     <use style=\"fill:#1f77b4;stroke:#333333;\" x=\"207.822041\" xlink:href=\"#m7fc2cea469\" y=\"48.055503\"/>\n     <use style=\"fill:#1f77b4;stroke:#333333;\" x=\"231.522726\" xlink:href=\"#m7fc2cea469\" y=\"56.774463\"/>\n     <use style=\"fill:#1f77b4;stroke:#333333;\" x=\"88.747588\" xlink:href=\"#m7fc2cea469\" y=\"213.191096\"/>\n     <use style=\"fill:#1f77b4;stroke:#333333;\" x=\"201.708896\" xlink:href=\"#m7fc2cea469\" y=\"86.894389\"/>\n     <use style=\"fill:#1f77b4;stroke:#333333;\" x=\"75.671986\" xlink:href=\"#m7fc2cea469\" y=\"207.878105\"/>\n     <use style=\"fill:#1f77b4;stroke:#333333;\" x=\"218.989163\" xlink:href=\"#m7fc2cea469\" y=\"70.928352\"/>\n     <use style=\"fill:#1f77b4;stroke:#333333;\" x=\"100.599105\" xlink:href=\"#m7fc2cea469\" y=\"193.963738\"/>\n     <use style=\"fill:#1f77b4;stroke:#333333;\" x=\"229.694697\" xlink:href=\"#m7fc2cea469\" y=\"52.020446\"/>\n     <use style=\"fill:#1f77b4;stroke:#333333;\" x=\"225.370649\" xlink:href=\"#m7fc2cea469\" y=\"76.801249\"/>\n     <use style=\"fill:#1f77b4;stroke:#333333;\" x=\"265.215483\" xlink:href=\"#m7fc2cea469\" y=\"72.316619\"/>\n     <use style=\"fill:#1f77b4;stroke:#333333;\" x=\"76.396732\" xlink:href=\"#m7fc2cea469\" y=\"167.546793\"/>\n     <use style=\"fill:#1f77b4;stroke:#333333;\" x=\"252.263669\" xlink:href=\"#m7fc2cea469\" y=\"67.218779\"/>\n     <use style=\"fill:#1f77b4;stroke:#333333;\" x=\"65.959465\" xlink:href=\"#m7fc2cea469\" y=\"207.282449\"/>\n     <use style=\"fill:#1f77b4;stroke:#333333;\" x=\"90.160637\" xlink:href=\"#m7fc2cea469\" y=\"184.377494\"/>\n     <use style=\"fill:#1f77b4;stroke:#333333;\" x=\"226.159481\" xlink:href=\"#m7fc2cea469\" y=\"67.785062\"/>\n     <use style=\"fill:#1f77b4;stroke:#333333;\" x=\"88.876233\" xlink:href=\"#m7fc2cea469\" y=\"193.006322\"/>\n     <use style=\"fill:#1f77b4;stroke:#333333;\" x=\"88.389532\" xlink:href=\"#m7fc2cea469\" y=\"211.991328\"/>\n     <use style=\"fill:#1f77b4;stroke:#333333;\" x=\"112.255047\" xlink:href=\"#m7fc2cea469\" y=\"185.505791\"/>\n     <use style=\"fill:#1f77b4;stroke:#333333;\" x=\"81.251561\" xlink:href=\"#m7fc2cea469\" y=\"187.573797\"/>\n     <use style=\"fill:#1f77b4;stroke:#333333;\" x=\"213.83245\" xlink:href=\"#m7fc2cea469\" y=\"75.830283\"/>\n     <use style=\"fill:#1f77b4;stroke:#333333;\" x=\"222.242217\" xlink:href=\"#m7fc2cea469\" y=\"60.630256\"/>\n     <use style=\"fill:#1f77b4;stroke:#333333;\" x=\"229.512045\" xlink:href=\"#m7fc2cea469\" y=\"88.95302\"/>\n     <use style=\"fill:#1f77b4;stroke:#333333;\" x=\"111.254041\" xlink:href=\"#m7fc2cea469\" y=\"187.96336\"/>\n     <use style=\"fill:#1f77b4;stroke:#333333;\" x=\"225.831138\" xlink:href=\"#m7fc2cea469\" y=\"65.732819\"/>\n     <use style=\"fill:#1f77b4;stroke:#333333;\" x=\"211.011737\" xlink:href=\"#m7fc2cea469\" y=\"66.613671\"/>\n     <use style=\"fill:#1f77b4;stroke:#333333;\" x=\"217.37634\" xlink:href=\"#m7fc2cea469\" y=\"81.663\"/>\n     <use style=\"fill:#1f77b4;stroke:#333333;\" x=\"90.505216\" xlink:href=\"#m7fc2cea469\" y=\"170.254982\"/>\n     <use style=\"fill:#1f77b4;stroke:#333333;\" x=\"90.049585\" xlink:href=\"#m7fc2cea469\" y=\"200.533982\"/>\n     <use style=\"fill:#1f77b4;stroke:#333333;\" x=\"204.769142\" xlink:href=\"#m7fc2cea469\" y=\"74.375095\"/>\n     <use style=\"fill:#1f77b4;stroke:#333333;\" x=\"105.288592\" xlink:href=\"#m7fc2cea469\" y=\"182.243432\"/>\n     <use style=\"fill:#1f77b4;stroke:#333333;\" x=\"215.769103\" xlink:href=\"#m7fc2cea469\" y=\"65.965939\"/>\n     <use style=\"fill:#1f77b4;stroke:#333333;\" x=\"124.294462\" xlink:href=\"#m7fc2cea469\" y=\"175.112499\"/>\n     <use style=\"fill:#1f77b4;stroke:#333333;\" x=\"122.131891\" xlink:href=\"#m7fc2cea469\" y=\"209.434121\"/>\n     <use style=\"fill:#1f77b4;stroke:#333333;\" x=\"122.92939\" xlink:href=\"#m7fc2cea469\" y=\"186.484063\"/>\n     <use style=\"fill:#1f77b4;stroke:#333333;\" x=\"86.966663\" xlink:href=\"#m7fc2cea469\" y=\"216.490203\"/>\n     <use style=\"fill:#1f77b4;stroke:#333333;\" x=\"235.977136\" xlink:href=\"#m7fc2cea469\" y=\"72.908783\"/>\n     <use style=\"fill:#1f77b4;stroke:#333333;\" x=\"240.191785\" xlink:href=\"#m7fc2cea469\" y=\"70.266652\"/>\n     <use style=\"fill:#1f77b4;stroke:#333333;\" x=\"81.372285\" xlink:href=\"#m7fc2cea469\" y=\"190.770286\"/>\n     <use style=\"fill:#1f77b4;stroke:#333333;\" x=\"80.468669\" xlink:href=\"#m7fc2cea469\" y=\"207.301969\"/>\n     <use style=\"fill:#1f77b4;stroke:#333333;\" x=\"232.7985\" xlink:href=\"#m7fc2cea469\" y=\"58.043112\"/>\n     <use style=\"fill:#1f77b4;stroke:#333333;\" x=\"94.495638\" xlink:href=\"#m7fc2cea469\" y=\"205.367436\"/>\n     <use style=\"fill:#1f77b4;stroke:#333333;\" x=\"95.856241\" xlink:href=\"#m7fc2cea469\" y=\"186.897372\"/>\n     <use style=\"fill:#1f77b4;stroke:#333333;\" x=\"99.753068\" xlink:href=\"#m7fc2cea469\" y=\"198.918843\"/>\n     <use style=\"fill:#1f77b4;stroke:#333333;\" x=\"211.262706\" xlink:href=\"#m7fc2cea469\" y=\"54.648992\"/>\n     <use style=\"fill:#1f77b4;stroke:#333333;\" x=\"231.794268\" xlink:href=\"#m7fc2cea469\" y=\"69.414162\"/>\n     <use style=\"fill:#1f77b4;stroke:#333333;\" x=\"69.968012\" xlink:href=\"#m7fc2cea469\" y=\"209.734489\"/>\n     <use style=\"fill:#1f77b4;stroke:#333333;\" x=\"236.279644\" xlink:href=\"#m7fc2cea469\" y=\"56.321439\"/>\n     <use style=\"fill:#1f77b4;stroke:#333333;\" x=\"107.35332\" xlink:href=\"#m7fc2cea469\" y=\"191.101607\"/>\n     <use style=\"fill:#1f77b4;stroke:#333333;\" x=\"219.448072\" xlink:href=\"#m7fc2cea469\" y=\"72.20775\"/>\n     <use style=\"fill:#1f77b4;stroke:#333333;\" x=\"75.712532\" xlink:href=\"#m7fc2cea469\" y=\"182.507466\"/>\n    </g>\n   </g>\n   <g id=\"PathCollection_2\">\n    <defs>\n     <path d=\"M 0 3 \nC 0.795609 3 1.55874 2.683901 2.12132 2.12132 \nC 2.683901 1.55874 3 0.795609 3 0 \nC 3 -0.795609 2.683901 -1.55874 2.12132 -2.12132 \nC 1.55874 -2.683901 0.795609 -3 0 -3 \nC -0.795609 -3 -1.55874 -2.683901 -2.12132 -2.12132 \nC -2.683901 -1.55874 -3 -0.795609 -3 0 \nC -3 0.795609 -2.683901 1.55874 -2.12132 2.12132 \nC -1.55874 2.683901 -0.795609 3 0 3 \nz\n\" id=\"m408ee75048\" style=\"stroke:#333333;\"/>\n    </defs>\n    <g clip-path=\"url(#pdcdd28cbd4)\">\n     <use style=\"fill:#ff7f0e;stroke:#333333;\" x=\"105.829152\" xlink:href=\"#m408ee75048\" y=\"60.781544\"/>\n     <use style=\"fill:#ff7f0e;stroke:#333333;\" x=\"231.102756\" xlink:href=\"#m408ee75048\" y=\"182.176765\"/>\n     <use style=\"fill:#ff7f0e;stroke:#333333;\" x=\"85.07767\" xlink:href=\"#m408ee75048\" y=\"77.494583\"/>\n     <use style=\"fill:#ff7f0e;stroke:#333333;\" x=\"100.692958\" xlink:href=\"#m408ee75048\" y=\"60.295162\"/>\n     <use style=\"fill:#ff7f0e;stroke:#333333;\" x=\"220.705928\" xlink:href=\"#m408ee75048\" y=\"208.422511\"/>\n     <use style=\"fill:#ff7f0e;stroke:#333333;\" x=\"227.954923\" xlink:href=\"#m408ee75048\" y=\"181.882825\"/>\n     <use style=\"fill:#ff7f0e;stroke:#333333;\" x=\"84.502478\" xlink:href=\"#m408ee75048\" y=\"60.825259\"/>\n     <use style=\"fill:#ff7f0e;stroke:#333333;\" x=\"123.531993\" xlink:href=\"#m408ee75048\" y=\"68.18995\"/>\n     <use style=\"fill:#ff7f0e;stroke:#333333;\" x=\"79.896184\" xlink:href=\"#m408ee75048\" y=\"73.109481\"/>\n     <use style=\"fill:#ff7f0e;stroke:#333333;\" x=\"225.019974\" xlink:href=\"#m408ee75048\" y=\"172.99627\"/>\n     <use style=\"fill:#ff7f0e;stroke:#333333;\" x=\"108.797608\" xlink:href=\"#m408ee75048\" y=\"62.593831\"/>\n     <use style=\"fill:#ff7f0e;stroke:#333333;\" x=\"116.8583\" xlink:href=\"#m408ee75048\" y=\"53.907433\"/>\n     <use style=\"fill:#ff7f0e;stroke:#333333;\" x=\"81.2396\" xlink:href=\"#m408ee75048\" y=\"52.395881\"/>\n     <use style=\"fill:#ff7f0e;stroke:#333333;\" x=\"225.397347\" xlink:href=\"#m408ee75048\" y=\"191.854902\"/>\n     <use style=\"fill:#ff7f0e;stroke:#333333;\" x=\"238.033426\" xlink:href=\"#m408ee75048\" y=\"194.879731\"/>\n     <use style=\"fill:#ff7f0e;stroke:#333333;\" x=\"114.898471\" xlink:href=\"#m408ee75048\" y=\"79.218967\"/>\n     <use style=\"fill:#ff7f0e;stroke:#333333;\" x=\"99.837625\" xlink:href=\"#m408ee75048\" y=\"59.450732\"/>\n     <use style=\"fill:#ff7f0e;stroke:#333333;\" x=\"62.306392\" xlink:href=\"#m408ee75048\" y=\"73.59226\"/>\n     <use style=\"fill:#ff7f0e;stroke:#333333;\" x=\"95.438817\" xlink:href=\"#m408ee75048\" y=\"85.790354\"/>\n     <use style=\"fill:#ff7f0e;stroke:#333333;\" x=\"213.137607\" xlink:href=\"#m408ee75048\" y=\"191.464864\"/>\n     <use style=\"fill:#ff7f0e;stroke:#333333;\" x=\"205.997148\" xlink:href=\"#m408ee75048\" y=\"176.851779\"/>\n     <use style=\"fill:#ff7f0e;stroke:#333333;\" x=\"202.557452\" xlink:href=\"#m408ee75048\" y=\"208.359212\"/>\n     <use style=\"fill:#ff7f0e;stroke:#333333;\" x=\"213.898934\" xlink:href=\"#m408ee75048\" y=\"209.598298\"/>\n     <use style=\"fill:#ff7f0e;stroke:#333333;\" x=\"97.478421\" xlink:href=\"#m408ee75048\" y=\"60.011269\"/>\n     <use style=\"fill:#ff7f0e;stroke:#333333;\" x=\"88.212778\" xlink:href=\"#m408ee75048\" y=\"65.530979\"/>\n     <use style=\"fill:#ff7f0e;stroke:#333333;\" x=\"249.005916\" xlink:href=\"#m408ee75048\" y=\"196.048551\"/>\n     <use style=\"fill:#ff7f0e;stroke:#333333;\" x=\"232.033231\" xlink:href=\"#m408ee75048\" y=\"198.890263\"/>\n     <use style=\"fill:#ff7f0e;stroke:#333333;\" x=\"243.798535\" xlink:href=\"#m408ee75048\" y=\"229.874489\"/>\n     <use style=\"fill:#ff7f0e;stroke:#333333;\" x=\"239.270383\" xlink:href=\"#m408ee75048\" y=\"171.574833\"/>\n     <use style=\"fill:#ff7f0e;stroke:#333333;\" x=\"100.005071\" xlink:href=\"#m408ee75048\" y=\"76.774197\"/>\n     <use style=\"fill:#ff7f0e;stroke:#333333;\" x=\"102.741365\" xlink:href=\"#m408ee75048\" y=\"86.58491\"/>\n     <use style=\"fill:#ff7f0e;stroke:#333333;\" x=\"232.948182\" xlink:href=\"#m408ee75048\" y=\"204.351496\"/>\n     <use style=\"fill:#ff7f0e;stroke:#333333;\" x=\"93.139398\" xlink:href=\"#m408ee75048\" y=\"51.488551\"/>\n     <use style=\"fill:#ff7f0e;stroke:#333333;\" x=\"223.610791\" xlink:href=\"#m408ee75048\" y=\"206.656574\"/>\n     <use style=\"fill:#ff7f0e;stroke:#333333;\" x=\"223.092695\" xlink:href=\"#m408ee75048\" y=\"197.296297\"/>\n     <use style=\"fill:#ff7f0e;stroke:#333333;\" x=\"196.377374\" xlink:href=\"#m408ee75048\" y=\"202.400329\"/>\n     <use style=\"fill:#ff7f0e;stroke:#333333;\" x=\"231.777522\" xlink:href=\"#m408ee75048\" y=\"183.319013\"/>\n     <use style=\"fill:#ff7f0e;stroke:#333333;\" x=\"96.247179\" xlink:href=\"#m408ee75048\" y=\"82.948712\"/>\n     <use style=\"fill:#ff7f0e;stroke:#333333;\" x=\"237.508456\" xlink:href=\"#m408ee75048\" y=\"192.390004\"/>\n     <use style=\"fill:#ff7f0e;stroke:#333333;\" x=\"92.376047\" xlink:href=\"#m408ee75048\" y=\"56.898522\"/>\n     <use style=\"fill:#ff7f0e;stroke:#333333;\" x=\"219.09282\" xlink:href=\"#m408ee75048\" y=\"196.2628\"/>\n     <use style=\"fill:#ff7f0e;stroke:#333333;\" x=\"84.829792\" xlink:href=\"#m408ee75048\" y=\"46.151336\"/>\n     <use style=\"fill:#ff7f0e;stroke:#333333;\" x=\"93.676417\" xlink:href=\"#m408ee75048\" y=\"56.829744\"/>\n     <use style=\"fill:#ff7f0e;stroke:#333333;\" x=\"88.621097\" xlink:href=\"#m408ee75048\" y=\"74.164135\"/>\n     <use style=\"fill:#ff7f0e;stroke:#333333;\" x=\"102.311781\" xlink:href=\"#m408ee75048\" y=\"60.125929\"/>\n     <use style=\"fill:#ff7f0e;stroke:#333333;\" x=\"222.678532\" xlink:href=\"#m408ee75048\" y=\"180.217089\"/>\n     <use style=\"fill:#ff7f0e;stroke:#333333;\" x=\"90.160329\" xlink:href=\"#m408ee75048\" y=\"62.299093\"/>\n     <use style=\"fill:#ff7f0e;stroke:#333333;\" x=\"115.055065\" xlink:href=\"#m408ee75048\" y=\"76.510269\"/>\n     <use style=\"fill:#ff7f0e;stroke:#333333;\" x=\"75.000629\" xlink:href=\"#m408ee75048\" y=\"57.485153\"/>\n     <use style=\"fill:#ff7f0e;stroke:#333333;\" x=\"214.109953\" xlink:href=\"#m408ee75048\" y=\"204.30335\"/>\n     <use style=\"fill:#ff7f0e;stroke:#333333;\" x=\"89.127174\" xlink:href=\"#m408ee75048\" y=\"80.269068\"/>\n     <use style=\"fill:#ff7f0e;stroke:#333333;\" x=\"232.34732\" xlink:href=\"#m408ee75048\" y=\"180.61572\"/>\n     <use style=\"fill:#ff7f0e;stroke:#333333;\" x=\"78.509439\" xlink:href=\"#m408ee75048\" y=\"97.955371\"/>\n     <use style=\"fill:#ff7f0e;stroke:#333333;\" x=\"76.338955\" xlink:href=\"#m408ee75048\" y=\"59.513557\"/>\n     <use style=\"fill:#ff7f0e;stroke:#333333;\" x=\"222.647705\" xlink:href=\"#m408ee75048\" y=\"177.98274\"/>\n     <use style=\"fill:#ff7f0e;stroke:#333333;\" x=\"106.274782\" xlink:href=\"#m408ee75048\" y=\"86.189327\"/>\n     <use style=\"fill:#ff7f0e;stroke:#333333;\" x=\"81.19613\" xlink:href=\"#m408ee75048\" y=\"50.557117\"/>\n     <use style=\"fill:#ff7f0e;stroke:#333333;\" x=\"123.340698\" xlink:href=\"#m408ee75048\" y=\"77.606119\"/>\n     <use style=\"fill:#ff7f0e;stroke:#333333;\" x=\"76.893213\" xlink:href=\"#m408ee75048\" y=\"57.129491\"/>\n     <use style=\"fill:#ff7f0e;stroke:#333333;\" x=\"92.822865\" xlink:href=\"#m408ee75048\" y=\"67.683884\"/>\n     <use style=\"fill:#ff7f0e;stroke:#333333;\" x=\"90.715938\" xlink:href=\"#m408ee75048\" y=\"83.36191\"/>\n     <use style=\"fill:#ff7f0e;stroke:#333333;\" x=\"88.176839\" xlink:href=\"#m408ee75048\" y=\"82.876736\"/>\n     <use style=\"fill:#ff7f0e;stroke:#333333;\" x=\"96.745297\" xlink:href=\"#m408ee75048\" y=\"76.328327\"/>\n     <use style=\"fill:#ff7f0e;stroke:#333333;\" x=\"113.789185\" xlink:href=\"#m408ee75048\" y=\"71.473036\"/>\n     <use style=\"fill:#ff7f0e;stroke:#333333;\" x=\"66.764989\" xlink:href=\"#m408ee75048\" y=\"78.858981\"/>\n     <use style=\"fill:#ff7f0e;stroke:#333333;\" x=\"229.265508\" xlink:href=\"#m408ee75048\" y=\"196.627903\"/>\n     <use style=\"fill:#ff7f0e;stroke:#333333;\" x=\"82.299911\" xlink:href=\"#m408ee75048\" y=\"73.229968\"/>\n     <use style=\"fill:#ff7f0e;stroke:#333333;\" x=\"215.238212\" xlink:href=\"#m408ee75048\" y=\"193.389762\"/>\n     <use style=\"fill:#ff7f0e;stroke:#333333;\" x=\"74.599968\" xlink:href=\"#m408ee75048\" y=\"68.519622\"/>\n     <use style=\"fill:#ff7f0e;stroke:#333333;\" x=\"96.677243\" xlink:href=\"#m408ee75048\" y=\"66.125389\"/>\n     <use style=\"fill:#ff7f0e;stroke:#333333;\" x=\"110.603864\" xlink:href=\"#m408ee75048\" y=\"68.317811\"/>\n     <use style=\"fill:#ff7f0e;stroke:#333333;\" x=\"226.691097\" xlink:href=\"#m408ee75048\" y=\"208.538757\"/>\n     <use style=\"fill:#ff7f0e;stroke:#333333;\" x=\"82.429743\" xlink:href=\"#m408ee75048\" y=\"65.40963\"/>\n     <use style=\"fill:#ff7f0e;stroke:#333333;\" x=\"237.547827\" xlink:href=\"#m408ee75048\" y=\"172.130247\"/>\n     <use style=\"fill:#ff7f0e;stroke:#333333;\" x=\"205.918357\" xlink:href=\"#m408ee75048\" y=\"186.491188\"/>\n     <use style=\"fill:#ff7f0e;stroke:#333333;\" x=\"109.794363\" xlink:href=\"#m408ee75048\" y=\"80.362761\"/>\n     <use style=\"fill:#ff7f0e;stroke:#333333;\" x=\"229.996243\" xlink:href=\"#m408ee75048\" y=\"192.327889\"/>\n     <use style=\"fill:#ff7f0e;stroke:#333333;\" x=\"208.546155\" xlink:href=\"#m408ee75048\" y=\"206.334575\"/>\n     <use style=\"fill:#ff7f0e;stroke:#333333;\" x=\"88.541316\" xlink:href=\"#m408ee75048\" y=\"52.858747\"/>\n     <use style=\"fill:#ff7f0e;stroke:#333333;\" x=\"232.794232\" xlink:href=\"#m408ee75048\" y=\"193.405269\"/>\n     <use style=\"fill:#ff7f0e;stroke:#333333;\" x=\"94.507629\" xlink:href=\"#m408ee75048\" y=\"64.769235\"/>\n     <use style=\"fill:#ff7f0e;stroke:#333333;\" x=\"234.615925\" xlink:href=\"#m408ee75048\" y=\"207.620203\"/>\n     <use style=\"fill:#ff7f0e;stroke:#333333;\" x=\"94.477708\" xlink:href=\"#m408ee75048\" y=\"56.489582\"/>\n     <use style=\"fill:#ff7f0e;stroke:#333333;\" x=\"234.375088\" xlink:href=\"#m408ee75048\" y=\"191.6737\"/>\n     <use style=\"fill:#ff7f0e;stroke:#333333;\" x=\"242.877476\" xlink:href=\"#m408ee75048\" y=\"181.892993\"/>\n     <use style=\"fill:#ff7f0e;stroke:#333333;\" x=\"105.622156\" xlink:href=\"#m408ee75048\" y=\"74.070722\"/>\n     <use style=\"fill:#ff7f0e;stroke:#333333;\" x=\"98.60098\" xlink:href=\"#m408ee75048\" y=\"82.105865\"/>\n     <use style=\"fill:#ff7f0e;stroke:#333333;\" x=\"87.407675\" xlink:href=\"#m408ee75048\" y=\"74.325029\"/>\n     <use style=\"fill:#ff7f0e;stroke:#333333;\" x=\"213.894194\" xlink:href=\"#m408ee75048\" y=\"200.072196\"/>\n     <use style=\"fill:#ff7f0e;stroke:#333333;\" x=\"240.396834\" xlink:href=\"#m408ee75048\" y=\"189.504714\"/>\n     <use style=\"fill:#ff7f0e;stroke:#333333;\" x=\"226.737326\" xlink:href=\"#m408ee75048\" y=\"191.791985\"/>\n     <use style=\"fill:#ff7f0e;stroke:#333333;\" x=\"218.50064\" xlink:href=\"#m408ee75048\" y=\"191.911947\"/>\n     <use style=\"fill:#ff7f0e;stroke:#333333;\" x=\"233.768004\" xlink:href=\"#m408ee75048\" y=\"177.534006\"/>\n     <use style=\"fill:#ff7f0e;stroke:#333333;\" x=\"217.991479\" xlink:href=\"#m408ee75048\" y=\"204.912393\"/>\n     <use style=\"fill:#ff7f0e;stroke:#333333;\" x=\"84.626247\" xlink:href=\"#m408ee75048\" y=\"66.146267\"/>\n     <use style=\"fill:#ff7f0e;stroke:#333333;\" x=\"234.693022\" xlink:href=\"#m408ee75048\" y=\"176.644897\"/>\n     <use style=\"fill:#ff7f0e;stroke:#333333;\" x=\"89.068475\" xlink:href=\"#m408ee75048\" y=\"32.201761\"/>\n     <use style=\"fill:#ff7f0e;stroke:#333333;\" x=\"208.410873\" xlink:href=\"#m408ee75048\" y=\"203.236647\"/>\n     <use style=\"fill:#ff7f0e;stroke:#333333;\" x=\"90.109902\" xlink:href=\"#m408ee75048\" y=\"59.152591\"/>\n     <use style=\"fill:#ff7f0e;stroke:#333333;\" x=\"75.502541\" xlink:href=\"#m408ee75048\" y=\"52.589617\"/>\n     <use style=\"fill:#ff7f0e;stroke:#333333;\" x=\"94.173747\" xlink:href=\"#m408ee75048\" y=\"51.041362\"/>\n     <use style=\"fill:#ff7f0e;stroke:#333333;\" x=\"100.00419\" xlink:href=\"#m408ee75048\" y=\"61.711519\"/>\n     <use style=\"fill:#ff7f0e;stroke:#333333;\" x=\"213.797721\" xlink:href=\"#m408ee75048\" y=\"209.677544\"/>\n     <use style=\"fill:#ff7f0e;stroke:#333333;\" x=\"84.663446\" xlink:href=\"#m408ee75048\" y=\"72.322402\"/>\n     <use style=\"fill:#ff7f0e;stroke:#333333;\" x=\"232.39912\" xlink:href=\"#m408ee75048\" y=\"202.283123\"/>\n     <use style=\"fill:#ff7f0e;stroke:#333333;\" x=\"257.896135\" xlink:href=\"#m408ee75048\" y=\"202.934071\"/>\n     <use style=\"fill:#ff7f0e;stroke:#333333;\" x=\"103.275309\" xlink:href=\"#m408ee75048\" y=\"84.668138\"/>\n    </g>\n   </g>\n   <g id=\"matplotlib.axis_1\">\n    <g id=\"xtick_1\">\n     <g id=\"line2d_1\">\n      <defs>\n       <path d=\"M 0 0 \nL 0 3.5 \n\" id=\"m7415d71049\" style=\"stroke:#000000;stroke-width:0.8;\"/>\n      </defs>\n      <g>\n       <use style=\"stroke:#000000;stroke-width:0.8;\" x=\"56.215286\" xlink:href=\"#m7415d71049\" y=\"239.758125\"/>\n      </g>\n     </g>\n     <g id=\"text_1\">\n      <!-- −0.25 -->\n      <defs>\n       <path d=\"M 10.59375 35.5 \nL 73.1875 35.5 \nL 73.1875 27.203125 \nL 10.59375 27.203125 \nz\n\" id=\"DejaVuSans-8722\"/>\n       <path d=\"M 31.78125 66.40625 \nQ 24.171875 66.40625 20.328125 58.90625 \nQ 16.5 51.421875 16.5 36.375 \nQ 16.5 21.390625 20.328125 13.890625 \nQ 24.171875 6.390625 31.78125 6.390625 \nQ 39.453125 6.390625 43.28125 13.890625 \nQ 47.125 21.390625 47.125 36.375 \nQ 47.125 51.421875 43.28125 58.90625 \nQ 39.453125 66.40625 31.78125 66.40625 \nz\nM 31.78125 74.21875 \nQ 44.046875 74.21875 50.515625 64.515625 \nQ 56.984375 54.828125 56.984375 36.375 \nQ 56.984375 17.96875 50.515625 8.265625 \nQ 44.046875 -1.421875 31.78125 -1.421875 \nQ 19.53125 -1.421875 13.0625 8.265625 \nQ 6.59375 17.96875 6.59375 36.375 \nQ 6.59375 54.828125 13.0625 64.515625 \nQ 19.53125 74.21875 31.78125 74.21875 \nz\n\" id=\"DejaVuSans-48\"/>\n       <path d=\"M 10.6875 12.40625 \nL 21 12.40625 \nL 21 0 \nL 10.6875 0 \nz\n\" id=\"DejaVuSans-46\"/>\n       <path d=\"M 19.1875 8.296875 \nL 53.609375 8.296875 \nL 53.609375 0 \nL 7.328125 0 \nL 7.328125 8.296875 \nQ 12.9375 14.109375 22.625 23.890625 \nQ 32.328125 33.6875 34.8125 36.53125 \nQ 39.546875 41.84375 41.421875 45.53125 \nQ 43.3125 49.21875 43.3125 52.78125 \nQ 43.3125 58.59375 39.234375 62.25 \nQ 35.15625 65.921875 28.609375 65.921875 \nQ 23.96875 65.921875 18.8125 64.3125 \nQ 13.671875 62.703125 7.8125 59.421875 \nL 7.8125 69.390625 \nQ 13.765625 71.78125 18.9375 73 \nQ 24.125 74.21875 28.421875 74.21875 \nQ 39.75 74.21875 46.484375 68.546875 \nQ 53.21875 62.890625 53.21875 53.421875 \nQ 53.21875 48.921875 51.53125 44.890625 \nQ 49.859375 40.875 45.40625 35.40625 \nQ 44.1875 33.984375 37.640625 27.21875 \nQ 31.109375 20.453125 19.1875 8.296875 \nz\n\" id=\"DejaVuSans-50\"/>\n       <path d=\"M 10.796875 72.90625 \nL 49.515625 72.90625 \nL 49.515625 64.59375 \nL 19.828125 64.59375 \nL 19.828125 46.734375 \nQ 21.96875 47.46875 24.109375 47.828125 \nQ 26.265625 48.1875 28.421875 48.1875 \nQ 40.625 48.1875 47.75 41.5 \nQ 54.890625 34.8125 54.890625 23.390625 \nQ 54.890625 11.625 47.5625 5.09375 \nQ 40.234375 -1.421875 26.90625 -1.421875 \nQ 22.3125 -1.421875 17.546875 -0.640625 \nQ 12.796875 0.140625 7.71875 1.703125 \nL 7.71875 11.625 \nQ 12.109375 9.234375 16.796875 8.0625 \nQ 21.484375 6.890625 26.703125 6.890625 \nQ 35.15625 6.890625 40.078125 11.328125 \nQ 45.015625 15.765625 45.015625 23.390625 \nQ 45.015625 31 40.078125 35.4375 \nQ 35.15625 39.890625 26.703125 39.890625 \nQ 22.75 39.890625 18.8125 39.015625 \nQ 14.890625 38.140625 10.796875 36.28125 \nz\n\" id=\"DejaVuSans-53\"/>\n      </defs>\n      <g transform=\"translate(40.89263 254.356562)scale(0.1 -0.1)\">\n       <use xlink:href=\"#DejaVuSans-8722\"/>\n       <use x=\"83.789062\" xlink:href=\"#DejaVuSans-48\"/>\n       <use x=\"147.412109\" xlink:href=\"#DejaVuSans-46\"/>\n       <use x=\"179.199219\" xlink:href=\"#DejaVuSans-50\"/>\n       <use x=\"242.822266\" xlink:href=\"#DejaVuSans-53\"/>\n      </g>\n     </g>\n    </g>\n    <g id=\"xtick_2\">\n     <g id=\"line2d_2\">\n      <g>\n       <use style=\"stroke:#000000;stroke-width:0.8;\" x=\"90.376327\" xlink:href=\"#m7415d71049\" y=\"239.758125\"/>\n      </g>\n     </g>\n     <g id=\"text_2\">\n      <!-- 0.00 -->\n      <g transform=\"translate(79.243515 254.356562)scale(0.1 -0.1)\">\n       <use xlink:href=\"#DejaVuSans-48\"/>\n       <use x=\"63.623047\" xlink:href=\"#DejaVuSans-46\"/>\n       <use x=\"95.410156\" xlink:href=\"#DejaVuSans-48\"/>\n       <use x=\"159.033203\" xlink:href=\"#DejaVuSans-48\"/>\n      </g>\n     </g>\n    </g>\n    <g id=\"xtick_3\">\n     <g id=\"line2d_3\">\n      <g>\n       <use style=\"stroke:#000000;stroke-width:0.8;\" x=\"124.537368\" xlink:href=\"#m7415d71049\" y=\"239.758125\"/>\n      </g>\n     </g>\n     <g id=\"text_3\">\n      <!-- 0.25 -->\n      <g transform=\"translate(113.404555 254.356562)scale(0.1 -0.1)\">\n       <use xlink:href=\"#DejaVuSans-48\"/>\n       <use x=\"63.623047\" xlink:href=\"#DejaVuSans-46\"/>\n       <use x=\"95.410156\" xlink:href=\"#DejaVuSans-50\"/>\n       <use x=\"159.033203\" xlink:href=\"#DejaVuSans-53\"/>\n      </g>\n     </g>\n    </g>\n    <g id=\"xtick_4\">\n     <g id=\"line2d_4\">\n      <g>\n       <use style=\"stroke:#000000;stroke-width:0.8;\" x=\"158.698409\" xlink:href=\"#m7415d71049\" y=\"239.758125\"/>\n      </g>\n     </g>\n     <g id=\"text_4\">\n      <!-- 0.50 -->\n      <g transform=\"translate(147.565596 254.356562)scale(0.1 -0.1)\">\n       <use xlink:href=\"#DejaVuSans-48\"/>\n       <use x=\"63.623047\" xlink:href=\"#DejaVuSans-46\"/>\n       <use x=\"95.410156\" xlink:href=\"#DejaVuSans-53\"/>\n       <use x=\"159.033203\" xlink:href=\"#DejaVuSans-48\"/>\n      </g>\n     </g>\n    </g>\n    <g id=\"xtick_5\">\n     <g id=\"line2d_5\">\n      <g>\n       <use style=\"stroke:#000000;stroke-width:0.8;\" x=\"192.859449\" xlink:href=\"#m7415d71049\" y=\"239.758125\"/>\n      </g>\n     </g>\n     <g id=\"text_5\">\n      <!-- 0.75 -->\n      <defs>\n       <path d=\"M 8.203125 72.90625 \nL 55.078125 72.90625 \nL 55.078125 68.703125 \nL 28.609375 0 \nL 18.3125 0 \nL 43.21875 64.59375 \nL 8.203125 64.59375 \nz\n\" id=\"DejaVuSans-55\"/>\n      </defs>\n      <g transform=\"translate(181.726637 254.356562)scale(0.1 -0.1)\">\n       <use xlink:href=\"#DejaVuSans-48\"/>\n       <use x=\"63.623047\" xlink:href=\"#DejaVuSans-46\"/>\n       <use x=\"95.410156\" xlink:href=\"#DejaVuSans-55\"/>\n       <use x=\"159.033203\" xlink:href=\"#DejaVuSans-53\"/>\n      </g>\n     </g>\n    </g>\n    <g id=\"xtick_6\">\n     <g id=\"line2d_6\">\n      <g>\n       <use style=\"stroke:#000000;stroke-width:0.8;\" x=\"227.02049\" xlink:href=\"#m7415d71049\" y=\"239.758125\"/>\n      </g>\n     </g>\n     <g id=\"text_6\">\n      <!-- 1.00 -->\n      <defs>\n       <path d=\"M 12.40625 8.296875 \nL 28.515625 8.296875 \nL 28.515625 63.921875 \nL 10.984375 60.40625 \nL 10.984375 69.390625 \nL 28.421875 72.90625 \nL 38.28125 72.90625 \nL 38.28125 8.296875 \nL 54.390625 8.296875 \nL 54.390625 0 \nL 12.40625 0 \nz\n\" id=\"DejaVuSans-49\"/>\n      </defs>\n      <g transform=\"translate(215.887678 254.356562)scale(0.1 -0.1)\">\n       <use xlink:href=\"#DejaVuSans-49\"/>\n       <use x=\"63.623047\" xlink:href=\"#DejaVuSans-46\"/>\n       <use x=\"95.410156\" xlink:href=\"#DejaVuSans-48\"/>\n       <use x=\"159.033203\" xlink:href=\"#DejaVuSans-48\"/>\n      </g>\n     </g>\n    </g>\n    <g id=\"xtick_7\">\n     <g id=\"line2d_7\">\n      <g>\n       <use style=\"stroke:#000000;stroke-width:0.8;\" x=\"261.181531\" xlink:href=\"#m7415d71049\" y=\"239.758125\"/>\n      </g>\n     </g>\n     <g id=\"text_7\">\n      <!-- 1.25 -->\n      <g transform=\"translate(250.048718 254.356562)scale(0.1 -0.1)\">\n       <use xlink:href=\"#DejaVuSans-49\"/>\n       <use x=\"63.623047\" xlink:href=\"#DejaVuSans-46\"/>\n       <use x=\"95.410156\" xlink:href=\"#DejaVuSans-50\"/>\n       <use x=\"159.033203\" xlink:href=\"#DejaVuSans-53\"/>\n      </g>\n     </g>\n    </g>\n    <g id=\"text_8\">\n     <!-- $x_1$ -->\n     <defs>\n      <path d=\"M 60.015625 54.6875 \nL 34.90625 27.875 \nL 50.296875 0 \nL 39.984375 0 \nL 28.421875 21.6875 \nL 8.296875 0 \nL -2.59375 0 \nL 24.3125 28.8125 \nL 10.015625 54.6875 \nL 20.3125 54.6875 \nL 30.8125 34.90625 \nL 49.125 54.6875 \nz\n\" id=\"DejaVuSans-Oblique-120\"/>\n     </defs>\n     <g transform=\"translate(158.410938 268.034687)scale(0.1 -0.1)\">\n      <use transform=\"translate(0 0.3125)\" xlink:href=\"#DejaVuSans-Oblique-120\"/>\n      <use transform=\"translate(59.179688 -16.09375)scale(0.7)\" xlink:href=\"#DejaVuSans-49\"/>\n     </g>\n    </g>\n   </g>\n   <g id=\"matplotlib.axis_2\">\n    <g id=\"ytick_1\">\n     <g id=\"line2d_8\">\n      <defs>\n       <path d=\"M 0 0 \nL -3.5 0 \n\" id=\"me1419ed3f7\" style=\"stroke:#000000;stroke-width:0.8;\"/>\n      </defs>\n      <g>\n       <use style=\"stroke:#000000;stroke-width:0.8;\" x=\"52.160938\" xlink:href=\"#me1419ed3f7\" y=\"218.1735\"/>\n      </g>\n     </g>\n     <g id=\"text_9\">\n      <!-- −0.2 -->\n      <g transform=\"translate(20.878125 221.972718)scale(0.1 -0.1)\">\n       <use xlink:href=\"#DejaVuSans-8722\"/>\n       <use x=\"83.789062\" xlink:href=\"#DejaVuSans-48\"/>\n       <use x=\"147.412109\" xlink:href=\"#DejaVuSans-46\"/>\n       <use x=\"179.199219\" xlink:href=\"#DejaVuSans-50\"/>\n      </g>\n     </g>\n    </g>\n    <g id=\"ytick_2\">\n     <g id=\"line2d_9\">\n      <g>\n       <use style=\"stroke:#000000;stroke-width:0.8;\" x=\"52.160938\" xlink:href=\"#me1419ed3f7\" y=\"193.454084\"/>\n      </g>\n     </g>\n     <g id=\"text_10\">\n      <!-- 0.0 -->\n      <g transform=\"translate(29.257812 197.253303)scale(0.1 -0.1)\">\n       <use xlink:href=\"#DejaVuSans-48\"/>\n       <use x=\"63.623047\" xlink:href=\"#DejaVuSans-46\"/>\n       <use x=\"95.410156\" xlink:href=\"#DejaVuSans-48\"/>\n      </g>\n     </g>\n    </g>\n    <g id=\"ytick_3\">\n     <g id=\"line2d_10\">\n      <g>\n       <use style=\"stroke:#000000;stroke-width:0.8;\" x=\"52.160938\" xlink:href=\"#me1419ed3f7\" y=\"168.734668\"/>\n      </g>\n     </g>\n     <g id=\"text_11\">\n      <!-- 0.2 -->\n      <g transform=\"translate(29.257812 172.533887)scale(0.1 -0.1)\">\n       <use xlink:href=\"#DejaVuSans-48\"/>\n       <use x=\"63.623047\" xlink:href=\"#DejaVuSans-46\"/>\n       <use x=\"95.410156\" xlink:href=\"#DejaVuSans-50\"/>\n      </g>\n     </g>\n    </g>\n    <g id=\"ytick_4\">\n     <g id=\"line2d_11\">\n      <g>\n       <use style=\"stroke:#000000;stroke-width:0.8;\" x=\"52.160938\" xlink:href=\"#me1419ed3f7\" y=\"144.015252\"/>\n      </g>\n     </g>\n     <g id=\"text_12\">\n      <!-- 0.4 -->\n      <defs>\n       <path d=\"M 37.796875 64.3125 \nL 12.890625 25.390625 \nL 37.796875 25.390625 \nz\nM 35.203125 72.90625 \nL 47.609375 72.90625 \nL 47.609375 25.390625 \nL 58.015625 25.390625 \nL 58.015625 17.1875 \nL 47.609375 17.1875 \nL 47.609375 0 \nL 37.796875 0 \nL 37.796875 17.1875 \nL 4.890625 17.1875 \nL 4.890625 26.703125 \nz\n\" id=\"DejaVuSans-52\"/>\n      </defs>\n      <g transform=\"translate(29.257812 147.814471)scale(0.1 -0.1)\">\n       <use xlink:href=\"#DejaVuSans-48\"/>\n       <use x=\"63.623047\" xlink:href=\"#DejaVuSans-46\"/>\n       <use x=\"95.410156\" xlink:href=\"#DejaVuSans-52\"/>\n      </g>\n     </g>\n    </g>\n    <g id=\"ytick_5\">\n     <g id=\"line2d_12\">\n      <g>\n       <use style=\"stroke:#000000;stroke-width:0.8;\" x=\"52.160938\" xlink:href=\"#me1419ed3f7\" y=\"119.295836\"/>\n      </g>\n     </g>\n     <g id=\"text_13\">\n      <!-- 0.6 -->\n      <defs>\n       <path d=\"M 33.015625 40.375 \nQ 26.375 40.375 22.484375 35.828125 \nQ 18.609375 31.296875 18.609375 23.390625 \nQ 18.609375 15.53125 22.484375 10.953125 \nQ 26.375 6.390625 33.015625 6.390625 \nQ 39.65625 6.390625 43.53125 10.953125 \nQ 47.40625 15.53125 47.40625 23.390625 \nQ 47.40625 31.296875 43.53125 35.828125 \nQ 39.65625 40.375 33.015625 40.375 \nz\nM 52.59375 71.296875 \nL 52.59375 62.3125 \nQ 48.875 64.0625 45.09375 64.984375 \nQ 41.3125 65.921875 37.59375 65.921875 \nQ 27.828125 65.921875 22.671875 59.328125 \nQ 17.53125 52.734375 16.796875 39.40625 \nQ 19.671875 43.65625 24.015625 45.921875 \nQ 28.375 48.1875 33.59375 48.1875 \nQ 44.578125 48.1875 50.953125 41.515625 \nQ 57.328125 34.859375 57.328125 23.390625 \nQ 57.328125 12.15625 50.6875 5.359375 \nQ 44.046875 -1.421875 33.015625 -1.421875 \nQ 20.359375 -1.421875 13.671875 8.265625 \nQ 6.984375 17.96875 6.984375 36.375 \nQ 6.984375 53.65625 15.1875 63.9375 \nQ 23.390625 74.21875 37.203125 74.21875 \nQ 40.921875 74.21875 44.703125 73.484375 \nQ 48.484375 72.75 52.59375 71.296875 \nz\n\" id=\"DejaVuSans-54\"/>\n      </defs>\n      <g transform=\"translate(29.257812 123.095055)scale(0.1 -0.1)\">\n       <use xlink:href=\"#DejaVuSans-48\"/>\n       <use x=\"63.623047\" xlink:href=\"#DejaVuSans-46\"/>\n       <use x=\"95.410156\" xlink:href=\"#DejaVuSans-54\"/>\n      </g>\n     </g>\n    </g>\n    <g id=\"ytick_6\">\n     <g id=\"line2d_13\">\n      <g>\n       <use style=\"stroke:#000000;stroke-width:0.8;\" x=\"52.160938\" xlink:href=\"#me1419ed3f7\" y=\"94.576421\"/>\n      </g>\n     </g>\n     <g id=\"text_14\">\n      <!-- 0.8 -->\n      <defs>\n       <path d=\"M 31.78125 34.625 \nQ 24.75 34.625 20.71875 30.859375 \nQ 16.703125 27.09375 16.703125 20.515625 \nQ 16.703125 13.921875 20.71875 10.15625 \nQ 24.75 6.390625 31.78125 6.390625 \nQ 38.8125 6.390625 42.859375 10.171875 \nQ 46.921875 13.96875 46.921875 20.515625 \nQ 46.921875 27.09375 42.890625 30.859375 \nQ 38.875 34.625 31.78125 34.625 \nz\nM 21.921875 38.8125 \nQ 15.578125 40.375 12.03125 44.71875 \nQ 8.5 49.078125 8.5 55.328125 \nQ 8.5 64.0625 14.71875 69.140625 \nQ 20.953125 74.21875 31.78125 74.21875 \nQ 42.671875 74.21875 48.875 69.140625 \nQ 55.078125 64.0625 55.078125 55.328125 \nQ 55.078125 49.078125 51.53125 44.71875 \nQ 48 40.375 41.703125 38.8125 \nQ 48.828125 37.15625 52.796875 32.3125 \nQ 56.78125 27.484375 56.78125 20.515625 \nQ 56.78125 9.90625 50.3125 4.234375 \nQ 43.84375 -1.421875 31.78125 -1.421875 \nQ 19.734375 -1.421875 13.25 4.234375 \nQ 6.78125 9.90625 6.78125 20.515625 \nQ 6.78125 27.484375 10.78125 32.3125 \nQ 14.796875 37.15625 21.921875 38.8125 \nz\nM 18.3125 54.390625 \nQ 18.3125 48.734375 21.84375 45.5625 \nQ 25.390625 42.390625 31.78125 42.390625 \nQ 38.140625 42.390625 41.71875 45.5625 \nQ 45.3125 48.734375 45.3125 54.390625 \nQ 45.3125 60.0625 41.71875 63.234375 \nQ 38.140625 66.40625 31.78125 66.40625 \nQ 25.390625 66.40625 21.84375 63.234375 \nQ 18.3125 60.0625 18.3125 54.390625 \nz\n\" id=\"DejaVuSans-56\"/>\n      </defs>\n      <g transform=\"translate(29.257812 98.375639)scale(0.1 -0.1)\">\n       <use xlink:href=\"#DejaVuSans-48\"/>\n       <use x=\"63.623047\" xlink:href=\"#DejaVuSans-46\"/>\n       <use x=\"95.410156\" xlink:href=\"#DejaVuSans-56\"/>\n      </g>\n     </g>\n    </g>\n    <g id=\"ytick_7\">\n     <g id=\"line2d_14\">\n      <g>\n       <use style=\"stroke:#000000;stroke-width:0.8;\" x=\"52.160938\" xlink:href=\"#me1419ed3f7\" y=\"69.857005\"/>\n      </g>\n     </g>\n     <g id=\"text_15\">\n      <!-- 1.0 -->\n      <g transform=\"translate(29.257812 73.656224)scale(0.1 -0.1)\">\n       <use xlink:href=\"#DejaVuSans-49\"/>\n       <use x=\"63.623047\" xlink:href=\"#DejaVuSans-46\"/>\n       <use x=\"95.410156\" xlink:href=\"#DejaVuSans-48\"/>\n      </g>\n     </g>\n    </g>\n    <g id=\"ytick_8\">\n     <g id=\"line2d_15\">\n      <g>\n       <use style=\"stroke:#000000;stroke-width:0.8;\" x=\"52.160938\" xlink:href=\"#me1419ed3f7\" y=\"45.137589\"/>\n      </g>\n     </g>\n     <g id=\"text_16\">\n      <!-- 1.2 -->\n      <g transform=\"translate(29.257812 48.936808)scale(0.1 -0.1)\">\n       <use xlink:href=\"#DejaVuSans-49\"/>\n       <use x=\"63.623047\" xlink:href=\"#DejaVuSans-46\"/>\n       <use x=\"95.410156\" xlink:href=\"#DejaVuSans-50\"/>\n      </g>\n     </g>\n    </g>\n    <g id=\"text_17\">\n     <!-- $x_2$ -->\n     <g transform=\"translate(14.798438 136.388125)rotate(-90)scale(0.1 -0.1)\">\n      <use transform=\"translate(0 0.3125)\" xlink:href=\"#DejaVuSans-Oblique-120\"/>\n      <use transform=\"translate(59.179688 -16.09375)scale(0.7)\" xlink:href=\"#DejaVuSans-50\"/>\n     </g>\n    </g>\n   </g>\n   <g id=\"patch_3\">\n    <path d=\"M 52.160938 239.758125 \nL 52.160938 22.318125 \n\" style=\"fill:none;stroke:#000000;stroke-linecap:square;stroke-linejoin:miter;stroke-width:0.8;\"/>\n   </g>\n   <g id=\"patch_4\">\n    <path d=\"M 275.360937 239.758125 \nL 275.360937 22.318125 \n\" style=\"fill:none;stroke:#000000;stroke-linecap:square;stroke-linejoin:miter;stroke-width:0.8;\"/>\n   </g>\n   <g id=\"patch_5\">\n    <path d=\"M 52.160938 239.758125 \nL 275.360937 239.758125 \n\" style=\"fill:none;stroke:#000000;stroke-linecap:square;stroke-linejoin:miter;stroke-width:0.8;\"/>\n   </g>\n   <g id=\"patch_6\">\n    <path d=\"M 52.160938 22.318125 \nL 275.360937 22.318125 \n\" style=\"fill:none;stroke:#000000;stroke-linecap:square;stroke-linejoin:miter;stroke-width:0.8;\"/>\n   </g>\n   <g id=\"text_18\">\n    <!-- Dataset samples -->\n    <defs>\n     <path d=\"M 19.671875 64.796875 \nL 19.671875 8.109375 \nL 31.59375 8.109375 \nQ 46.6875 8.109375 53.6875 14.9375 \nQ 60.6875 21.78125 60.6875 36.53125 \nQ 60.6875 51.171875 53.6875 57.984375 \nQ 46.6875 64.796875 31.59375 64.796875 \nz\nM 9.8125 72.90625 \nL 30.078125 72.90625 \nQ 51.265625 72.90625 61.171875 64.09375 \nQ 71.09375 55.28125 71.09375 36.53125 \nQ 71.09375 17.671875 61.125 8.828125 \nQ 51.171875 0 30.078125 0 \nL 9.8125 0 \nz\n\" id=\"DejaVuSans-68\"/>\n     <path d=\"M 34.28125 27.484375 \nQ 23.390625 27.484375 19.1875 25 \nQ 14.984375 22.515625 14.984375 16.5 \nQ 14.984375 11.71875 18.140625 8.90625 \nQ 21.296875 6.109375 26.703125 6.109375 \nQ 34.1875 6.109375 38.703125 11.40625 \nQ 43.21875 16.703125 43.21875 25.484375 \nL 43.21875 27.484375 \nz\nM 52.203125 31.203125 \nL 52.203125 0 \nL 43.21875 0 \nL 43.21875 8.296875 \nQ 40.140625 3.328125 35.546875 0.953125 \nQ 30.953125 -1.421875 24.3125 -1.421875 \nQ 15.921875 -1.421875 10.953125 3.296875 \nQ 6 8.015625 6 15.921875 \nQ 6 25.140625 12.171875 29.828125 \nQ 18.359375 34.515625 30.609375 34.515625 \nL 43.21875 34.515625 \nL 43.21875 35.40625 \nQ 43.21875 41.609375 39.140625 45 \nQ 35.0625 48.390625 27.6875 48.390625 \nQ 23 48.390625 18.546875 47.265625 \nQ 14.109375 46.140625 10.015625 43.890625 \nL 10.015625 52.203125 \nQ 14.9375 54.109375 19.578125 55.046875 \nQ 24.21875 56 28.609375 56 \nQ 40.484375 56 46.34375 49.84375 \nQ 52.203125 43.703125 52.203125 31.203125 \nz\n\" id=\"DejaVuSans-97\"/>\n     <path d=\"M 18.3125 70.21875 \nL 18.3125 54.6875 \nL 36.8125 54.6875 \nL 36.8125 47.703125 \nL 18.3125 47.703125 \nL 18.3125 18.015625 \nQ 18.3125 11.328125 20.140625 9.421875 \nQ 21.96875 7.515625 27.59375 7.515625 \nL 36.8125 7.515625 \nL 36.8125 0 \nL 27.59375 0 \nQ 17.1875 0 13.234375 3.875 \nQ 9.28125 7.765625 9.28125 18.015625 \nL 9.28125 47.703125 \nL 2.6875 47.703125 \nL 2.6875 54.6875 \nL 9.28125 54.6875 \nL 9.28125 70.21875 \nz\n\" id=\"DejaVuSans-116\"/>\n     <path d=\"M 44.28125 53.078125 \nL 44.28125 44.578125 \nQ 40.484375 46.53125 36.375 47.5 \nQ 32.28125 48.484375 27.875 48.484375 \nQ 21.1875 48.484375 17.84375 46.4375 \nQ 14.5 44.390625 14.5 40.28125 \nQ 14.5 37.15625 16.890625 35.375 \nQ 19.28125 33.59375 26.515625 31.984375 \nL 29.59375 31.296875 \nQ 39.15625 29.25 43.1875 25.515625 \nQ 47.21875 21.78125 47.21875 15.09375 \nQ 47.21875 7.46875 41.1875 3.015625 \nQ 35.15625 -1.421875 24.609375 -1.421875 \nQ 20.21875 -1.421875 15.453125 -0.5625 \nQ 10.6875 0.296875 5.421875 2 \nL 5.421875 11.28125 \nQ 10.40625 8.6875 15.234375 7.390625 \nQ 20.0625 6.109375 24.8125 6.109375 \nQ 31.15625 6.109375 34.5625 8.28125 \nQ 37.984375 10.453125 37.984375 14.40625 \nQ 37.984375 18.0625 35.515625 20.015625 \nQ 33.0625 21.96875 24.703125 23.78125 \nL 21.578125 24.515625 \nQ 13.234375 26.265625 9.515625 29.90625 \nQ 5.8125 33.546875 5.8125 39.890625 \nQ 5.8125 47.609375 11.28125 51.796875 \nQ 16.75 56 26.8125 56 \nQ 31.78125 56 36.171875 55.265625 \nQ 40.578125 54.546875 44.28125 53.078125 \nz\n\" id=\"DejaVuSans-115\"/>\n     <path d=\"M 56.203125 29.59375 \nL 56.203125 25.203125 \nL 14.890625 25.203125 \nQ 15.484375 15.921875 20.484375 11.0625 \nQ 25.484375 6.203125 34.421875 6.203125 \nQ 39.59375 6.203125 44.453125 7.46875 \nQ 49.3125 8.734375 54.109375 11.28125 \nL 54.109375 2.78125 \nQ 49.265625 0.734375 44.1875 -0.34375 \nQ 39.109375 -1.421875 33.890625 -1.421875 \nQ 20.796875 -1.421875 13.15625 6.1875 \nQ 5.515625 13.8125 5.515625 26.8125 \nQ 5.515625 40.234375 12.765625 48.109375 \nQ 20.015625 56 32.328125 56 \nQ 43.359375 56 49.78125 48.890625 \nQ 56.203125 41.796875 56.203125 29.59375 \nz\nM 47.21875 32.234375 \nQ 47.125 39.59375 43.09375 43.984375 \nQ 39.0625 48.390625 32.421875 48.390625 \nQ 24.90625 48.390625 20.390625 44.140625 \nQ 15.875 39.890625 15.1875 32.171875 \nz\n\" id=\"DejaVuSans-101\"/>\n     <path id=\"DejaVuSans-32\"/>\n     <path d=\"M 52 44.1875 \nQ 55.375 50.25 60.0625 53.125 \nQ 64.75 56 71.09375 56 \nQ 79.640625 56 84.28125 50.015625 \nQ 88.921875 44.046875 88.921875 33.015625 \nL 88.921875 0 \nL 79.890625 0 \nL 79.890625 32.71875 \nQ 79.890625 40.578125 77.09375 44.375 \nQ 74.3125 48.1875 68.609375 48.1875 \nQ 61.625 48.1875 57.5625 43.546875 \nQ 53.515625 38.921875 53.515625 30.90625 \nL 53.515625 0 \nL 44.484375 0 \nL 44.484375 32.71875 \nQ 44.484375 40.625 41.703125 44.40625 \nQ 38.921875 48.1875 33.109375 48.1875 \nQ 26.21875 48.1875 22.15625 43.53125 \nQ 18.109375 38.875 18.109375 30.90625 \nL 18.109375 0 \nL 9.078125 0 \nL 9.078125 54.6875 \nL 18.109375 54.6875 \nL 18.109375 46.1875 \nQ 21.1875 51.21875 25.484375 53.609375 \nQ 29.78125 56 35.6875 56 \nQ 41.65625 56 45.828125 52.96875 \nQ 50 49.953125 52 44.1875 \nz\n\" id=\"DejaVuSans-109\"/>\n     <path d=\"M 18.109375 8.203125 \nL 18.109375 -20.796875 \nL 9.078125 -20.796875 \nL 9.078125 54.6875 \nL 18.109375 54.6875 \nL 18.109375 46.390625 \nQ 20.953125 51.265625 25.265625 53.625 \nQ 29.59375 56 35.59375 56 \nQ 45.5625 56 51.78125 48.09375 \nQ 58.015625 40.1875 58.015625 27.296875 \nQ 58.015625 14.40625 51.78125 6.484375 \nQ 45.5625 -1.421875 35.59375 -1.421875 \nQ 29.59375 -1.421875 25.265625 0.953125 \nQ 20.953125 3.328125 18.109375 8.203125 \nz\nM 48.6875 27.296875 \nQ 48.6875 37.203125 44.609375 42.84375 \nQ 40.53125 48.484375 33.40625 48.484375 \nQ 26.265625 48.484375 22.1875 42.84375 \nQ 18.109375 37.203125 18.109375 27.296875 \nQ 18.109375 17.390625 22.1875 11.75 \nQ 26.265625 6.109375 33.40625 6.109375 \nQ 40.53125 6.109375 44.609375 11.75 \nQ 48.6875 17.390625 48.6875 27.296875 \nz\n\" id=\"DejaVuSans-112\"/>\n     <path d=\"M 9.421875 75.984375 \nL 18.40625 75.984375 \nL 18.40625 0 \nL 9.421875 0 \nz\n\" id=\"DejaVuSans-108\"/>\n    </defs>\n    <g transform=\"translate(113.418125 16.318125)scale(0.12 -0.12)\">\n     <use xlink:href=\"#DejaVuSans-68\"/>\n     <use x=\"77.001953\" xlink:href=\"#DejaVuSans-97\"/>\n     <use x=\"138.28125\" xlink:href=\"#DejaVuSans-116\"/>\n     <use x=\"177.490234\" xlink:href=\"#DejaVuSans-97\"/>\n     <use x=\"238.769531\" xlink:href=\"#DejaVuSans-115\"/>\n     <use x=\"290.869141\" xlink:href=\"#DejaVuSans-101\"/>\n     <use x=\"352.392578\" xlink:href=\"#DejaVuSans-116\"/>\n     <use x=\"391.601562\" xlink:href=\"#DejaVuSans-32\"/>\n     <use x=\"423.388672\" xlink:href=\"#DejaVuSans-115\"/>\n     <use x=\"475.488281\" xlink:href=\"#DejaVuSans-97\"/>\n     <use x=\"536.767578\" xlink:href=\"#DejaVuSans-109\"/>\n     <use x=\"634.179688\" xlink:href=\"#DejaVuSans-112\"/>\n     <use x=\"697.65625\" xlink:href=\"#DejaVuSans-108\"/>\n     <use x=\"725.439453\" xlink:href=\"#DejaVuSans-101\"/>\n     <use x=\"786.962891\" xlink:href=\"#DejaVuSans-115\"/>\n    </g>\n   </g>\n   <g id=\"legend_1\">\n    <g id=\"patch_7\">\n     <path d=\"M 200.5125 147.21625 \nL 268.360937 147.21625 \nQ 270.360937 147.21625 270.360937 145.21625 \nL 270.360937 116.86 \nQ 270.360937 114.86 268.360937 114.86 \nL 200.5125 114.86 \nQ 198.5125 114.86 198.5125 116.86 \nL 198.5125 145.21625 \nQ 198.5125 147.21625 200.5125 147.21625 \nz\n\" style=\"fill:#ffffff;opacity:0.8;stroke:#cccccc;stroke-linejoin:miter;\"/>\n    </g>\n    <g id=\"PathCollection_3\">\n     <g>\n      <use style=\"fill:#1f77b4;stroke:#333333;\" x=\"212.5125\" xlink:href=\"#m7fc2cea469\" y=\"123.833437\"/>\n     </g>\n    </g>\n    <g id=\"text_19\">\n     <!-- Class 0 -->\n     <defs>\n      <path d=\"M 64.40625 67.28125 \nL 64.40625 56.890625 \nQ 59.421875 61.53125 53.78125 63.8125 \nQ 48.140625 66.109375 41.796875 66.109375 \nQ 29.296875 66.109375 22.65625 58.46875 \nQ 16.015625 50.828125 16.015625 36.375 \nQ 16.015625 21.96875 22.65625 14.328125 \nQ 29.296875 6.6875 41.796875 6.6875 \nQ 48.140625 6.6875 53.78125 8.984375 \nQ 59.421875 11.28125 64.40625 15.921875 \nL 64.40625 5.609375 \nQ 59.234375 2.09375 53.4375 0.328125 \nQ 47.65625 -1.421875 41.21875 -1.421875 \nQ 24.65625 -1.421875 15.125 8.703125 \nQ 5.609375 18.84375 5.609375 36.375 \nQ 5.609375 53.953125 15.125 64.078125 \nQ 24.65625 74.21875 41.21875 74.21875 \nQ 47.75 74.21875 53.53125 72.484375 \nQ 59.328125 70.75 64.40625 67.28125 \nz\n\" id=\"DejaVuSans-67\"/>\n     </defs>\n     <g transform=\"translate(230.5125 126.458437)scale(0.1 -0.1)\">\n      <use xlink:href=\"#DejaVuSans-67\"/>\n      <use x=\"69.824219\" xlink:href=\"#DejaVuSans-108\"/>\n      <use x=\"97.607422\" xlink:href=\"#DejaVuSans-97\"/>\n      <use x=\"158.886719\" xlink:href=\"#DejaVuSans-115\"/>\n      <use x=\"210.986328\" xlink:href=\"#DejaVuSans-115\"/>\n      <use x=\"263.085938\" xlink:href=\"#DejaVuSans-32\"/>\n      <use x=\"294.873047\" xlink:href=\"#DejaVuSans-48\"/>\n     </g>\n    </g>\n    <g id=\"PathCollection_4\">\n     <g>\n      <use style=\"fill:#ff7f0e;stroke:#333333;\" x=\"212.5125\" xlink:href=\"#m408ee75048\" y=\"138.511562\"/>\n     </g>\n    </g>\n    <g id=\"text_20\">\n     <!-- Class 1 -->\n     <g transform=\"translate(230.5125 141.136562)scale(0.1 -0.1)\">\n      <use xlink:href=\"#DejaVuSans-67\"/>\n      <use x=\"69.824219\" xlink:href=\"#DejaVuSans-108\"/>\n      <use x=\"97.607422\" xlink:href=\"#DejaVuSans-97\"/>\n      <use x=\"158.886719\" xlink:href=\"#DejaVuSans-115\"/>\n      <use x=\"210.986328\" xlink:href=\"#DejaVuSans-115\"/>\n      <use x=\"263.085938\" xlink:href=\"#DejaVuSans-32\"/>\n      <use x=\"294.873047\" xlink:href=\"#DejaVuSans-49\"/>\n     </g>\n    </g>\n   </g>\n  </g>\n </g>\n <defs>\n  <clipPath id=\"pdcdd28cbd4\">\n   <rect height=\"217.44\" width=\"223.2\" x=\"52.160938\" y=\"22.318125\"/>\n  </clipPath>\n </defs>\n</svg>\n"
          },
          "metadata": {
            "needs_background": "light"
          }
        }
      ]
    },
    {
      "cell_type": "markdown",
      "metadata": {
        "papermill": {
          "duration": 0.238855,
          "end_time": "2021-11-01T12:54:05.418065",
          "exception": false,
          "start_time": "2021-11-01T12:54:05.179210",
          "status": "completed"
        },
        "tags": [],
        "id": "fe0fb97e"
      },
      "source": [
        "#### The data loader class\n",
        "\n",
        "The class `torch.utils.data.DataLoader` represents a Python iterable over a dataset with support for automatic batching, multi-process data loading and many more features.\n",
        "The data loader communicates with the dataset using the function `__getitem__`, and stacks its outputs as tensors over the first dimension to form a batch.\n",
        "In contrast to the dataset class, we usually don't have to define our own data loader class, but can just create an object of it with the dataset as input.\n",
        "Additionally, we can configure our data loader with the following input arguments (only a selection, see full list [here](https://pytorch.org/docs/stable/data.html#torch.utils.data.DataLoader)):\n",
        "\n",
        "* `batch_size`: Number of samples to stack per batch\n",
        "* `shuffle`: If True, the data is returned in a random order.\n",
        "This is important during training for introducing stochasticity.\n",
        "* `num_workers`: Number of subprocesses to use for data loading.\n",
        "The default, 0, means that the data will be loaded in the main process which can slow down training for datasets where loading a data point takes a considerable amount of time (e.g. large images).\n",
        "More workers are recommended for those, but can cause issues on Windows computers.\n",
        "For tiny datasets as ours, 0 workers are usually faster.\n",
        "* `pin_memory`: If True, the data loader will copy Tensors into CUDA pinned memory before returning them.\n",
        "This can save some time for large data points on GPUs.\n",
        "Usually a good practice to use for a training set, but not necessarily for validation and test to save memory on the GPU.\n",
        "* `drop_last`: If True, the last batch is dropped in case it is smaller than the specified batch size.\n",
        "This occurs when the dataset size is not a multiple of the batch size.\n",
        "Only potentially helpful during training to keep a consistent batch size.\n",
        "\n",
        "Let's create a simple data loader below:"
      ],
      "id": "fe0fb97e"
    },
    {
      "cell_type": "code",
      "metadata": {
        "execution": {
          "iopub.execute_input": "2021-11-01T12:54:05.929389Z",
          "iopub.status.busy": "2021-11-01T12:54:05.928915Z",
          "iopub.status.idle": "2021-11-01T12:54:05.930871Z",
          "shell.execute_reply": "2021-11-01T12:54:05.930465Z"
        },
        "papermill": {
          "duration": 0.256206,
          "end_time": "2021-11-01T12:54:05.930975",
          "exception": false,
          "start_time": "2021-11-01T12:54:05.674769",
          "status": "completed"
        },
        "tags": [],
        "id": "97b6129f"
      },
      "source": [
        "data_loader = data.DataLoader(dataset, batch_size=8, shuffle=True)"
      ],
      "id": "97b6129f",
      "execution_count": 18,
      "outputs": []
    },
    {
      "cell_type": "code",
      "metadata": {
        "execution": {
          "iopub.execute_input": "2021-11-01T12:54:06.367749Z",
          "iopub.status.busy": "2021-11-01T12:54:06.367278Z",
          "iopub.status.idle": "2021-11-01T12:54:06.372106Z",
          "shell.execute_reply": "2021-11-01T12:54:06.371708Z"
        },
        "papermill": {
          "duration": 0.224085,
          "end_time": "2021-11-01T12:54:06.372207",
          "exception": false,
          "start_time": "2021-11-01T12:54:06.148122",
          "status": "completed"
        },
        "tags": [],
        "id": "80626e43",
        "outputId": "c7e02d70-f4b4-4bc8-d42e-9847e3718ddf",
        "colab": {
          "base_uri": "https://localhost:8080/"
        }
      },
      "source": [
        "# next(iter(...)) catches the first batch of the data loader\n",
        "# If shuffle is True, this will return a different batch every time we run this cell\n",
        "# For iterating over the whole dataset, we can simple use \"for batch in data_loader: ...\"\n",
        "data_inputs, data_labels = next(iter(data_loader))\n",
        "\n",
        "# The shape of the outputs are [batch_size, d_1,...,d_N] where d_1,...,d_N are the\n",
        "# dimensions of the data point returned from the dataset class\n",
        "print(\"Data inputs\", data_inputs.shape, \"\\n\", data_inputs)\n",
        "print(\"Data labels\", data_labels.shape, \"\\n\", data_labels)"
      ],
      "id": "80626e43",
      "execution_count": 19,
      "outputs": [
        {
          "output_type": "stream",
          "name": "stdout",
          "text": [
            "Data inputs torch.Size([8, 2]) \n",
            " tensor([[-1.1546e-01,  1.0108e+00],\n",
            "        [ 9.1377e-01,  5.2042e-04],\n",
            "        [-3.8777e-02,  9.3821e-01],\n",
            "        [ 3.0015e-02,  1.1082e+00],\n",
            "        [ 1.0655e+00,  9.7531e-01],\n",
            "        [ 1.1499e+00,  7.8128e-01],\n",
            "        [ 1.0556e+00, -1.1462e-01],\n",
            "        [ 1.7946e-01,  9.2425e-01]])\n",
            "Data labels torch.Size([8]) \n",
            " tensor([1, 1, 1, 1, 0, 0, 1, 1])\n"
          ]
        }
      ]
    },
    {
      "cell_type": "markdown",
      "metadata": {
        "papermill": {
          "duration": 0.215007,
          "end_time": "2021-11-01T12:54:06.800517",
          "exception": false,
          "start_time": "2021-11-01T12:54:06.585510",
          "status": "completed"
        },
        "tags": [],
        "id": "944e9920"
      },
      "source": [
        "### Optimization\n",
        "\n",
        "After defining the model and the dataset, it is time to prepare the optimization of the model.\n",
        "During training, we will perform the following steps:\n",
        "\n",
        "1. Get a batch from the data loader\n",
        "2. Obtain the predictions from the model for the batch\n",
        "3. Calculate the loss based on the difference between predictions and labels\n",
        "4. Backpropagation: calculate the gradients for every parameter with respect to the loss\n",
        "5. Update the parameters of the model in the direction of the gradients\n",
        "\n",
        "We have seen how we can do step 1, 2 and 4 in PyTorch. Now, we will look at step 3 and 5."
      ],
      "id": "944e9920"
    },
    {
      "cell_type": "markdown",
      "metadata": {
        "papermill": {
          "duration": 0.213947,
          "end_time": "2021-11-01T12:54:07.228021",
          "exception": false,
          "start_time": "2021-11-01T12:54:07.014074",
          "status": "completed"
        },
        "tags": [],
        "id": "d84dbd2e"
      },
      "source": [
        "#### Loss modules\n",
        "\n",
        "We can calculate the loss for a batch by simply performing a few tensor operations as those are automatically added to the computation graph.\n",
        "For instance, for binary classification, we can use Binary Cross Entropy (BCE) which is defined as follows:\n",
        "\n",
        "$$\\mathcal{L}_{BCE} = -\\sum_i \\left[ y_i \\log x_i + (1 - y_i) \\log (1 - x_i) \\right]$$\n",
        "\n",
        "where $y$ are our labels, and $x$ our predictions, both in the range of $[0,1]$.\n",
        "However, PyTorch already provides a list of predefined loss functions which we can use (see [here](https://pytorch.org/docs/stable/nn.html#loss-functions) for a full list).\n",
        "For instance, for BCE, PyTorch has two modules: `nn.BCELoss()`, `nn.BCEWithLogitsLoss()`.\n",
        "While `nn.BCELoss` expects the inputs $x$ to be in the range $[0,1]$, i.e. the output of a sigmoid, `nn.BCEWithLogitsLoss` combines a sigmoid layer and the BCE loss in a single class.\n",
        "This version is numerically more stable than using a plain Sigmoid followed by a BCE loss because of the logarithms applied in the loss function.\n",
        "Hence, it is adviced to use loss functions applied on \"logits\" where possible (remember to not apply a sigmoid on the output of the model in this case!).\n",
        "For our model defined above, we therefore use the module `nn.BCEWithLogitsLoss`."
      ],
      "id": "d84dbd2e"
    },
    {
      "cell_type": "code",
      "metadata": {
        "execution": {
          "iopub.execute_input": "2021-11-01T12:54:07.660918Z",
          "iopub.status.busy": "2021-11-01T12:54:07.660458Z",
          "iopub.status.idle": "2021-11-01T12:54:07.662457Z",
          "shell.execute_reply": "2021-11-01T12:54:07.662043Z"
        },
        "papermill": {
          "duration": 0.220982,
          "end_time": "2021-11-01T12:54:07.662559",
          "exception": false,
          "start_time": "2021-11-01T12:54:07.441577",
          "status": "completed"
        },
        "tags": [],
        "id": "fbbff859"
      },
      "source": [
        "loss_module = nn.BCEWithLogitsLoss()"
      ],
      "id": "fbbff859",
      "execution_count": 20,
      "outputs": []
    },
    {
      "cell_type": "markdown",
      "metadata": {
        "papermill": {
          "duration": 0.218427,
          "end_time": "2021-11-01T12:54:08.098042",
          "exception": false,
          "start_time": "2021-11-01T12:54:07.879615",
          "status": "completed"
        },
        "tags": [],
        "id": "8b17d84d"
      },
      "source": [
        "#### Stochastic Gradient Descent\n",
        "\n",
        "For updating the parameters, PyTorch provides the package `torch.optim` that has most popular optimizers implemented.\n",
        "We will discuss the specific optimizers and their differences later in the course, but will for now use the simplest of them: `torch.optim.SGD`.\n",
        "Stochastic Gradient Descent updates parameters by multiplying the gradients with a small constant, called learning rate, and subtracting those from the parameters (hence minimizing the loss).\n",
        "Therefore, we slowly move towards the direction of minimizing the loss.\n",
        "A good default value of the learning rate for a small network as ours is 0.1."
      ],
      "id": "8b17d84d"
    },
    {
      "cell_type": "code",
      "metadata": {
        "execution": {
          "iopub.execute_input": "2021-11-01T12:54:08.602453Z",
          "iopub.status.busy": "2021-11-01T12:54:08.601960Z",
          "iopub.status.idle": "2021-11-01T12:54:08.603955Z",
          "shell.execute_reply": "2021-11-01T12:54:08.603559Z"
        },
        "papermill": {
          "duration": 0.243956,
          "end_time": "2021-11-01T12:54:08.604059",
          "exception": false,
          "start_time": "2021-11-01T12:54:08.360103",
          "status": "completed"
        },
        "tags": [],
        "id": "a40e6082"
      },
      "source": [
        "# Input to the optimizer are the parameters of the model: model.parameters()\n",
        "optimizer = torch.optim.SGD(model.parameters(), lr=0.1)"
      ],
      "id": "a40e6082",
      "execution_count": 21,
      "outputs": []
    },
    {
      "cell_type": "markdown",
      "metadata": {
        "papermill": {
          "duration": 0.217766,
          "end_time": "2021-11-01T12:54:09.054714",
          "exception": false,
          "start_time": "2021-11-01T12:54:08.836948",
          "status": "completed"
        },
        "tags": [],
        "id": "fc60f25c"
      },
      "source": [
        "The optimizer provides two useful functions: `optimizer.step()`, and `optimizer.zero_grad()`.\n",
        "The step function updates the parameters based on the gradients as explained above.\n",
        "The function `optimizer.zero_grad()` sets the gradients of all parameters to zero.\n",
        "While this function seems less relevant at first, it is a crucial pre-step before performing backpropagation.\n",
        "If we would call the `backward` function on the loss while the parameter gradients are non-zero from the previous batch, the new gradients would actually be added to the previous ones instead of overwriting them.\n",
        "This is done because a parameter might occur multiple times in a computation graph, and we need to sum the gradients in this case instead of replacing them.\n",
        "Hence, remember to call `optimizer.zero_grad()` before calculating the gradients of a batch."
      ],
      "id": "fc60f25c"
    },
    {
      "cell_type": "markdown",
      "metadata": {
        "papermill": {
          "duration": 0.21643,
          "end_time": "2021-11-01T12:54:09.487622",
          "exception": false,
          "start_time": "2021-11-01T12:54:09.271192",
          "status": "completed"
        },
        "tags": [],
        "id": "7ec8ef34"
      },
      "source": [
        "### Training\n",
        "\n",
        "Finally, we are ready to train our model.\n",
        "As a first step, we create a slightly larger dataset and specify a data loader with a larger batch size."
      ],
      "id": "7ec8ef34"
    },
    {
      "cell_type": "code",
      "metadata": {
        "execution": {
          "iopub.execute_input": "2021-11-01T12:54:09.924507Z",
          "iopub.status.busy": "2021-11-01T12:54:09.924042Z",
          "iopub.status.idle": "2021-11-01T12:54:09.926573Z",
          "shell.execute_reply": "2021-11-01T12:54:09.926154Z"
        },
        "papermill": {
          "duration": 0.221894,
          "end_time": "2021-11-01T12:54:09.926676",
          "exception": false,
          "start_time": "2021-11-01T12:54:09.704782",
          "status": "completed"
        },
        "tags": [],
        "id": "44d96c31"
      },
      "source": [
        "train_dataset = XORDataset(size=1000)\n",
        "train_data_loader = data.DataLoader(train_dataset, batch_size=128, shuffle=True)"
      ],
      "id": "44d96c31",
      "execution_count": 22,
      "outputs": []
    },
    {
      "cell_type": "markdown",
      "metadata": {
        "papermill": {
          "duration": 0.216004,
          "end_time": "2021-11-01T12:54:10.358572",
          "exception": false,
          "start_time": "2021-11-01T12:54:10.142568",
          "status": "completed"
        },
        "tags": [],
        "id": "2def7c87"
      },
      "source": [
        "Now, we can write a small training function.\n",
        "Remember our five steps: load a batch, obtain the predictions, calculate the loss, backpropagate, and update.\n",
        "Additionally, we have to push all data and model parameters to the device of our choice (GPU if available).\n",
        "For the tiny neural network we have, communicating the data to the GPU actually takes much more time than we could save from running the operation on GPU.\n",
        "For large networks, the communication time is significantly smaller than the actual runtime making a GPU crucial in these cases.\n",
        "Still, to practice, we will push the data to GPU here."
      ],
      "id": "2def7c87"
    },
    {
      "cell_type": "code",
      "metadata": {
        "execution": {
          "iopub.execute_input": "2021-11-01T12:54:10.793419Z",
          "iopub.status.busy": "2021-11-01T12:54:10.792958Z",
          "iopub.status.idle": "2021-11-01T12:54:10.796588Z",
          "shell.execute_reply": "2021-11-01T12:54:10.796180Z"
        },
        "papermill": {
          "duration": 0.223015,
          "end_time": "2021-11-01T12:54:10.796690",
          "exception": false,
          "start_time": "2021-11-01T12:54:10.573675",
          "status": "completed"
        },
        "tags": [],
        "id": "3cc5a69f",
        "outputId": "51f9e68f-0838-4e4e-cbc0-aa344236f901",
        "colab": {
          "base_uri": "https://localhost:8080/"
        }
      },
      "source": [
        "# Push model to device. Has to be only done once\n",
        "model.to(device)"
      ],
      "id": "3cc5a69f",
      "execution_count": 23,
      "outputs": [
        {
          "output_type": "execute_result",
          "data": {
            "text/plain": [
              "SimpleClassifier(\n",
              "  (linear1): Linear(in_features=2, out_features=4, bias=True)\n",
              "  (act_fn): Tanh()\n",
              "  (linear2): Linear(in_features=4, out_features=1, bias=True)\n",
              ")"
            ]
          },
          "metadata": {},
          "execution_count": 23
        }
      ]
    },
    {
      "cell_type": "markdown",
      "metadata": {
        "lines_to_next_cell": 2,
        "papermill": {
          "duration": 0.218983,
          "end_time": "2021-11-01T12:54:11.236433",
          "exception": false,
          "start_time": "2021-11-01T12:54:11.017450",
          "status": "completed"
        },
        "tags": [],
        "id": "00948506"
      },
      "source": [
        "In addition, we set our model to training mode.\n",
        "This is done by calling `model.train()`.\n",
        "There exist certain modules that need to perform a different forward\n",
        "step during training than during testing (e.g. BatchNorm and Dropout),\n",
        "and we can switch between them using `model.train()` and `model.eval()`."
      ],
      "id": "00948506"
    },
    {
      "cell_type": "code",
      "metadata": {
        "execution": {
          "iopub.execute_input": "2021-11-01T12:54:11.675400Z",
          "iopub.status.busy": "2021-11-01T12:54:11.674927Z",
          "iopub.status.idle": "2021-11-01T12:54:11.677009Z",
          "shell.execute_reply": "2021-11-01T12:54:11.676547Z"
        },
        "papermill": {
          "duration": 0.222609,
          "end_time": "2021-11-01T12:54:11.677111",
          "exception": false,
          "start_time": "2021-11-01T12:54:11.454502",
          "status": "completed"
        },
        "tags": [],
        "id": "f96af465"
      },
      "source": [
        "def train_model(model, optimizer, data_loader, loss_module, num_epochs=100):\n",
        "    # Set model to train mode\n",
        "    model.train()\n",
        "\n",
        "    # Training loop\n",
        "    for epoch in tqdm(range(num_epochs)):\n",
        "        for data_inputs, data_labels in data_loader:\n",
        "\n",
        "            # Step 1: Move input data to device (only strictly necessary if we use GPU)\n",
        "            data_inputs = data_inputs.to(device)\n",
        "            data_labels = data_labels.to(device)\n",
        "\n",
        "            # Step 2: Run the model on the input data\n",
        "            preds = model(data_inputs)\n",
        "            preds = preds.squeeze(dim=1)  # Output is [Batch size, 1], but we want [Batch size]\n",
        "\n",
        "            # Step 3: Calculate the loss\n",
        "            loss = loss_module(preds, data_labels.float())\n",
        "\n",
        "            # Step 4: Perform backpropagation\n",
        "            # Before calculating the gradients, we need to ensure that they are all zero.\n",
        "            # The gradients would not be overwritten, but actually added to the existing ones.\n",
        "            optimizer.zero_grad()\n",
        "            # Perform backpropagation\n",
        "            loss.backward()\n",
        "\n",
        "            # Step 5: Update the parameters\n",
        "            optimizer.step()"
      ],
      "id": "f96af465",
      "execution_count": 24,
      "outputs": []
    },
    {
      "cell_type": "code",
      "metadata": {
        "execution": {
          "iopub.execute_input": "2021-11-01T12:54:12.118335Z",
          "iopub.status.busy": "2021-11-01T12:54:12.117695Z",
          "iopub.status.idle": "2021-11-01T12:54:13.289165Z",
          "shell.execute_reply": "2021-11-01T12:54:13.288686Z"
        },
        "papermill": {
          "duration": 1.392705,
          "end_time": "2021-11-01T12:54:13.289276",
          "exception": false,
          "start_time": "2021-11-01T12:54:11.896571",
          "status": "completed"
        },
        "tags": [],
        "id": "b8cb54c5",
        "outputId": "1c1cc695-cd14-4057-edb2-a0ab40a81256",
        "colab": {
          "base_uri": "https://localhost:8080/",
          "height": 49,
          "referenced_widgets": [
            "e1f13319eaa74e2798e21ee3e046e3b7",
            "f33d03a822a54439b4ce41bb5e7d39c2",
            "a98e1a8ee9454102a8c3edb1caf2fc2e",
            "b49d8fcde8f74fbe8cf38b771778efc6",
            "1be84a9082ab4eaeb662777a51b25aed",
            "6a16a08b3c644dc7990756201cd84cde",
            "ffff537a177d493d88525393e3029d95",
            "269c0fcb1bb44792889e5c2a90ed43d2",
            "03c64261ec214edf9e4557a75322239f",
            "10ea3f20d74b4bf488eb0d052cbd16d0",
            "f4e3f0bbe11d4e22af761ce066000dc7"
          ]
        }
      },
      "source": [
        "train_model(model, optimizer, train_data_loader, loss_module)"
      ],
      "id": "b8cb54c5",
      "execution_count": 25,
      "outputs": [
        {
          "output_type": "display_data",
          "data": {
            "application/vnd.jupyter.widget-view+json": {
              "model_id": "e1f13319eaa74e2798e21ee3e046e3b7",
              "version_minor": 0,
              "version_major": 2
            },
            "text/plain": [
              "  0%|          | 0/100 [00:00<?, ?it/s]"
            ]
          },
          "metadata": {}
        }
      ]
    },
    {
      "cell_type": "markdown",
      "metadata": {
        "papermill": {
          "duration": 0.216338,
          "end_time": "2021-11-01T12:54:13.726746",
          "exception": false,
          "start_time": "2021-11-01T12:54:13.510408",
          "status": "completed"
        },
        "tags": [],
        "id": "ca3af1ef"
      },
      "source": [
        "#### Saving a model\n",
        "\n",
        "After finish training a model, we save the model to disk so that we can load the same weights at a later time.\n",
        "For this, we extract the so-called `state_dict` from the model which contains all learnable parameters.\n",
        "For our simple model, the state dict contains the following entries:"
      ],
      "id": "ca3af1ef"
    },
    {
      "cell_type": "code",
      "metadata": {
        "execution": {
          "iopub.execute_input": "2021-11-01T12:54:14.167975Z",
          "iopub.status.busy": "2021-11-01T12:54:14.167504Z",
          "iopub.status.idle": "2021-11-01T12:54:14.172938Z",
          "shell.execute_reply": "2021-11-01T12:54:14.172473Z"
        },
        "papermill": {
          "duration": 0.227013,
          "end_time": "2021-11-01T12:54:14.173044",
          "exception": false,
          "start_time": "2021-11-01T12:54:13.946031",
          "status": "completed"
        },
        "tags": [],
        "id": "c5796822",
        "outputId": "a4068cf2-e758-46ed-b9c8-45b1e8f90f23",
        "colab": {
          "base_uri": "https://localhost:8080/"
        }
      },
      "source": [
        "state_dict = model.state_dict()\n",
        "print(state_dict)"
      ],
      "id": "c5796822",
      "execution_count": 26,
      "outputs": [
        {
          "output_type": "stream",
          "name": "stdout",
          "text": [
            "OrderedDict([('linear1.weight', tensor([[-1.8065, -1.3367],\n",
            "        [-0.5650,  1.5134],\n",
            "        [ 0.8627, -1.4728],\n",
            "        [ 2.7693, -2.4960]], device='cuda:0')), ('linear1.bias', tensor([ 0.2429, -0.1280, -0.2262,  1.3596], device='cuda:0')), ('linear2.weight', tensor([[-2.1993, -1.5158,  1.6418, -3.0445]], device='cuda:0')), ('linear2.bias', tensor([0.8270], device='cuda:0'))])\n"
          ]
        }
      ]
    },
    {
      "cell_type": "markdown",
      "metadata": {
        "papermill": {
          "duration": 0.217718,
          "end_time": "2021-11-01T12:54:14.609486",
          "exception": false,
          "start_time": "2021-11-01T12:54:14.391768",
          "status": "completed"
        },
        "tags": [],
        "id": "67a28fc2"
      },
      "source": [
        "To save the state dictionary, we can use `torch.save`:"
      ],
      "id": "67a28fc2"
    },
    {
      "cell_type": "code",
      "metadata": {
        "execution": {
          "iopub.execute_input": "2021-11-01T12:54:15.052042Z",
          "iopub.status.busy": "2021-11-01T12:54:15.051577Z",
          "iopub.status.idle": "2021-11-01T12:54:15.054634Z",
          "shell.execute_reply": "2021-11-01T12:54:15.054078Z"
        },
        "papermill": {
          "duration": 0.225414,
          "end_time": "2021-11-01T12:54:15.054740",
          "exception": false,
          "start_time": "2021-11-01T12:54:14.829326",
          "status": "completed"
        },
        "tags": [],
        "id": "7e113cd4"
      },
      "source": [
        "# torch.save(object, filename). For the filename, any extension can be used\n",
        "torch.save(state_dict, \"our_model.tar\")"
      ],
      "id": "7e113cd4",
      "execution_count": 28,
      "outputs": []
    },
    {
      "cell_type": "markdown",
      "metadata": {
        "papermill": {
          "duration": 0.220512,
          "end_time": "2021-11-01T12:54:15.497099",
          "exception": false,
          "start_time": "2021-11-01T12:54:15.276587",
          "status": "completed"
        },
        "tags": [],
        "id": "82a7f3a8"
      },
      "source": [
        "To load a model from a state dict, we use the function `torch.load` to\n",
        "load the state dict from the disk, and the module function\n",
        "`load_state_dict` to overwrite our parameters with the new values:"
      ],
      "id": "82a7f3a8"
    },
    {
      "cell_type": "code",
      "metadata": {
        "execution": {
          "iopub.execute_input": "2021-11-01T12:54:15.937555Z",
          "iopub.status.busy": "2021-11-01T12:54:15.937049Z",
          "iopub.status.idle": "2021-11-01T12:54:15.945420Z",
          "shell.execute_reply": "2021-11-01T12:54:15.944954Z"
        },
        "papermill": {
          "duration": 0.231006,
          "end_time": "2021-11-01T12:54:15.945521",
          "exception": false,
          "start_time": "2021-11-01T12:54:15.714515",
          "status": "completed"
        },
        "tags": [],
        "id": "cf0873e8",
        "outputId": "23fbe9a2-67e4-4a24-91b1-b0fd664cea45",
        "colab": {
          "base_uri": "https://localhost:8080/"
        }
      },
      "source": [
        "# Load state dict from the disk (make sure it is the same name as above)\n",
        "state_dict = torch.load(\"our_model.tar\")\n",
        "\n",
        "# Create a new model and load the state\n",
        "new_model = SimpleClassifier(num_inputs=2, num_hidden=4, num_outputs=1)\n",
        "new_model.load_state_dict(state_dict)\n",
        "\n",
        "# Verify that the parameters are the same\n",
        "print(\"Original model\\n\", model.state_dict())\n",
        "print(\"\\nLoaded model\\n\", new_model.state_dict())"
      ],
      "id": "cf0873e8",
      "execution_count": 29,
      "outputs": [
        {
          "output_type": "stream",
          "name": "stdout",
          "text": [
            "Original model\n",
            " OrderedDict([('linear1.weight', tensor([[-1.8065, -1.3367],\n",
            "        [-0.5650,  1.5134],\n",
            "        [ 0.8627, -1.4728],\n",
            "        [ 2.7693, -2.4960]], device='cuda:0')), ('linear1.bias', tensor([ 0.2429, -0.1280, -0.2262,  1.3596], device='cuda:0')), ('linear2.weight', tensor([[-2.1993, -1.5158,  1.6418, -3.0445]], device='cuda:0')), ('linear2.bias', tensor([0.8270], device='cuda:0'))])\n",
            "\n",
            "Loaded model\n",
            " OrderedDict([('linear1.weight', tensor([[-1.8065, -1.3367],\n",
            "        [-0.5650,  1.5134],\n",
            "        [ 0.8627, -1.4728],\n",
            "        [ 2.7693, -2.4960]])), ('linear1.bias', tensor([ 0.2429, -0.1280, -0.2262,  1.3596])), ('linear2.weight', tensor([[-2.1993, -1.5158,  1.6418, -3.0445]])), ('linear2.bias', tensor([0.8270]))])\n"
          ]
        }
      ]
    },
    {
      "cell_type": "markdown",
      "metadata": {
        "papermill": {
          "duration": 0.221081,
          "end_time": "2021-11-01T12:54:16.387653",
          "exception": false,
          "start_time": "2021-11-01T12:54:16.166572",
          "status": "completed"
        },
        "tags": [],
        "id": "25d80371"
      },
      "source": [
        "A detailed tutorial on saving and loading models in PyTorch can be found\n",
        "[here](https://pytorch.org/tutorials/beginner/saving_loading_models.html)."
      ],
      "id": "25d80371"
    },
    {
      "cell_type": "markdown",
      "metadata": {
        "papermill": {
          "duration": 0.223782,
          "end_time": "2021-11-01T12:54:16.832797",
          "exception": false,
          "start_time": "2021-11-01T12:54:16.609015",
          "status": "completed"
        },
        "tags": [],
        "id": "ad86aa24"
      },
      "source": [
        "### Evaluation\n",
        "\n",
        "Once we have trained a model, it is time to evaluate it on a held-out test set.\n",
        "As our dataset consist of randomly generated data points, we need to\n",
        "first create a test set with a corresponding data loader."
      ],
      "id": "ad86aa24"
    },
    {
      "cell_type": "code",
      "metadata": {
        "execution": {
          "iopub.execute_input": "2021-11-01T12:54:17.283062Z",
          "iopub.status.busy": "2021-11-01T12:54:17.282596Z",
          "iopub.status.idle": "2021-11-01T12:54:17.285023Z",
          "shell.execute_reply": "2021-11-01T12:54:17.284608Z"
        },
        "papermill": {
          "duration": 0.224779,
          "end_time": "2021-11-01T12:54:17.285124",
          "exception": false,
          "start_time": "2021-11-01T12:54:17.060345",
          "status": "completed"
        },
        "tags": [],
        "id": "b0489bb7"
      },
      "source": [
        "test_dataset = XORDataset(size=500)\n",
        "# drop_last -> Don't drop the last batch although it is smaller than 128\n",
        "test_data_loader = data.DataLoader(test_dataset, batch_size=128, shuffle=False, drop_last=False)"
      ],
      "id": "b0489bb7",
      "execution_count": 30,
      "outputs": []
    },
    {
      "cell_type": "markdown",
      "metadata": {
        "lines_to_next_cell": 2,
        "papermill": {
          "duration": 0.219992,
          "end_time": "2021-11-01T12:54:17.722370",
          "exception": false,
          "start_time": "2021-11-01T12:54:17.502378",
          "status": "completed"
        },
        "tags": [],
        "id": "38fdb6d5"
      },
      "source": [
        "As metric, we will use accuracy which is calculated as follows:\n",
        "\n",
        "$$acc = \\frac{\\#\\text{correct predictions}}{\\#\\text{all predictions}} = \\frac{TP+TN}{TP+TN+FP+FN}$$\n",
        "\n",
        "where TP are the true positives, TN true negatives, FP false positives, and FN the fale negatives.\n",
        "\n",
        "When evaluating the model, we don't need to keep track of the computation graph as we don't intend to calculate the gradients.\n",
        "This reduces the required memory and speed up the model.\n",
        "In PyTorch, we can deactivate the computation graph using `with torch.no_grad(): ...`.\n",
        "Remember to additionally set the model to eval mode."
      ],
      "id": "38fdb6d5"
    },
    {
      "cell_type": "code",
      "metadata": {
        "execution": {
          "iopub.execute_input": "2021-11-01T12:54:18.162466Z",
          "iopub.status.busy": "2021-11-01T12:54:18.161980Z",
          "iopub.status.idle": "2021-11-01T12:54:18.163998Z",
          "shell.execute_reply": "2021-11-01T12:54:18.163605Z"
        },
        "papermill": {
          "duration": 0.224958,
          "end_time": "2021-11-01T12:54:18.164102",
          "exception": false,
          "start_time": "2021-11-01T12:54:17.939144",
          "status": "completed"
        },
        "tags": [],
        "id": "bd539090"
      },
      "source": [
        "def eval_model(model, data_loader):\n",
        "    model.eval()  # Set model to eval mode\n",
        "    true_preds, num_preds = 0.0, 0.0\n",
        "\n",
        "    with torch.no_grad():  # Deactivate gradients for the following code\n",
        "        for data_inputs, data_labels in data_loader:\n",
        "\n",
        "            # Determine prediction of model on dev set\n",
        "            data_inputs, data_labels = data_inputs.to(device), data_labels.to(device)\n",
        "            preds = model(data_inputs)\n",
        "            preds = preds.squeeze(dim=1)\n",
        "            preds = torch.sigmoid(preds)  # Sigmoid to map predictions between 0 and 1\n",
        "            pred_labels = (preds >= 0.5).long()  # Binarize predictions to 0 and 1\n",
        "\n",
        "            # Keep records of predictions for the accuracy metric (true_preds=TP+TN, num_preds=TP+TN+FP+FN)\n",
        "            true_preds += (pred_labels == data_labels).sum()\n",
        "            num_preds += data_labels.shape[0]\n",
        "\n",
        "    acc = true_preds / num_preds\n",
        "    print(f\"Accuracy of the model: {100.0*acc:4.2f}%\")"
      ],
      "id": "bd539090",
      "execution_count": 31,
      "outputs": []
    },
    {
      "cell_type": "code",
      "metadata": {
        "execution": {
          "iopub.execute_input": "2021-11-01T12:54:18.603554Z",
          "iopub.status.busy": "2021-11-01T12:54:18.602577Z",
          "iopub.status.idle": "2021-11-01T12:54:18.609800Z",
          "shell.execute_reply": "2021-11-01T12:54:18.610176Z"
        },
        "papermill": {
          "duration": 0.228285,
          "end_time": "2021-11-01T12:54:18.610294",
          "exception": false,
          "start_time": "2021-11-01T12:54:18.382009",
          "status": "completed"
        },
        "tags": [],
        "id": "f62712b6",
        "outputId": "9b978e91-0bc0-46b8-a5fe-91b5864f6ac0",
        "colab": {
          "base_uri": "https://localhost:8080/"
        }
      },
      "source": [
        "eval_model(model, test_data_loader)"
      ],
      "id": "f62712b6",
      "execution_count": 32,
      "outputs": [
        {
          "output_type": "stream",
          "name": "stdout",
          "text": [
            "Accuracy of the model: 100.00%\n"
          ]
        }
      ]
    },
    {
      "cell_type": "markdown",
      "metadata": {
        "papermill": {
          "duration": 0.218883,
          "end_time": "2021-11-01T12:54:19.046883",
          "exception": false,
          "start_time": "2021-11-01T12:54:18.828000",
          "status": "completed"
        },
        "tags": [],
        "id": "4bcd37e9"
      },
      "source": [
        "If we trained our model correctly, we should see a score close to 100% accuracy.\n",
        "However, this is only possible because of our simple task, and\n",
        "unfortunately, we usually don't get such high scores on test sets of\n",
        "more complex tasks."
      ],
      "id": "4bcd37e9"
    },
    {
      "cell_type": "markdown",
      "metadata": {
        "lines_to_next_cell": 2,
        "papermill": {
          "duration": 0.218735,
          "end_time": "2021-11-01T12:54:19.484617",
          "exception": false,
          "start_time": "2021-11-01T12:54:19.265882",
          "status": "completed"
        },
        "tags": [],
        "id": "6e31dfa6"
      },
      "source": [
        "#### Visualizing classification boundaries\n",
        "\n",
        "To visualize what our model has learned, we can perform a prediction for every data point in a range of $[-0.5, 1.5]$, and visualize the predicted class as in the sample figure at the beginning of this section.\n",
        "This shows where the model has created decision boundaries, and which points would be classified as $0$, and which as $1$.\n",
        "We therefore get a background image out of blue (class 0) and orange (class 1).\n",
        "The spots where the model is uncertain we will see a blurry overlap.\n",
        "The specific code is less relevant compared to the output figure which\n",
        "should hopefully show us a clear separation of classes:"
      ],
      "id": "6e31dfa6"
    },
    {
      "cell_type": "code",
      "metadata": {
        "execution": {
          "iopub.execute_input": "2021-11-01T12:54:19.937132Z",
          "iopub.status.busy": "2021-11-01T12:54:19.930510Z",
          "iopub.status.idle": "2021-11-01T12:54:20.320542Z",
          "shell.execute_reply": "2021-11-01T12:54:20.320918Z"
        },
        "papermill": {
          "duration": 0.616443,
          "end_time": "2021-11-01T12:54:20.321054",
          "exception": false,
          "start_time": "2021-11-01T12:54:19.704611",
          "status": "completed"
        },
        "tags": [],
        "id": "afec6c66",
        "outputId": "dacf2cf8-6305-4aa4-c12c-9333d9a47bd1",
        "colab": {
          "base_uri": "https://localhost:8080/",
          "height": 391
        }
      },
      "source": [
        "@torch.no_grad()  # Decorator, same effect as \"with torch.no_grad(): ...\" over the whole function.\n",
        "def visualize_classification(model, data, label):\n",
        "    if isinstance(data, torch.Tensor):\n",
        "        data = data.cpu().numpy()\n",
        "    if isinstance(label, torch.Tensor):\n",
        "        label = label.cpu().numpy()\n",
        "    data_0 = data[label == 0]\n",
        "    data_1 = data[label == 1]\n",
        "\n",
        "    plt.figure(figsize=(4, 4))\n",
        "    plt.scatter(data_0[:, 0], data_0[:, 1], edgecolor=\"#333\", label=\"Class 0\")\n",
        "    plt.scatter(data_1[:, 0], data_1[:, 1], edgecolor=\"#333\", label=\"Class 1\")\n",
        "    plt.title(\"Dataset samples\")\n",
        "    plt.ylabel(r\"$x_2$\")\n",
        "    plt.xlabel(r\"$x_1$\")\n",
        "    plt.legend()\n",
        "\n",
        "    # Let's make use of a lot of operations we have learned above\n",
        "    model.to(device)\n",
        "    c0 = torch.Tensor(to_rgba(\"C0\")).to(device)\n",
        "    c1 = torch.Tensor(to_rgba(\"C1\")).to(device)\n",
        "    x1 = torch.arange(-0.5, 1.5, step=0.01, device=device)\n",
        "    x2 = torch.arange(-0.5, 1.5, step=0.01, device=device)\n",
        "    xx1, xx2 = torch.meshgrid(x1, x2)  # Meshgrid function as in numpy\n",
        "    model_inputs = torch.stack([xx1, xx2], dim=-1)\n",
        "    preds = model(model_inputs)\n",
        "    preds = torch.sigmoid(preds)\n",
        "    # Specifying \"None\" in a dimension creates a new one\n",
        "    output_image = (1 - preds) * c0[None, None] + preds * c1[None, None]\n",
        "    output_image = (\n",
        "        output_image.cpu().numpy()\n",
        "    )  # Convert to numpy array. This only works for tensors on CPU, hence first push to CPU\n",
        "    plt.imshow(output_image, origin=\"lower\", extent=(-0.5, 1.5, -0.5, 1.5))\n",
        "    plt.grid(False)\n",
        "\n",
        "\n",
        "visualize_classification(model, dataset.data, dataset.label)\n",
        "plt.show()"
      ],
      "id": "afec6c66",
      "execution_count": 33,
      "outputs": [
        {
          "output_type": "display_data",
          "data": {
            "application/pdf": "[encoded data removed]",
            "text/plain": [
              "<Figure size 288x288 with 1 Axes>"
            ],
            "image/svg+xml": "<?xml version=\"1.0\" encoding=\"utf-8\" standalone=\"no\"?>\n<!DOCTYPE svg PUBLIC \"-//W3C//DTD SVG 1.1//EN\"\n  \"http://www.w3.org/Graphics/SVG/1.1/DTD/svg11.dtd\">\n<!-- Created with matplotlib (https://matplotlib.org/) -->\n<svg height=\"277.314375pt\" version=\"1.1\" viewBox=\"0 0 291.115 277.314375\" width=\"291.115pt\" xmlns=\"http://www.w3.org/2000/svg\" xmlns:xlink=\"http://www.w3.org/1999/xlink\">\n <defs>\n  <style type=\"text/css\">\n*{stroke-linecap:butt;stroke-linejoin:round;}\n  </style>\n </defs>\n <g id=\"figure_1\">\n  <g id=\"patch_1\">\n   <path d=\"M 0 277.314375 \nL 291.115 277.314375 \nL 291.115 0 \nL 0 0 \nz\n\" style=\"fill:none;\"/>\n  </g>\n  <g id=\"axes_1\">\n   <g id=\"patch_2\">\n    <path d=\"M 58.523438 239.758125 \nL 275.963437 239.758125 \nL 275.963437 22.318125 \nL 58.523438 22.318125 \nz\n\" style=\"fill:#ffffff;\"/>\n   </g>\n   <g clip-path=\"url(#peefea39a0b)\">\n    <image height=\"218\" id=\"image625ddbed10\" transform=\"scale(1 -1)translate(0 -218)\" width=\"218\" x=\"58.523438\" xlink:href=\"data:image/png;base64,\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\" y=\"-21.758125\"/>\n   </g>\n   <g id=\"PathCollection_1\">\n    <defs>\n     <path d=\"M 0 3 \nC 0.795609 3 1.55874 2.683901 2.12132 2.12132 \nC 2.683901 1.55874 3 0.795609 3 0 \nC 3 -0.795609 2.683901 -1.55874 2.12132 -2.12132 \nC 1.55874 -2.683901 0.795609 -3 0 -3 \nC -0.795609 -3 -1.55874 -2.683901 -2.12132 -2.12132 \nC -2.683901 -1.55874 -3 -0.795609 -3 0 \nC -3 0.795609 -2.683901 1.55874 -2.12132 2.12132 \nC -1.55874 2.683901 -0.795609 3 0 3 \nz\n\" id=\"m9c0764c6b5\" style=\"stroke:#333333;\"/>\n    </defs>\n    <g clip-path=\"url(#peefea39a0b)\">\n     <use style=\"fill:#1f77b4;stroke:#333333;\" x=\"220.749163\" xlink:href=\"#m9c0764c6b5\" y=\"84.830977\"/>\n     <use style=\"fill:#1f77b4;stroke:#333333;\" x=\"112.314582\" xlink:href=\"#m9c0764c6b5\" y=\"190.929032\"/>\n     <use style=\"fill:#1f77b4;stroke:#333333;\" x=\"229.114968\" xlink:href=\"#m9c0764c6b5\" y=\"83.901286\"/>\n     <use style=\"fill:#1f77b4;stroke:#333333;\" x=\"90.969555\" xlink:href=\"#m9c0764c6b5\" y=\"209.432113\"/>\n     <use style=\"fill:#1f77b4;stroke:#333333;\" x=\"228.313871\" xlink:href=\"#m9c0764c6b5\" y=\"77.045625\"/>\n     <use style=\"fill:#1f77b4;stroke:#333333;\" x=\"113.577623\" xlink:href=\"#m9c0764c6b5\" y=\"176.89672\"/>\n     <use style=\"fill:#1f77b4;stroke:#333333;\" x=\"221.917041\" xlink:href=\"#m9c0764c6b5\" y=\"75.174754\"/>\n     <use style=\"fill:#1f77b4;stroke:#333333;\" x=\"116.596291\" xlink:href=\"#m9c0764c6b5\" y=\"169.374653\"/>\n     <use style=\"fill:#1f77b4;stroke:#333333;\" x=\"237.73761\" xlink:href=\"#m9c0764c6b5\" y=\"86.382982\"/>\n     <use style=\"fill:#1f77b4;stroke:#333333;\" x=\"118.989393\" xlink:href=\"#m9c0764c6b5\" y=\"172.162479\"/>\n     <use style=\"fill:#1f77b4;stroke:#333333;\" x=\"116.115544\" xlink:href=\"#m9c0764c6b5\" y=\"202.630652\"/>\n     <use style=\"fill:#1f77b4;stroke:#333333;\" x=\"233.776071\" xlink:href=\"#m9c0764c6b5\" y=\"83.680511\"/>\n     <use style=\"fill:#1f77b4;stroke:#333333;\" x=\"214.670273\" xlink:href=\"#m9c0764c6b5\" y=\"88.257178\"/>\n     <use style=\"fill:#1f77b4;stroke:#333333;\" x=\"204.020477\" xlink:href=\"#m9c0764c6b5\" y=\"71.481574\"/>\n     <use style=\"fill:#1f77b4;stroke:#333333;\" x=\"128.250955\" xlink:href=\"#m9c0764c6b5\" y=\"178.270504\"/>\n     <use style=\"fill:#1f77b4;stroke:#333333;\" x=\"112.426765\" xlink:href=\"#m9c0764c6b5\" y=\"176.278921\"/>\n     <use style=\"fill:#1f77b4;stroke:#333333;\" x=\"124.741767\" xlink:href=\"#m9c0764c6b5\" y=\"180.781111\"/>\n     <use style=\"fill:#1f77b4;stroke:#333333;\" x=\"241.485793\" xlink:href=\"#m9c0764c6b5\" y=\"81.932402\"/>\n     <use style=\"fill:#1f77b4;stroke:#333333;\" x=\"124.507534\" xlink:href=\"#m9c0764c6b5\" y=\"179.339453\"/>\n     <use style=\"fill:#1f77b4;stroke:#333333;\" x=\"120.850368\" xlink:href=\"#m9c0764c6b5\" y=\"186.976792\"/>\n     <use style=\"fill:#1f77b4;stroke:#333333;\" x=\"240.900759\" xlink:href=\"#m9c0764c6b5\" y=\"69.332268\"/>\n     <use style=\"fill:#1f77b4;stroke:#333333;\" x=\"203.988614\" xlink:href=\"#m9c0764c6b5\" y=\"99.115442\"/>\n     <use style=\"fill:#1f77b4;stroke:#333333;\" x=\"138.379795\" xlink:href=\"#m9c0764c6b5\" y=\"180.001767\"/>\n     <use style=\"fill:#1f77b4;stroke:#333333;\" x=\"109.823275\" xlink:href=\"#m9c0764c6b5\" y=\"180.594757\"/>\n     <use style=\"fill:#1f77b4;stroke:#333333;\" x=\"226.787313\" xlink:href=\"#m9c0764c6b5\" y=\"79.916276\"/>\n     <use style=\"fill:#1f77b4;stroke:#333333;\" x=\"120.029703\" xlink:href=\"#m9c0764c6b5\" y=\"190.783595\"/>\n     <use style=\"fill:#1f77b4;stroke:#333333;\" x=\"112.643807\" xlink:href=\"#m9c0764c6b5\" y=\"181.352342\"/>\n     <use style=\"fill:#1f77b4;stroke:#333333;\" x=\"205.359277\" xlink:href=\"#m9c0764c6b5\" y=\"99.338705\"/>\n     <use style=\"fill:#1f77b4;stroke:#333333;\" x=\"104.964092\" xlink:href=\"#m9c0764c6b5\" y=\"172.170925\"/>\n     <use style=\"fill:#1f77b4;stroke:#333333;\" x=\"234.006988\" xlink:href=\"#m9c0764c6b5\" y=\"85.899221\"/>\n     <use style=\"fill:#1f77b4;stroke:#333333;\" x=\"231.705033\" xlink:href=\"#m9c0764c6b5\" y=\"62.650114\"/>\n     <use style=\"fill:#1f77b4;stroke:#333333;\" x=\"216.698885\" xlink:href=\"#m9c0764c6b5\" y=\"97.701569\"/>\n     <use style=\"fill:#1f77b4;stroke:#333333;\" x=\"92.233194\" xlink:href=\"#m9c0764c6b5\" y=\"182.865175\"/>\n     <use style=\"fill:#1f77b4;stroke:#333333;\" x=\"225.729897\" xlink:href=\"#m9c0764c6b5\" y=\"68.77217\"/>\n     <use style=\"fill:#1f77b4;stroke:#333333;\" x=\"222.654866\" xlink:href=\"#m9c0764c6b5\" y=\"87.177256\"/>\n     <use style=\"fill:#1f77b4;stroke:#333333;\" x=\"111.866444\" xlink:href=\"#m9c0764c6b5\" y=\"184.088386\"/>\n     <use style=\"fill:#1f77b4;stroke:#333333;\" x=\"116.854694\" xlink:href=\"#m9c0764c6b5\" y=\"182.770083\"/>\n     <use style=\"fill:#1f77b4;stroke:#333333;\" x=\"216.020115\" xlink:href=\"#m9c0764c6b5\" y=\"89.861316\"/>\n     <use style=\"fill:#1f77b4;stroke:#333333;\" x=\"106.196692\" xlink:href=\"#m9c0764c6b5\" y=\"172.001567\"/>\n     <use style=\"fill:#1f77b4;stroke:#333333;\" x=\"215.164551\" xlink:href=\"#m9c0764c6b5\" y=\"68.402149\"/>\n     <use style=\"fill:#1f77b4;stroke:#333333;\" x=\"200.687325\" xlink:href=\"#m9c0764c6b5\" y=\"98.910369\"/>\n     <use style=\"fill:#1f77b4;stroke:#333333;\" x=\"237.905499\" xlink:href=\"#m9c0764c6b5\" y=\"100.45789\"/>\n     <use style=\"fill:#1f77b4;stroke:#333333;\" x=\"117.077631\" xlink:href=\"#m9c0764c6b5\" y=\"171.342855\"/>\n     <use style=\"fill:#1f77b4;stroke:#333333;\" x=\"206.328322\" xlink:href=\"#m9c0764c6b5\" y=\"57.500817\"/>\n     <use style=\"fill:#1f77b4;stroke:#333333;\" x=\"225.185611\" xlink:href=\"#m9c0764c6b5\" y=\"65.170296\"/>\n     <use style=\"fill:#1f77b4;stroke:#333333;\" x=\"111.587542\" xlink:href=\"#m9c0764c6b5\" y=\"202.759441\"/>\n     <use style=\"fill:#1f77b4;stroke:#333333;\" x=\"201.464439\" xlink:href=\"#m9c0764c6b5\" y=\"91.664761\"/>\n     <use style=\"fill:#1f77b4;stroke:#333333;\" x=\"101.184029\" xlink:href=\"#m9c0764c6b5\" y=\"198.085962\"/>\n     <use style=\"fill:#1f77b4;stroke:#333333;\" x=\"215.213367\" xlink:href=\"#m9c0764c6b5\" y=\"77.620517\"/>\n     <use style=\"fill:#1f77b4;stroke:#333333;\" x=\"121.017122\" xlink:href=\"#m9c0764c6b5\" y=\"185.846433\"/>\n     <use style=\"fill:#1f77b4;stroke:#333333;\" x=\"223.731152\" xlink:href=\"#m9c0764c6b5\" y=\"60.988509\"/>\n     <use style=\"fill:#1f77b4;stroke:#333333;\" x=\"220.290753\" xlink:href=\"#m9c0764c6b5\" y=\"82.786507\"/>\n     <use style=\"fill:#1f77b4;stroke:#333333;\" x=\"251.993024\" xlink:href=\"#m9c0764c6b5\" y=\"78.841682\"/>\n     <use style=\"fill:#1f77b4;stroke:#333333;\" x=\"101.760668\" xlink:href=\"#m9c0764c6b5\" y=\"162.609232\"/>\n     <use style=\"fill:#1f77b4;stroke:#333333;\" x=\"241.688002\" xlink:href=\"#m9c0764c6b5\" y=\"74.357456\"/>\n     <use style=\"fill:#1f77b4;stroke:#333333;\" x=\"93.456327\" xlink:href=\"#m9c0764c6b5\" y=\"197.562003\"/>\n     <use style=\"fill:#1f77b4;stroke:#333333;\" x=\"112.711825\" xlink:href=\"#m9c0764c6b5\" y=\"177.414062\"/>\n     <use style=\"fill:#1f77b4;stroke:#333333;\" x=\"220.918381\" xlink:href=\"#m9c0764c6b5\" y=\"74.855577\"/>\n     <use style=\"fill:#1f77b4;stroke:#333333;\" x=\"111.689898\" xlink:href=\"#m9c0764c6b5\" y=\"185.004259\"/>\n     <use style=\"fill:#1f77b4;stroke:#333333;\" x=\"111.302658\" xlink:href=\"#m9c0764c6b5\" y=\"201.704086\"/>\n     <use style=\"fill:#1f77b4;stroke:#333333;\" x=\"130.291092\" xlink:href=\"#m9c0764c6b5\" y=\"178.406548\"/>\n     <use style=\"fill:#1f77b4;stroke:#333333;\" x=\"105.623379\" xlink:href=\"#m9c0764c6b5\" y=\"180.225634\"/>\n     <use style=\"fill:#1f77b4;stroke:#333333;\" x=\"211.110463\" xlink:href=\"#m9c0764c6b5\" y=\"81.932415\"/>\n     <use style=\"fill:#1f77b4;stroke:#333333;\" x=\"217.801637\" xlink:href=\"#m9c0764c6b5\" y=\"68.561977\"/>\n     <use style=\"fill:#1f77b4;stroke:#333333;\" x=\"223.585827\" xlink:href=\"#m9c0764c6b5\" y=\"93.475599\"/>\n     <use style=\"fill:#1f77b4;stroke:#333333;\" x=\"129.494649\" xlink:href=\"#m9c0764c6b5\" y=\"180.568306\"/>\n     <use style=\"fill:#1f77b4;stroke:#333333;\" x=\"220.657138\" xlink:href=\"#m9c0764c6b5\" y=\"73.050357\"/>\n     <use style=\"fill:#1f77b4;stroke:#333333;\" x=\"208.866182\" xlink:href=\"#m9c0764c6b5\" y=\"73.825184\"/>\n     <use style=\"fill:#1f77b4;stroke:#333333;\" x=\"213.930135\" xlink:href=\"#m9c0764c6b5\" y=\"87.063062\"/>\n     <use style=\"fill:#1f77b4;stroke:#333333;\" x=\"112.985987\" xlink:href=\"#m9c0764c6b5\" y=\"164.991442\"/>\n     <use style=\"fill:#1f77b4;stroke:#333333;\" x=\"112.623467\" xlink:href=\"#m9c0764c6b5\" y=\"191.625833\"/>\n     <use style=\"fill:#1f77b4;stroke:#333333;\" x=\"203.899303\" xlink:href=\"#m9c0764c6b5\" y=\"80.652384\"/>\n     <use style=\"fill:#1f77b4;stroke:#333333;\" x=\"124.74828\" xlink:href=\"#m9c0764c6b5\" y=\"175.536872\"/>\n     <use style=\"fill:#1f77b4;stroke:#333333;\" x=\"212.651348\" xlink:href=\"#m9c0764c6b5\" y=\"73.255417\"/>\n     <use style=\"fill:#1f77b4;stroke:#333333;\" x=\"139.870172\" xlink:href=\"#m9c0764c6b5\" y=\"169.264272\"/>\n     <use style=\"fill:#1f77b4;stroke:#333333;\" x=\"138.149536\" xlink:href=\"#m9c0764c6b5\" y=\"199.454684\"/>\n     <use style=\"fill:#1f77b4;stroke:#333333;\" x=\"138.784061\" xlink:href=\"#m9c0764c6b5\" y=\"179.267069\"/>\n     <use style=\"fill:#1f77b4;stroke:#333333;\" x=\"110.170561\" xlink:href=\"#m9c0764c6b5\" y=\"205.661443\"/>\n     <use style=\"fill:#1f77b4;stroke:#333333;\" x=\"228.729732\" xlink:href=\"#m9c0764c6b5\" y=\"79.362568\"/>\n     <use style=\"fill:#1f77b4;stroke:#333333;\" x=\"232.083089\" xlink:href=\"#m9c0764c6b5\" y=\"77.038464\"/>\n     <use style=\"fill:#1f77b4;stroke:#333333;\" x=\"105.719433\" xlink:href=\"#m9c0764c6b5\" y=\"183.037369\"/>\n     <use style=\"fill:#1f77b4;stroke:#333333;\" x=\"105.000476\" xlink:href=\"#m9c0764c6b5\" y=\"197.579174\"/>\n     <use style=\"fill:#1f77b4;stroke:#333333;\" x=\"226.200672\" xlink:href=\"#m9c0764c6b5\" y=\"66.286242\"/>\n     <use style=\"fill:#1f77b4;stroke:#333333;\" x=\"116.160939\" xlink:href=\"#m9c0764c6b5\" y=\"195.877496\"/>\n     <use style=\"fill:#1f77b4;stroke:#333333;\" x=\"117.243494\" xlink:href=\"#m9c0764c6b5\" y=\"179.630628\"/>\n     <use style=\"fill:#1f77b4;stroke:#333333;\" x=\"120.343978\" xlink:href=\"#m9c0764c6b5\" y=\"190.205105\"/>\n     <use style=\"fill:#1f77b4;stroke:#333333;\" x=\"209.065864\" xlink:href=\"#m9c0764c6b5\" y=\"63.300663\"/>\n     <use style=\"fill:#1f77b4;stroke:#333333;\" x=\"225.401661\" xlink:href=\"#m9c0764c6b5\" y=\"76.288586\"/>\n     <use style=\"fill:#1f77b4;stroke:#333333;\" x=\"96.6457\" xlink:href=\"#m9c0764c6b5\" y=\"199.718897\"/>\n     <use style=\"fill:#1f77b4;stroke:#333333;\" x=\"228.97042\" xlink:href=\"#m9c0764c6b5\" y=\"64.771802\"/>\n     <use style=\"fill:#1f77b4;stroke:#333333;\" x=\"126.391067\" xlink:href=\"#m9c0764c6b5\" y=\"183.32881\"/>\n     <use style=\"fill:#1f77b4;stroke:#333333;\" x=\"215.578495\" xlink:href=\"#m9c0764c6b5\" y=\"78.745917\"/>\n     <use style=\"fill:#1f77b4;stroke:#333333;\" x=\"101.216289\" xlink:href=\"#m9c0764c6b5\" y=\"175.769124\"/>\n    </g>\n   </g>\n   <g id=\"PathCollection_2\">\n    <defs>\n     <path d=\"M 0 3 \nC 0.795609 3 1.55874 2.683901 2.12132 2.12132 \nC 2.683901 1.55874 3 0.795609 3 0 \nC 3 -0.795609 2.683901 -1.55874 2.12132 -2.12132 \nC 1.55874 -2.683901 0.795609 -3 0 -3 \nC -0.795609 -3 -1.55874 -2.683901 -2.12132 -2.12132 \nC -2.683901 -1.55874 -3 -0.795609 -3 0 \nC -3 0.795609 -2.683901 1.55874 -2.12132 2.12132 \nC -1.55874 2.683901 -0.795609 3 0 3 \nz\n\" id=\"m85ea7e4edb\" style=\"stroke:#333333;\"/>\n    </defs>\n    <g clip-path=\"url(#peefea39a0b)\">\n     <use style=\"fill:#ff7f0e;stroke:#333333;\" x=\"125.178373\" xlink:href=\"#m85ea7e4edb\" y=\"68.695055\"/>\n     <use style=\"fill:#ff7f0e;stroke:#333333;\" x=\"224.851465\" xlink:href=\"#m85ea7e4edb\" y=\"175.478229\"/>\n     <use style=\"fill:#ff7f0e;stroke:#333333;\" x=\"108.667597\" xlink:href=\"#m85ea7e4edb\" y=\"83.396386\"/>\n     <use style=\"fill:#ff7f0e;stroke:#333333;\" x=\"121.091795\" xlink:href=\"#m85ea7e4edb\" y=\"68.267218\"/>\n     <use style=\"fill:#ff7f0e;stroke:#333333;\" x=\"216.579299\" xlink:href=\"#m85ea7e4edb\" y=\"198.564839\"/>\n     <use style=\"fill:#ff7f0e;stroke:#333333;\" x=\"222.346913\" xlink:href=\"#m85ea7e4edb\" y=\"175.21967\"/>\n     <use style=\"fill:#ff7f0e;stroke:#333333;\" x=\"108.209949\" xlink:href=\"#m85ea7e4edb\" y=\"68.733509\"/>\n     <use style=\"fill:#ff7f0e;stroke:#333333;\" x=\"139.263518\" xlink:href=\"#m85ea7e4edb\" y=\"75.21173\"/>\n     <use style=\"fill:#ff7f0e;stroke:#333333;\" x=\"104.544983\" xlink:href=\"#m85ea7e4edb\" y=\"79.539108\"/>\n     <use style=\"fill:#ff7f0e;stroke:#333333;\" x=\"220.011741\" xlink:href=\"#m85ea7e4edb\" y=\"167.402768\"/>\n     <use style=\"fill:#ff7f0e;stroke:#333333;\" x=\"127.540204\" xlink:href=\"#m85ea7e4edb\" y=\"70.289201\"/>\n     <use style=\"fill:#ff7f0e;stroke:#333333;\" x=\"133.953639\" xlink:href=\"#m85ea7e4edb\" y=\"62.648365\"/>\n     <use style=\"fill:#ff7f0e;stroke:#333333;\" x=\"105.613863\" xlink:href=\"#m85ea7e4edb\" y=\"61.318754\"/>\n     <use style=\"fill:#ff7f0e;stroke:#333333;\" x=\"220.311995\" xlink:href=\"#m85ea7e4edb\" y=\"183.991432\"/>\n     <use style=\"fill:#ff7f0e;stroke:#333333;\" x=\"230.365805\" xlink:href=\"#m85ea7e4edb\" y=\"186.652171\"/>\n     <use style=\"fill:#ff7f0e;stroke:#333333;\" x=\"132.394315\" xlink:href=\"#m85ea7e4edb\" y=\"84.913211\"/>\n     <use style=\"fill:#ff7f0e;stroke:#333333;\" x=\"120.411255\" xlink:href=\"#m85ea7e4edb\" y=\"67.52443\"/>\n     <use style=\"fill:#ff7f0e;stroke:#333333;\" x=\"90.549784\" xlink:href=\"#m85ea7e4edb\" y=\"79.963776\"/>\n     <use style=\"fill:#ff7f0e;stroke:#333333;\" x=\"116.911374\" xlink:href=\"#m85ea7e4edb\" y=\"90.693616\"/>\n     <use style=\"fill:#ff7f0e;stroke:#333333;\" x=\"210.557616\" xlink:href=\"#m85ea7e4edb\" y=\"183.648343\"/>\n     <use style=\"fill:#ff7f0e;stroke:#333333;\" x=\"204.876358\" xlink:href=\"#m85ea7e4edb\" y=\"170.794199\"/>\n     <use style=\"fill:#ff7f0e;stroke:#333333;\" x=\"202.139587\" xlink:href=\"#m85ea7e4edb\" y=\"198.509159\"/>\n     <use style=\"fill:#ff7f0e;stroke:#333333;\" x=\"211.163361\" xlink:href=\"#m85ea7e4edb\" y=\"199.599099\"/>\n     <use style=\"fill:#ff7f0e;stroke:#333333;\" x=\"118.534171\" xlink:href=\"#m85ea7e4edb\" y=\"68.017496\"/>\n     <use style=\"fill:#ff7f0e;stroke:#333333;\" x=\"111.162024\" xlink:href=\"#m85ea7e4edb\" y=\"72.872812\"/>\n     <use style=\"fill:#ff7f0e;stroke:#333333;\" x=\"239.095993\" xlink:href=\"#m85ea7e4edb\" y=\"187.680303\"/>\n     <use style=\"fill:#ff7f0e;stroke:#333333;\" x=\"225.591791\" xlink:href=\"#m85ea7e4edb\" y=\"190.179964\"/>\n     <use style=\"fill:#ff7f0e;stroke:#333333;\" x=\"234.952775\" xlink:href=\"#m85ea7e4edb\" y=\"217.434694\"/>\n     <use style=\"fill:#ff7f0e;stroke:#333333;\" x=\"231.349982\" xlink:href=\"#m85ea7e4edb\" y=\"166.152427\"/>\n     <use style=\"fill:#ff7f0e;stroke:#333333;\" x=\"120.544482\" xlink:href=\"#m85ea7e4edb\" y=\"82.762712\"/>\n     <use style=\"fill:#ff7f0e;stroke:#333333;\" x=\"122.721596\" xlink:href=\"#m85ea7e4edb\" y=\"91.392533\"/>\n     <use style=\"fill:#ff7f0e;stroke:#333333;\" x=\"226.319765\" xlink:href=\"#m85ea7e4edb\" y=\"194.983843\"/>\n     <use style=\"fill:#ff7f0e;stroke:#333333;\" x=\"115.081856\" xlink:href=\"#m85ea7e4edb\" y=\"60.520637\"/>\n     <use style=\"fill:#ff7f0e;stroke:#333333;\" x=\"218.890534\" xlink:href=\"#m85ea7e4edb\" y=\"197.011464\"/>\n     <use style=\"fill:#ff7f0e;stroke:#333333;\" x=\"218.478314\" xlink:href=\"#m85ea7e4edb\" y=\"188.77786\"/>\n     <use style=\"fill:#ff7f0e;stroke:#333333;\" x=\"197.222451\" xlink:href=\"#m85ea7e4edb\" y=\"193.267533\"/>\n     <use style=\"fill:#ff7f0e;stroke:#333333;\" x=\"225.388338\" xlink:href=\"#m85ea7e4edb\" y=\"176.482988\"/>\n     <use style=\"fill:#ff7f0e;stroke:#333333;\" x=\"117.554541\" xlink:href=\"#m85ea7e4edb\" y=\"88.194015\"/>\n     <use style=\"fill:#ff7f0e;stroke:#333333;\" x=\"229.948117\" xlink:href=\"#m85ea7e4edb\" y=\"184.462126\"/>\n     <use style=\"fill:#ff7f0e;stroke:#333333;\" x=\"114.474501\" xlink:href=\"#m85ea7e4edb\" y=\"65.279423\"/>\n     <use style=\"fill:#ff7f0e;stroke:#333333;\" x=\"215.295841\" xlink:href=\"#m85ea7e4edb\" y=\"187.868763\"/>\n     <use style=\"fill:#ff7f0e;stroke:#333333;\" x=\"108.470375\" xlink:href=\"#m85ea7e4edb\" y=\"55.82585\"/>\n     <use style=\"fill:#ff7f0e;stroke:#333333;\" x=\"115.509132\" xlink:href=\"#m85ea7e4edb\" y=\"65.218924\"/>\n     <use style=\"fill:#ff7f0e;stroke:#333333;\" x=\"111.486901\" xlink:href=\"#m85ea7e4edb\" y=\"80.466816\"/>\n     <use style=\"fill:#ff7f0e;stroke:#333333;\" x=\"122.3798\" xlink:href=\"#m85ea7e4edb\" y=\"68.118355\"/>\n     <use style=\"fill:#ff7f0e;stroke:#333333;\" x=\"218.148788\" xlink:href=\"#m85ea7e4edb\" y=\"173.754435\"/>\n     <use style=\"fill:#ff7f0e;stroke:#333333;\" x=\"112.71158\" xlink:href=\"#m85ea7e4edb\" y=\"70.029941\"/>\n     <use style=\"fill:#ff7f0e;stroke:#333333;\" x=\"132.518908\" xlink:href=\"#m85ea7e4edb\" y=\"82.530552\"/>\n     <use style=\"fill:#ff7f0e;stroke:#333333;\" x=\"100.649868\" xlink:href=\"#m85ea7e4edb\" y=\"65.795443\"/>\n     <use style=\"fill:#ff7f0e;stroke:#333333;\" x=\"211.331257\" xlink:href=\"#m85ea7e4edb\" y=\"194.941491\"/>\n     <use style=\"fill:#ff7f0e;stroke:#333333;\" x=\"111.889557\" xlink:href=\"#m85ea7e4edb\" y=\"85.836914\"/>\n     <use style=\"fill:#ff7f0e;stroke:#333333;\" x=\"225.841694\" xlink:href=\"#m85ea7e4edb\" y=\"174.105084\"/>\n     <use style=\"fill:#ff7f0e;stroke:#333333;\" x=\"103.441629\" xlink:href=\"#m85ea7e4edb\" y=\"101.394359\"/>\n     <use style=\"fill:#ff7f0e;stroke:#333333;\" x=\"101.714698\" xlink:href=\"#m85ea7e4edb\" y=\"67.579693\"/>\n     <use style=\"fill:#ff7f0e;stroke:#333333;\" x=\"218.124261\" xlink:href=\"#m85ea7e4edb\" y=\"171.789029\"/>\n     <use style=\"fill:#ff7f0e;stroke:#333333;\" x=\"125.532935\" xlink:href=\"#m85ea7e4edb\" y=\"91.044565\"/>\n     <use style=\"fill:#ff7f0e;stroke:#333333;\" x=\"105.579276\" xlink:href=\"#m85ea7e4edb\" y=\"59.701317\"/>\n     <use style=\"fill:#ff7f0e;stroke:#333333;\" x=\"139.111315\" xlink:href=\"#m85ea7e4edb\" y=\"83.494497\"/>\n     <use style=\"fill:#ff7f0e;stroke:#333333;\" x=\"102.155689\" xlink:href=\"#m85ea7e4edb\" y=\"65.482591\"/>\n     <use style=\"fill:#ff7f0e;stroke:#333333;\" x=\"114.830009\" xlink:href=\"#m85ea7e4edb\" y=\"74.766578\"/>\n     <use style=\"fill:#ff7f0e;stroke:#333333;\" x=\"113.153647\" xlink:href=\"#m85ea7e4edb\" y=\"88.557477\"/>\n     <use style=\"fill:#ff7f0e;stroke:#333333;\" x=\"111.133429\" xlink:href=\"#m85ea7e4edb\" y=\"88.130703\"/>\n     <use style=\"fill:#ff7f0e;stroke:#333333;\" x=\"117.950865\" xlink:href=\"#m85ea7e4edb\" y=\"82.37051\"/>\n     <use style=\"fill:#ff7f0e;stroke:#333333;\" x=\"131.511719\" xlink:href=\"#m85ea7e4edb\" y=\"78.099638\"/>\n     <use style=\"fill:#ff7f0e;stroke:#333333;\" x=\"94.097237\" xlink:href=\"#m85ea7e4edb\" y=\"84.596555\"/>\n     <use style=\"fill:#ff7f0e;stroke:#333333;\" x=\"223.38967\" xlink:href=\"#m85ea7e4edb\" y=\"188.18992\"/>\n     <use style=\"fill:#ff7f0e;stroke:#333333;\" x=\"106.457492\" xlink:href=\"#m85ea7e4edb\" y=\"79.645092\"/>\n     <use style=\"fill:#ff7f0e;stroke:#333333;\" x=\"212.228948\" xlink:href=\"#m85ea7e4edb\" y=\"185.341545\"/>\n     <use style=\"fill:#ff7f0e;stroke:#333333;\" x=\"100.331085\" xlink:href=\"#m85ea7e4edb\" y=\"75.501719\"/>\n     <use style=\"fill:#ff7f0e;stroke:#333333;\" x=\"117.896719\" xlink:href=\"#m85ea7e4edb\" y=\"73.395675\"/>\n     <use style=\"fill:#ff7f0e;stroke:#333333;\" x=\"128.97734\" xlink:href=\"#m85ea7e4edb\" y=\"75.3242\"/>\n     <use style=\"fill:#ff7f0e;stroke:#333333;\" x=\"221.341358\" xlink:href=\"#m85ea7e4edb\" y=\"198.667093\"/>\n     <use style=\"fill:#ff7f0e;stroke:#333333;\" x=\"106.560792\" xlink:href=\"#m85ea7e4edb\" y=\"72.76607\"/>\n     <use style=\"fill:#ff7f0e;stroke:#333333;\" x=\"229.979442\" xlink:href=\"#m85ea7e4edb\" y=\"166.640986\"/>\n     <use style=\"fill:#ff7f0e;stroke:#333333;\" x=\"204.813668\" xlink:href=\"#m85ea7e4edb\" y=\"179.273336\"/>\n     <use style=\"fill:#ff7f0e;stroke:#333333;\" x=\"128.333266\" xlink:href=\"#m85ea7e4edb\" y=\"85.919329\"/>\n     <use style=\"fill:#ff7f0e;stroke:#333333;\" x=\"223.971075\" xlink:href=\"#m85ea7e4edb\" y=\"184.407487\"/>\n     <use style=\"fill:#ff7f0e;stroke:#333333;\" x=\"206.904459\" xlink:href=\"#m85ea7e4edb\" y=\"196.728223\"/>\n     <use style=\"fill:#ff7f0e;stroke:#333333;\" x=\"111.423424\" xlink:href=\"#m85ea7e4edb\" y=\"61.725906\"/>\n     <use style=\"fill:#ff7f0e;stroke:#333333;\" x=\"226.197276\" xlink:href=\"#m85ea7e4edb\" y=\"185.355186\"/>\n     <use style=\"fill:#ff7f0e;stroke:#333333;\" x=\"116.17048\" xlink:href=\"#m85ea7e4edb\" y=\"72.202758\"/>\n     <use style=\"fill:#ff7f0e;stroke:#333333;\" x=\"227.646693\" xlink:href=\"#m85ea7e4edb\" y=\"197.859103\"/>\n     <use style=\"fill:#ff7f0e;stroke:#333333;\" x=\"116.146673\" xlink:href=\"#m85ea7e4edb\" y=\"64.919706\"/>\n     <use style=\"fill:#ff7f0e;stroke:#333333;\" x=\"227.455073\" xlink:href=\"#m85ea7e4edb\" y=\"183.832042\"/>\n     <use style=\"fill:#ff7f0e;stroke:#333333;\" x=\"234.21994\" xlink:href=\"#m85ea7e4edb\" y=\"175.228614\"/>\n     <use style=\"fill:#ff7f0e;stroke:#333333;\" x=\"125.013678\" xlink:href=\"#m85ea7e4edb\" y=\"80.384647\"/>\n     <use style=\"fill:#ff7f0e;stroke:#333333;\" x=\"119.427327\" xlink:href=\"#m85ea7e4edb\" y=\"87.45262\"/>\n     <use style=\"fill:#ff7f0e;stroke:#333333;\" x=\"110.52145\" xlink:href=\"#m85ea7e4edb\" y=\"80.608344\"/>\n     <use style=\"fill:#ff7f0e;stroke:#333333;\" x=\"211.159589\" xlink:href=\"#m85ea7e4edb\" y=\"191.219631\"/>\n     <use style=\"fill:#ff7f0e;stroke:#333333;\" x=\"232.246235\" xlink:href=\"#m85ea7e4edb\" y=\"181.924131\"/>\n     <use style=\"fill:#ff7f0e;stroke:#333333;\" x=\"221.37814\" xlink:href=\"#m85ea7e4edb\" y=\"183.936089\"/>\n     <use style=\"fill:#ff7f0e;stroke:#333333;\" x=\"214.824677\" xlink:href=\"#m85ea7e4edb\" y=\"184.041611\"/>\n     <use style=\"fill:#ff7f0e;stroke:#333333;\" x=\"226.972051\" xlink:href=\"#m85ea7e4edb\" y=\"171.394308\"/>\n     <use style=\"fill:#ff7f0e;stroke:#333333;\" x=\"214.419566\" xlink:href=\"#m85ea7e4edb\" y=\"195.477225\"/>\n     <use style=\"fill:#ff7f0e;stroke:#333333;\" x=\"108.308426\" xlink:href=\"#m85ea7e4edb\" y=\"73.41404\"/>\n     <use style=\"fill:#ff7f0e;stroke:#333333;\" x=\"227.708035\" xlink:href=\"#m85ea7e4edb\" y=\"170.612219\"/>\n     <use style=\"fill:#ff7f0e;stroke:#333333;\" x=\"111.842854\" xlink:href=\"#m85ea7e4edb\" y=\"43.555351\"/>\n     <use style=\"fill:#ff7f0e;stroke:#333333;\" x=\"206.796822\" xlink:href=\"#m85ea7e4edb\" y=\"194.003185\"/>\n     <use style=\"fill:#ff7f0e;stroke:#333333;\" x=\"112.671458\" xlink:href=\"#m85ea7e4edb\" y=\"67.262175\"/>\n     <use style=\"fill:#ff7f0e;stroke:#333333;\" x=\"101.049211\" xlink:href=\"#m85ea7e4edb\" y=\"61.48917\"/>\n     <use style=\"fill:#ff7f0e;stroke:#333333;\" x=\"115.904829\" xlink:href=\"#m85ea7e4edb\" y=\"60.127275\"/>\n     <use style=\"fill:#ff7f0e;stroke:#333333;\" x=\"120.543781\" xlink:href=\"#m85ea7e4edb\" y=\"69.513092\"/>\n     <use style=\"fill:#ff7f0e;stroke:#333333;\" x=\"211.082831\" xlink:href=\"#m85ea7e4edb\" y=\"199.668807\"/>\n     <use style=\"fill:#ff7f0e;stroke:#333333;\" x=\"108.338022\" xlink:href=\"#m85ea7e4edb\" y=\"78.846768\"/>\n     <use style=\"fill:#ff7f0e;stroke:#333333;\" x=\"225.882908\" xlink:href=\"#m85ea7e4edb\" y=\"193.164434\"/>\n     <use style=\"fill:#ff7f0e;stroke:#333333;\" x=\"246.169435\" xlink:href=\"#m85ea7e4edb\" y=\"193.737029\"/>\n     <use style=\"fill:#ff7f0e;stroke:#333333;\" x=\"123.146425\" xlink:href=\"#m85ea7e4edb\" y=\"89.706478\"/>\n    </g>\n   </g>\n   <g id=\"matplotlib.axis_1\">\n    <g id=\"xtick_1\">\n     <g id=\"line2d_1\">\n      <defs>\n       <path d=\"M 0 0 \nL 0 3.5 \n\" id=\"m67b2ff3554\" style=\"stroke:#000000;stroke-width:0.8;\"/>\n      </defs>\n      <g>\n       <use style=\"stroke:#000000;stroke-width:0.8;\" x=\"58.523438\" xlink:href=\"#m67b2ff3554\" y=\"239.758125\"/>\n      </g>\n     </g>\n     <g id=\"text_1\">\n      <!-- −0.5 -->\n      <defs>\n       <path d=\"M 10.59375 35.5 \nL 73.1875 35.5 \nL 73.1875 27.203125 \nL 10.59375 27.203125 \nz\n\" id=\"DejaVuSans-8722\"/>\n       <path d=\"M 31.78125 66.40625 \nQ 24.171875 66.40625 20.328125 58.90625 \nQ 16.5 51.421875 16.5 36.375 \nQ 16.5 21.390625 20.328125 13.890625 \nQ 24.171875 6.390625 31.78125 6.390625 \nQ 39.453125 6.390625 43.28125 13.890625 \nQ 47.125 21.390625 47.125 36.375 \nQ 47.125 51.421875 43.28125 58.90625 \nQ 39.453125 66.40625 31.78125 66.40625 \nz\nM 31.78125 74.21875 \nQ 44.046875 74.21875 50.515625 64.515625 \nQ 56.984375 54.828125 56.984375 36.375 \nQ 56.984375 17.96875 50.515625 8.265625 \nQ 44.046875 -1.421875 31.78125 -1.421875 \nQ 19.53125 -1.421875 13.0625 8.265625 \nQ 6.59375 17.96875 6.59375 36.375 \nQ 6.59375 54.828125 13.0625 64.515625 \nQ 19.53125 74.21875 31.78125 74.21875 \nz\n\" id=\"DejaVuSans-48\"/>\n       <path d=\"M 10.6875 12.40625 \nL 21 12.40625 \nL 21 0 \nL 10.6875 0 \nz\n\" id=\"DejaVuSans-46\"/>\n       <path d=\"M 10.796875 72.90625 \nL 49.515625 72.90625 \nL 49.515625 64.59375 \nL 19.828125 64.59375 \nL 19.828125 46.734375 \nQ 21.96875 47.46875 24.109375 47.828125 \nQ 26.265625 48.1875 28.421875 48.1875 \nQ 40.625 48.1875 47.75 41.5 \nQ 54.890625 34.8125 54.890625 23.390625 \nQ 54.890625 11.625 47.5625 5.09375 \nQ 40.234375 -1.421875 26.90625 -1.421875 \nQ 22.3125 -1.421875 17.546875 -0.640625 \nQ 12.796875 0.140625 7.71875 1.703125 \nL 7.71875 11.625 \nQ 12.109375 9.234375 16.796875 8.0625 \nQ 21.484375 6.890625 26.703125 6.890625 \nQ 35.15625 6.890625 40.078125 11.328125 \nQ 45.015625 15.765625 45.015625 23.390625 \nQ 45.015625 31 40.078125 35.4375 \nQ 35.15625 39.890625 26.703125 39.890625 \nQ 22.75 39.890625 18.8125 39.015625 \nQ 14.890625 38.140625 10.796875 36.28125 \nz\n\" id=\"DejaVuSans-53\"/>\n      </defs>\n      <g transform=\"translate(46.382031 254.356562)scale(0.1 -0.1)\">\n       <use xlink:href=\"#DejaVuSans-8722\"/>\n       <use x=\"83.789062\" xlink:href=\"#DejaVuSans-48\"/>\n       <use x=\"147.412109\" xlink:href=\"#DejaVuSans-46\"/>\n       <use x=\"179.199219\" xlink:href=\"#DejaVuSans-53\"/>\n      </g>\n     </g>\n    </g>\n    <g id=\"xtick_2\">\n     <g id=\"line2d_2\">\n      <g>\n       <use style=\"stroke:#000000;stroke-width:0.8;\" x=\"112.883437\" xlink:href=\"#m67b2ff3554\" y=\"239.758125\"/>\n      </g>\n     </g>\n     <g id=\"text_2\">\n      <!-- 0.0 -->\n      <g transform=\"translate(104.931875 254.356562)scale(0.1 -0.1)\">\n       <use xlink:href=\"#DejaVuSans-48\"/>\n       <use x=\"63.623047\" xlink:href=\"#DejaVuSans-46\"/>\n       <use x=\"95.410156\" xlink:href=\"#DejaVuSans-48\"/>\n      </g>\n     </g>\n    </g>\n    <g id=\"xtick_3\">\n     <g id=\"line2d_3\">\n      <g>\n       <use style=\"stroke:#000000;stroke-width:0.8;\" x=\"167.243437\" xlink:href=\"#m67b2ff3554\" y=\"239.758125\"/>\n      </g>\n     </g>\n     <g id=\"text_3\">\n      <!-- 0.5 -->\n      <g transform=\"translate(159.291875 254.356562)scale(0.1 -0.1)\">\n       <use xlink:href=\"#DejaVuSans-48\"/>\n       <use x=\"63.623047\" xlink:href=\"#DejaVuSans-46\"/>\n       <use x=\"95.410156\" xlink:href=\"#DejaVuSans-53\"/>\n      </g>\n     </g>\n    </g>\n    <g id=\"xtick_4\">\n     <g id=\"line2d_4\">\n      <g>\n       <use style=\"stroke:#000000;stroke-width:0.8;\" x=\"221.603437\" xlink:href=\"#m67b2ff3554\" y=\"239.758125\"/>\n      </g>\n     </g>\n     <g id=\"text_4\">\n      <!-- 1.0 -->\n      <defs>\n       <path d=\"M 12.40625 8.296875 \nL 28.515625 8.296875 \nL 28.515625 63.921875 \nL 10.984375 60.40625 \nL 10.984375 69.390625 \nL 28.421875 72.90625 \nL 38.28125 72.90625 \nL 38.28125 8.296875 \nL 54.390625 8.296875 \nL 54.390625 0 \nL 12.40625 0 \nz\n\" id=\"DejaVuSans-49\"/>\n      </defs>\n      <g transform=\"translate(213.651875 254.356562)scale(0.1 -0.1)\">\n       <use xlink:href=\"#DejaVuSans-49\"/>\n       <use x=\"63.623047\" xlink:href=\"#DejaVuSans-46\"/>\n       <use x=\"95.410156\" xlink:href=\"#DejaVuSans-48\"/>\n      </g>\n     </g>\n    </g>\n    <g id=\"xtick_5\">\n     <g id=\"line2d_5\">\n      <g>\n       <use style=\"stroke:#000000;stroke-width:0.8;\" x=\"275.963437\" xlink:href=\"#m67b2ff3554\" y=\"239.758125\"/>\n      </g>\n     </g>\n     <g id=\"text_5\">\n      <!-- 1.5 -->\n      <g transform=\"translate(268.011875 254.356562)scale(0.1 -0.1)\">\n       <use xlink:href=\"#DejaVuSans-49\"/>\n       <use x=\"63.623047\" xlink:href=\"#DejaVuSans-46\"/>\n       <use x=\"95.410156\" xlink:href=\"#DejaVuSans-53\"/>\n      </g>\n     </g>\n    </g>\n    <g id=\"text_6\">\n     <!-- $x_1$ -->\n     <defs>\n      <path d=\"M 60.015625 54.6875 \nL 34.90625 27.875 \nL 50.296875 0 \nL 39.984375 0 \nL 28.421875 21.6875 \nL 8.296875 0 \nL -2.59375 0 \nL 24.3125 28.8125 \nL 10.015625 54.6875 \nL 20.3125 54.6875 \nL 30.8125 34.90625 \nL 49.125 54.6875 \nz\n\" id=\"DejaVuSans-Oblique-120\"/>\n     </defs>\n     <g transform=\"translate(161.893438 268.034687)scale(0.1 -0.1)\">\n      <use transform=\"translate(0 0.3125)\" xlink:href=\"#DejaVuSans-Oblique-120\"/>\n      <use transform=\"translate(59.179688 -16.09375)scale(0.7)\" xlink:href=\"#DejaVuSans-49\"/>\n     </g>\n    </g>\n   </g>\n   <g id=\"matplotlib.axis_2\">\n    <g id=\"ytick_1\">\n     <g id=\"line2d_6\">\n      <defs>\n       <path d=\"M 0 0 \nL -3.5 0 \n\" id=\"mf03a484317\" style=\"stroke:#000000;stroke-width:0.8;\"/>\n      </defs>\n      <g>\n       <use style=\"stroke:#000000;stroke-width:0.8;\" x=\"58.523438\" xlink:href=\"#mf03a484317\" y=\"239.758125\"/>\n      </g>\n     </g>\n     <g id=\"text_7\">\n      <!-- −0.50 -->\n      <g transform=\"translate(20.878125 243.557344)scale(0.1 -0.1)\">\n       <use xlink:href=\"#DejaVuSans-8722\"/>\n       <use x=\"83.789062\" xlink:href=\"#DejaVuSans-48\"/>\n       <use x=\"147.412109\" xlink:href=\"#DejaVuSans-46\"/>\n       <use x=\"179.199219\" xlink:href=\"#DejaVuSans-53\"/>\n       <use x=\"242.822266\" xlink:href=\"#DejaVuSans-48\"/>\n      </g>\n     </g>\n    </g>\n    <g id=\"ytick_2\">\n     <g id=\"line2d_7\">\n      <g>\n       <use style=\"stroke:#000000;stroke-width:0.8;\" x=\"58.523438\" xlink:href=\"#mf03a484317\" y=\"212.578125\"/>\n      </g>\n     </g>\n     <g id=\"text_8\">\n      <!-- −0.25 -->\n      <defs>\n       <path d=\"M 19.1875 8.296875 \nL 53.609375 8.296875 \nL 53.609375 0 \nL 7.328125 0 \nL 7.328125 8.296875 \nQ 12.9375 14.109375 22.625 23.890625 \nQ 32.328125 33.6875 34.8125 36.53125 \nQ 39.546875 41.84375 41.421875 45.53125 \nQ 43.3125 49.21875 43.3125 52.78125 \nQ 43.3125 58.59375 39.234375 62.25 \nQ 35.15625 65.921875 28.609375 65.921875 \nQ 23.96875 65.921875 18.8125 64.3125 \nQ 13.671875 62.703125 7.8125 59.421875 \nL 7.8125 69.390625 \nQ 13.765625 71.78125 18.9375 73 \nQ 24.125 74.21875 28.421875 74.21875 \nQ 39.75 74.21875 46.484375 68.546875 \nQ 53.21875 62.890625 53.21875 53.421875 \nQ 53.21875 48.921875 51.53125 44.890625 \nQ 49.859375 40.875 45.40625 35.40625 \nQ 44.1875 33.984375 37.640625 27.21875 \nQ 31.109375 20.453125 19.1875 8.296875 \nz\n\" id=\"DejaVuSans-50\"/>\n      </defs>\n      <g transform=\"translate(20.878125 216.377344)scale(0.1 -0.1)\">\n       <use xlink:href=\"#DejaVuSans-8722\"/>\n       <use x=\"83.789062\" xlink:href=\"#DejaVuSans-48\"/>\n       <use x=\"147.412109\" xlink:href=\"#DejaVuSans-46\"/>\n       <use x=\"179.199219\" xlink:href=\"#DejaVuSans-50\"/>\n       <use x=\"242.822266\" xlink:href=\"#DejaVuSans-53\"/>\n      </g>\n     </g>\n    </g>\n    <g id=\"ytick_3\">\n     <g id=\"line2d_8\">\n      <g>\n       <use style=\"stroke:#000000;stroke-width:0.8;\" x=\"58.523438\" xlink:href=\"#mf03a484317\" y=\"185.398125\"/>\n      </g>\n     </g>\n     <g id=\"text_9\">\n      <!-- 0.00 -->\n      <g transform=\"translate(29.257812 189.197344)scale(0.1 -0.1)\">\n       <use xlink:href=\"#DejaVuSans-48\"/>\n       <use x=\"63.623047\" xlink:href=\"#DejaVuSans-46\"/>\n       <use x=\"95.410156\" xlink:href=\"#DejaVuSans-48\"/>\n       <use x=\"159.033203\" xlink:href=\"#DejaVuSans-48\"/>\n      </g>\n     </g>\n    </g>\n    <g id=\"ytick_4\">\n     <g id=\"line2d_9\">\n      <g>\n       <use style=\"stroke:#000000;stroke-width:0.8;\" x=\"58.523438\" xlink:href=\"#mf03a484317\" y=\"158.218125\"/>\n      </g>\n     </g>\n     <g id=\"text_10\">\n      <!-- 0.25 -->\n      <g transform=\"translate(29.257812 162.017344)scale(0.1 -0.1)\">\n       <use xlink:href=\"#DejaVuSans-48\"/>\n       <use x=\"63.623047\" xlink:href=\"#DejaVuSans-46\"/>\n       <use x=\"95.410156\" xlink:href=\"#DejaVuSans-50\"/>\n       <use x=\"159.033203\" xlink:href=\"#DejaVuSans-53\"/>\n      </g>\n     </g>\n    </g>\n    <g id=\"ytick_5\">\n     <g id=\"line2d_10\">\n      <g>\n       <use style=\"stroke:#000000;stroke-width:0.8;\" x=\"58.523438\" xlink:href=\"#mf03a484317\" y=\"131.038125\"/>\n      </g>\n     </g>\n     <g id=\"text_11\">\n      <!-- 0.50 -->\n      <g transform=\"translate(29.257812 134.837344)scale(0.1 -0.1)\">\n       <use xlink:href=\"#DejaVuSans-48\"/>\n       <use x=\"63.623047\" xlink:href=\"#DejaVuSans-46\"/>\n       <use x=\"95.410156\" xlink:href=\"#DejaVuSans-53\"/>\n       <use x=\"159.033203\" xlink:href=\"#DejaVuSans-48\"/>\n      </g>\n     </g>\n    </g>\n    <g id=\"ytick_6\">\n     <g id=\"line2d_11\">\n      <g>\n       <use style=\"stroke:#000000;stroke-width:0.8;\" x=\"58.523438\" xlink:href=\"#mf03a484317\" y=\"103.858125\"/>\n      </g>\n     </g>\n     <g id=\"text_12\">\n      <!-- 0.75 -->\n      <defs>\n       <path d=\"M 8.203125 72.90625 \nL 55.078125 72.90625 \nL 55.078125 68.703125 \nL 28.609375 0 \nL 18.3125 0 \nL 43.21875 64.59375 \nL 8.203125 64.59375 \nz\n\" id=\"DejaVuSans-55\"/>\n      </defs>\n      <g transform=\"translate(29.257812 107.657344)scale(0.1 -0.1)\">\n       <use xlink:href=\"#DejaVuSans-48\"/>\n       <use x=\"63.623047\" xlink:href=\"#DejaVuSans-46\"/>\n       <use x=\"95.410156\" xlink:href=\"#DejaVuSans-55\"/>\n       <use x=\"159.033203\" xlink:href=\"#DejaVuSans-53\"/>\n      </g>\n     </g>\n    </g>\n    <g id=\"ytick_7\">\n     <g id=\"line2d_12\">\n      <g>\n       <use style=\"stroke:#000000;stroke-width:0.8;\" x=\"58.523438\" xlink:href=\"#mf03a484317\" y=\"76.678125\"/>\n      </g>\n     </g>\n     <g id=\"text_13\">\n      <!-- 1.00 -->\n      <g transform=\"translate(29.257812 80.477344)scale(0.1 -0.1)\">\n       <use xlink:href=\"#DejaVuSans-49\"/>\n       <use x=\"63.623047\" xlink:href=\"#DejaVuSans-46\"/>\n       <use x=\"95.410156\" xlink:href=\"#DejaVuSans-48\"/>\n       <use x=\"159.033203\" xlink:href=\"#DejaVuSans-48\"/>\n      </g>\n     </g>\n    </g>\n    <g id=\"ytick_8\">\n     <g id=\"line2d_13\">\n      <g>\n       <use style=\"stroke:#000000;stroke-width:0.8;\" x=\"58.523438\" xlink:href=\"#mf03a484317\" y=\"49.498125\"/>\n      </g>\n     </g>\n     <g id=\"text_14\">\n      <!-- 1.25 -->\n      <g transform=\"translate(29.257812 53.297344)scale(0.1 -0.1)\">\n       <use xlink:href=\"#DejaVuSans-49\"/>\n       <use x=\"63.623047\" xlink:href=\"#DejaVuSans-46\"/>\n       <use x=\"95.410156\" xlink:href=\"#DejaVuSans-50\"/>\n       <use x=\"159.033203\" xlink:href=\"#DejaVuSans-53\"/>\n      </g>\n     </g>\n    </g>\n    <g id=\"ytick_9\">\n     <g id=\"line2d_14\">\n      <g>\n       <use style=\"stroke:#000000;stroke-width:0.8;\" x=\"58.523438\" xlink:href=\"#mf03a484317\" y=\"22.318125\"/>\n      </g>\n     </g>\n     <g id=\"text_15\">\n      <!-- 1.50 -->\n      <g transform=\"translate(29.257812 26.117344)scale(0.1 -0.1)\">\n       <use xlink:href=\"#DejaVuSans-49\"/>\n       <use x=\"63.623047\" xlink:href=\"#DejaVuSans-46\"/>\n       <use x=\"95.410156\" xlink:href=\"#DejaVuSans-53\"/>\n       <use x=\"159.033203\" xlink:href=\"#DejaVuSans-48\"/>\n      </g>\n     </g>\n    </g>\n    <g id=\"text_16\">\n     <!-- $x_2$ -->\n     <g transform=\"translate(14.798437 136.388125)rotate(-90)scale(0.1 -0.1)\">\n      <use transform=\"translate(0 0.3125)\" xlink:href=\"#DejaVuSans-Oblique-120\"/>\n      <use transform=\"translate(59.179688 -16.09375)scale(0.7)\" xlink:href=\"#DejaVuSans-50\"/>\n     </g>\n    </g>\n   </g>\n   <g id=\"patch_3\">\n    <path d=\"M 58.523438 239.758125 \nL 58.523438 22.318125 \n\" style=\"fill:none;stroke:#000000;stroke-linecap:square;stroke-linejoin:miter;stroke-width:0.8;\"/>\n   </g>\n   <g id=\"patch_4\">\n    <path d=\"M 275.963437 239.758125 \nL 275.963437 22.318125 \n\" style=\"fill:none;stroke:#000000;stroke-linecap:square;stroke-linejoin:miter;stroke-width:0.8;\"/>\n   </g>\n   <g id=\"patch_5\">\n    <path d=\"M 58.523438 239.758125 \nL 275.963437 239.758125 \n\" style=\"fill:none;stroke:#000000;stroke-linecap:square;stroke-linejoin:miter;stroke-width:0.8;\"/>\n   </g>\n   <g id=\"patch_6\">\n    <path d=\"M 58.523438 22.318125 \nL 275.963437 22.318125 \n\" style=\"fill:none;stroke:#000000;stroke-linecap:square;stroke-linejoin:miter;stroke-width:0.8;\"/>\n   </g>\n   <g id=\"text_17\">\n    <!-- Dataset samples -->\n    <defs>\n     <path d=\"M 19.671875 64.796875 \nL 19.671875 8.109375 \nL 31.59375 8.109375 \nQ 46.6875 8.109375 53.6875 14.9375 \nQ 60.6875 21.78125 60.6875 36.53125 \nQ 60.6875 51.171875 53.6875 57.984375 \nQ 46.6875 64.796875 31.59375 64.796875 \nz\nM 9.8125 72.90625 \nL 30.078125 72.90625 \nQ 51.265625 72.90625 61.171875 64.09375 \nQ 71.09375 55.28125 71.09375 36.53125 \nQ 71.09375 17.671875 61.125 8.828125 \nQ 51.171875 0 30.078125 0 \nL 9.8125 0 \nz\n\" id=\"DejaVuSans-68\"/>\n     <path d=\"M 34.28125 27.484375 \nQ 23.390625 27.484375 19.1875 25 \nQ 14.984375 22.515625 14.984375 16.5 \nQ 14.984375 11.71875 18.140625 8.90625 \nQ 21.296875 6.109375 26.703125 6.109375 \nQ 34.1875 6.109375 38.703125 11.40625 \nQ 43.21875 16.703125 43.21875 25.484375 \nL 43.21875 27.484375 \nz\nM 52.203125 31.203125 \nL 52.203125 0 \nL 43.21875 0 \nL 43.21875 8.296875 \nQ 40.140625 3.328125 35.546875 0.953125 \nQ 30.953125 -1.421875 24.3125 -1.421875 \nQ 15.921875 -1.421875 10.953125 3.296875 \nQ 6 8.015625 6 15.921875 \nQ 6 25.140625 12.171875 29.828125 \nQ 18.359375 34.515625 30.609375 34.515625 \nL 43.21875 34.515625 \nL 43.21875 35.40625 \nQ 43.21875 41.609375 39.140625 45 \nQ 35.0625 48.390625 27.6875 48.390625 \nQ 23 48.390625 18.546875 47.265625 \nQ 14.109375 46.140625 10.015625 43.890625 \nL 10.015625 52.203125 \nQ 14.9375 54.109375 19.578125 55.046875 \nQ 24.21875 56 28.609375 56 \nQ 40.484375 56 46.34375 49.84375 \nQ 52.203125 43.703125 52.203125 31.203125 \nz\n\" id=\"DejaVuSans-97\"/>\n     <path d=\"M 18.3125 70.21875 \nL 18.3125 54.6875 \nL 36.8125 54.6875 \nL 36.8125 47.703125 \nL 18.3125 47.703125 \nL 18.3125 18.015625 \nQ 18.3125 11.328125 20.140625 9.421875 \nQ 21.96875 7.515625 27.59375 7.515625 \nL 36.8125 7.515625 \nL 36.8125 0 \nL 27.59375 0 \nQ 17.1875 0 13.234375 3.875 \nQ 9.28125 7.765625 9.28125 18.015625 \nL 9.28125 47.703125 \nL 2.6875 47.703125 \nL 2.6875 54.6875 \nL 9.28125 54.6875 \nL 9.28125 70.21875 \nz\n\" id=\"DejaVuSans-116\"/>\n     <path d=\"M 44.28125 53.078125 \nL 44.28125 44.578125 \nQ 40.484375 46.53125 36.375 47.5 \nQ 32.28125 48.484375 27.875 48.484375 \nQ 21.1875 48.484375 17.84375 46.4375 \nQ 14.5 44.390625 14.5 40.28125 \nQ 14.5 37.15625 16.890625 35.375 \nQ 19.28125 33.59375 26.515625 31.984375 \nL 29.59375 31.296875 \nQ 39.15625 29.25 43.1875 25.515625 \nQ 47.21875 21.78125 47.21875 15.09375 \nQ 47.21875 7.46875 41.1875 3.015625 \nQ 35.15625 -1.421875 24.609375 -1.421875 \nQ 20.21875 -1.421875 15.453125 -0.5625 \nQ 10.6875 0.296875 5.421875 2 \nL 5.421875 11.28125 \nQ 10.40625 8.6875 15.234375 7.390625 \nQ 20.0625 6.109375 24.8125 6.109375 \nQ 31.15625 6.109375 34.5625 8.28125 \nQ 37.984375 10.453125 37.984375 14.40625 \nQ 37.984375 18.0625 35.515625 20.015625 \nQ 33.0625 21.96875 24.703125 23.78125 \nL 21.578125 24.515625 \nQ 13.234375 26.265625 9.515625 29.90625 \nQ 5.8125 33.546875 5.8125 39.890625 \nQ 5.8125 47.609375 11.28125 51.796875 \nQ 16.75 56 26.8125 56 \nQ 31.78125 56 36.171875 55.265625 \nQ 40.578125 54.546875 44.28125 53.078125 \nz\n\" id=\"DejaVuSans-115\"/>\n     <path d=\"M 56.203125 29.59375 \nL 56.203125 25.203125 \nL 14.890625 25.203125 \nQ 15.484375 15.921875 20.484375 11.0625 \nQ 25.484375 6.203125 34.421875 6.203125 \nQ 39.59375 6.203125 44.453125 7.46875 \nQ 49.3125 8.734375 54.109375 11.28125 \nL 54.109375 2.78125 \nQ 49.265625 0.734375 44.1875 -0.34375 \nQ 39.109375 -1.421875 33.890625 -1.421875 \nQ 20.796875 -1.421875 13.15625 6.1875 \nQ 5.515625 13.8125 5.515625 26.8125 \nQ 5.515625 40.234375 12.765625 48.109375 \nQ 20.015625 56 32.328125 56 \nQ 43.359375 56 49.78125 48.890625 \nQ 56.203125 41.796875 56.203125 29.59375 \nz\nM 47.21875 32.234375 \nQ 47.125 39.59375 43.09375 43.984375 \nQ 39.0625 48.390625 32.421875 48.390625 \nQ 24.90625 48.390625 20.390625 44.140625 \nQ 15.875 39.890625 15.1875 32.171875 \nz\n\" id=\"DejaVuSans-101\"/>\n     <path id=\"DejaVuSans-32\"/>\n     <path d=\"M 52 44.1875 \nQ 55.375 50.25 60.0625 53.125 \nQ 64.75 56 71.09375 56 \nQ 79.640625 56 84.28125 50.015625 \nQ 88.921875 44.046875 88.921875 33.015625 \nL 88.921875 0 \nL 79.890625 0 \nL 79.890625 32.71875 \nQ 79.890625 40.578125 77.09375 44.375 \nQ 74.3125 48.1875 68.609375 48.1875 \nQ 61.625 48.1875 57.5625 43.546875 \nQ 53.515625 38.921875 53.515625 30.90625 \nL 53.515625 0 \nL 44.484375 0 \nL 44.484375 32.71875 \nQ 44.484375 40.625 41.703125 44.40625 \nQ 38.921875 48.1875 33.109375 48.1875 \nQ 26.21875 48.1875 22.15625 43.53125 \nQ 18.109375 38.875 18.109375 30.90625 \nL 18.109375 0 \nL 9.078125 0 \nL 9.078125 54.6875 \nL 18.109375 54.6875 \nL 18.109375 46.1875 \nQ 21.1875 51.21875 25.484375 53.609375 \nQ 29.78125 56 35.6875 56 \nQ 41.65625 56 45.828125 52.96875 \nQ 50 49.953125 52 44.1875 \nz\n\" id=\"DejaVuSans-109\"/>\n     <path d=\"M 18.109375 8.203125 \nL 18.109375 -20.796875 \nL 9.078125 -20.796875 \nL 9.078125 54.6875 \nL 18.109375 54.6875 \nL 18.109375 46.390625 \nQ 20.953125 51.265625 25.265625 53.625 \nQ 29.59375 56 35.59375 56 \nQ 45.5625 56 51.78125 48.09375 \nQ 58.015625 40.1875 58.015625 27.296875 \nQ 58.015625 14.40625 51.78125 6.484375 \nQ 45.5625 -1.421875 35.59375 -1.421875 \nQ 29.59375 -1.421875 25.265625 0.953125 \nQ 20.953125 3.328125 18.109375 8.203125 \nz\nM 48.6875 27.296875 \nQ 48.6875 37.203125 44.609375 42.84375 \nQ 40.53125 48.484375 33.40625 48.484375 \nQ 26.265625 48.484375 22.1875 42.84375 \nQ 18.109375 37.203125 18.109375 27.296875 \nQ 18.109375 17.390625 22.1875 11.75 \nQ 26.265625 6.109375 33.40625 6.109375 \nQ 40.53125 6.109375 44.609375 11.75 \nQ 48.6875 17.390625 48.6875 27.296875 \nz\n\" id=\"DejaVuSans-112\"/>\n     <path d=\"M 9.421875 75.984375 \nL 18.40625 75.984375 \nL 18.40625 0 \nL 9.421875 0 \nz\n\" id=\"DejaVuSans-108\"/>\n    </defs>\n    <g transform=\"translate(116.900625 16.318125)scale(0.12 -0.12)\">\n     <use xlink:href=\"#DejaVuSans-68\"/>\n     <use x=\"77.001953\" xlink:href=\"#DejaVuSans-97\"/>\n     <use x=\"138.28125\" xlink:href=\"#DejaVuSans-116\"/>\n     <use x=\"177.490234\" xlink:href=\"#DejaVuSans-97\"/>\n     <use x=\"238.769531\" xlink:href=\"#DejaVuSans-115\"/>\n     <use x=\"290.869141\" xlink:href=\"#DejaVuSans-101\"/>\n     <use x=\"352.392578\" xlink:href=\"#DejaVuSans-116\"/>\n     <use x=\"391.601562\" xlink:href=\"#DejaVuSans-32\"/>\n     <use x=\"423.388672\" xlink:href=\"#DejaVuSans-115\"/>\n     <use x=\"475.488281\" xlink:href=\"#DejaVuSans-97\"/>\n     <use x=\"536.767578\" xlink:href=\"#DejaVuSans-109\"/>\n     <use x=\"634.179688\" xlink:href=\"#DejaVuSans-112\"/>\n     <use x=\"697.65625\" xlink:href=\"#DejaVuSans-108\"/>\n     <use x=\"725.439453\" xlink:href=\"#DejaVuSans-101\"/>\n     <use x=\"786.962891\" xlink:href=\"#DejaVuSans-115\"/>\n    </g>\n   </g>\n   <g id=\"legend_1\">\n    <g id=\"patch_7\">\n     <path d=\"M 201.115 147.21625 \nL 268.963437 147.21625 \nQ 270.963437 147.21625 270.963437 145.21625 \nL 270.963437 116.86 \nQ 270.963437 114.86 268.963437 114.86 \nL 201.115 114.86 \nQ 199.115 114.86 199.115 116.86 \nL 199.115 145.21625 \nQ 199.115 147.21625 201.115 147.21625 \nz\n\" style=\"fill:#ffffff;opacity:0.8;stroke:#cccccc;stroke-linejoin:miter;\"/>\n    </g>\n    <g id=\"PathCollection_3\">\n     <g>\n      <use style=\"fill:#1f77b4;stroke:#333333;\" x=\"213.115\" xlink:href=\"#m9c0764c6b5\" y=\"123.833437\"/>\n     </g>\n    </g>\n    <g id=\"text_18\">\n     <!-- Class 0 -->\n     <defs>\n      <path d=\"M 64.40625 67.28125 \nL 64.40625 56.890625 \nQ 59.421875 61.53125 53.78125 63.8125 \nQ 48.140625 66.109375 41.796875 66.109375 \nQ 29.296875 66.109375 22.65625 58.46875 \nQ 16.015625 50.828125 16.015625 36.375 \nQ 16.015625 21.96875 22.65625 14.328125 \nQ 29.296875 6.6875 41.796875 6.6875 \nQ 48.140625 6.6875 53.78125 8.984375 \nQ 59.421875 11.28125 64.40625 15.921875 \nL 64.40625 5.609375 \nQ 59.234375 2.09375 53.4375 0.328125 \nQ 47.65625 -1.421875 41.21875 -1.421875 \nQ 24.65625 -1.421875 15.125 8.703125 \nQ 5.609375 18.84375 5.609375 36.375 \nQ 5.609375 53.953125 15.125 64.078125 \nQ 24.65625 74.21875 41.21875 74.21875 \nQ 47.75 74.21875 53.53125 72.484375 \nQ 59.328125 70.75 64.40625 67.28125 \nz\n\" id=\"DejaVuSans-67\"/>\n     </defs>\n     <g transform=\"translate(231.115 126.458437)scale(0.1 -0.1)\">\n      <use xlink:href=\"#DejaVuSans-67\"/>\n      <use x=\"69.824219\" xlink:href=\"#DejaVuSans-108\"/>\n      <use x=\"97.607422\" xlink:href=\"#DejaVuSans-97\"/>\n      <use x=\"158.886719\" xlink:href=\"#DejaVuSans-115\"/>\n      <use x=\"210.986328\" xlink:href=\"#DejaVuSans-115\"/>\n      <use x=\"263.085938\" xlink:href=\"#DejaVuSans-32\"/>\n      <use x=\"294.873047\" xlink:href=\"#DejaVuSans-48\"/>\n     </g>\n    </g>\n    <g id=\"PathCollection_4\">\n     <g>\n      <use style=\"fill:#ff7f0e;stroke:#333333;\" x=\"213.115\" xlink:href=\"#m85ea7e4edb\" y=\"138.511562\"/>\n     </g>\n    </g>\n    <g id=\"text_19\">\n     <!-- Class 1 -->\n     <g transform=\"translate(231.115 141.136562)scale(0.1 -0.1)\">\n      <use xlink:href=\"#DejaVuSans-67\"/>\n      <use x=\"69.824219\" xlink:href=\"#DejaVuSans-108\"/>\n      <use x=\"97.607422\" xlink:href=\"#DejaVuSans-97\"/>\n      <use x=\"158.886719\" xlink:href=\"#DejaVuSans-115\"/>\n      <use x=\"210.986328\" xlink:href=\"#DejaVuSans-115\"/>\n      <use x=\"263.085938\" xlink:href=\"#DejaVuSans-32\"/>\n      <use x=\"294.873047\" xlink:href=\"#DejaVuSans-49\"/>\n     </g>\n    </g>\n   </g>\n  </g>\n </g>\n <defs>\n  <clipPath id=\"peefea39a0b\">\n   <rect height=\"217.44\" width=\"217.44\" x=\"58.523438\" y=\"22.318125\"/>\n  </clipPath>\n </defs>\n</svg>\n"
          },
          "metadata": {
            "needs_background": "light"
          }
        }
      ]
    },
    {
      "cell_type": "markdown",
      "metadata": {
        "papermill": {
          "duration": 0.221805,
          "end_time": "2021-11-01T12:54:20.765243",
          "exception": false,
          "start_time": "2021-11-01T12:54:20.543438",
          "status": "completed"
        },
        "tags": [],
        "id": "2ebe02a2"
      },
      "source": [
        "The decision boundaries might not look exactly as in the figure in the preamble of this section which can be caused by running it on CPU or a different GPU architecture.\n",
        "Nevertheless, the result on the accuracy metric should be the approximately the same."
      ],
      "id": "2ebe02a2"
    },
    {
      "cell_type": "markdown",
      "metadata": {
        "papermill": {
          "duration": 0.22528,
          "end_time": "2021-11-01T12:54:21.212485",
          "exception": false,
          "start_time": "2021-11-01T12:54:20.987205",
          "status": "completed"
        },
        "tags": [],
        "id": "0cb47d58"
      },
      "source": [
        "## Additional features we didn't get to discuss yet\n",
        "\n",
        "Finally, you are all set to start with your own PyTorch project!\n",
        "In summary, we have looked at how we can build neural networks in PyTorch, and train and test them on data.\n",
        "However, there is still much more to PyTorch we haven't discussed yet.\n",
        "In the comming series of Jupyter notebooks, we will discover more and more functionalities of PyTorch, so that you also get familiar to PyTorch concepts beyond the basics.\n",
        "If you are already interested in learning more of PyTorch, we recommend the official [tutorial website](https://pytorch.org/tutorials/) that contains many tutorials on various topics.\n",
        "Especially logging with Tensorboard ([tutorial\n",
        "here](https://pytorch.org/tutorials/intermediate/tensorboard_tutorial.html))\n",
        "is a good practice that we will explore from Tutorial 5 on."
      ],
      "id": "0cb47d58"
    },
    {
      "cell_type": "markdown",
      "metadata": {
        "papermill": {
          "duration": 0.221535,
          "end_time": "2021-11-01T12:54:21.655572",
          "exception": false,
          "start_time": "2021-11-01T12:54:21.434037",
          "status": "completed"
        },
        "tags": [],
        "id": "0a66c791"
      },
      "source": [
        "## Congratulations - Time to Join the Community!\n",
        "\n",
        "Congratulations on completing this notebook tutorial! If you enjoyed this and would like to join the Lightning\n",
        "movement, you can do so in the following ways!\n",
        "\n",
        "### Star [Lightning](https://github.com/PyTorchLightning/pytorch-lightning) on GitHub\n",
        "The easiest way to help our community is just by starring the GitHub repos! This helps raise awareness of the cool\n",
        "tools we're building.\n",
        "\n",
        "### Join our [Slack](https://join.slack.com/t/pytorch-lightning/shared_invite/zt-pw5v393p-qRaDgEk24~EjiZNBpSQFgQ)!\n",
        "The best way to keep up to date on the latest advancements is to join our community! Make sure to introduce yourself\n",
        "and share your interests in `#general` channel\n",
        "\n",
        "\n",
        "### Contributions !\n",
        "The best way to contribute to our community is to become a code contributor! At any time you can go to\n",
        "[Lightning](https://github.com/PyTorchLightning/pytorch-lightning) or [Bolt](https://github.com/PyTorchLightning/lightning-bolts)\n",
        "GitHub Issues page and filter for \"good first issue\".\n",
        "\n",
        "* [Lightning good first issue](https://github.com/PyTorchLightning/pytorch-lightning/issues?q=is%3Aopen+is%3Aissue+label%3A%22good+first+issue%22)\n",
        "* [Bolt good first issue](https://github.com/PyTorchLightning/lightning-bolts/issues?q=is%3Aopen+is%3Aissue+label%3A%22good+first+issue%22)\n",
        "* You can also contribute your own notebooks with useful examples !\n",
        "\n",
        "### Great thanks from the entire Pytorch Lightning Team for your interest !\n",
        "\n",
        "![Pytorch Lightning](data:image/png;base64,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){height=\"60px\" width=\"240px\"}"
      ],
      "id": "0a66c791"
    }
  ]
}